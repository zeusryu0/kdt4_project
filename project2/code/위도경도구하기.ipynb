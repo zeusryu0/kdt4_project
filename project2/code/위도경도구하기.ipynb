{
 "cells": [
  {
   "cell_type": "code",
   "execution_count": 12,
   "id": "964e9fa4",
   "metadata": {},
   "outputs": [],
   "source": [
    "import pandas as pd\n",
    "import numpy as np\n",
    "import json\n",
    "import requests"
   ]
  },
  {
   "cell_type": "code",
   "execution_count": 39,
   "id": "9570cd08",
   "metadata": {},
   "outputs": [],
   "source": [
    "# !pip install folium"
   ]
  },
  {
   "cell_type": "code",
   "execution_count": 40,
   "id": "598c9100",
   "metadata": {},
   "outputs": [],
   "source": [
    "api_key = 'dcf8c004ab92b095154a8edbc67cae15'"
   ]
  },
  {
   "cell_type": "code",
   "execution_count": 41,
   "id": "b25d6e12",
   "metadata": {},
   "outputs": [],
   "source": [
    "def addr_to_lat_lon(addr):\n",
    "    url = 'https://dapi.kakao.com/v2/local/search/address.json?query={address}'.format(address=addr)\n",
    "    headers = {\"Authorization\": \"KakaoAK \" + api_key}\n",
    "    result = json.loads(str(requests.get(url, headers=headers).text))\n",
    "    match_first = result['documents'][0]['address']\n",
    "    return float(match_first['x']), float(match_first['y'])"
   ]
  },
  {
   "cell_type": "code",
   "execution_count": 66,
   "id": "c84858b0",
   "metadata": {},
   "outputs": [],
   "source": [
    "# addr_to_lat_lon('울릉도')  #울릉도 없음"
   ]
  },
  {
   "cell_type": "markdown",
   "id": "316a7f84",
   "metadata": {},
   "source": [
    "# 한국 위도 경도"
   ]
  },
  {
   "cell_type": "code",
   "execution_count": 64,
   "id": "875f6e12",
   "metadata": {},
   "outputs": [
    {
     "data": {
      "text/plain": [
       "{'korea': [(128.875906144832, 37.7521080804166),\n",
       "  (127.730207024668, 37.8812440340088),\n",
       "  (127.255138719721, 37.4293941934866),\n",
       "  (128.601805491072, 35.8713802646197),\n",
       "  (127.38483484675, 36.3505388992836),\n",
       "  (129.075087492149, 35.1798200522868),\n",
       "  (126.978652258309, 37.566826004661),\n",
       "  (127.148143800621, 35.8240731508775),\n",
       "  (126.498229141199, 33.4889179032603),\n",
       "  (127.489020156402, 36.6424871337289)]}"
      ]
     },
     "execution_count": 64,
     "metadata": {},
     "output_type": "execute_result"
    }
   ],
   "source": [
    "# 한국 위도 경도\n",
    "korea_city = ['강릉', '춘천', '광주', '대구', '대전', '부산', '서울', '전주', '제주', '청주']\n",
    "korea = dict()\n",
    "lst = []\n",
    "addr_to_lat_lon('강릉')\n",
    "\n",
    "# loc =str(korea_city[0])\n",
    "# loc\n",
    "\n",
    "for city in korea_city:\n",
    "    loc = addr_to_lat_lon(city)\n",
    "    lst.append(loc)\n",
    "    korea['korea']=lst\n",
    "korea"
   ]
  },
  {
   "cell_type": "code",
   "execution_count": null,
   "id": "30059c29",
   "metadata": {},
   "outputs": [],
   "source": []
  },
  {
   "cell_type": "markdown",
   "id": "e3626684",
   "metadata": {},
   "source": [
    "# 주변국 위도경도"
   ]
  },
  {
   "cell_type": "code",
   "execution_count": 6,
   "id": "8b82f93c",
   "metadata": {},
   "outputs": [],
   "source": [
    "# 찾을 도시들\n",
    "\n",
    "areas = [ '혜산', '강계', '신의주', '함흥', '평양', '청진',\n",
    "         '가고시마', '나고야', '난징', '다카마쓰','도쿄', '삿포로', '센다이', '오사카','후쿠오카', '히로시마'\n",
    "        '베이징','상하이', '선양','창춘', '지난',\n",
    "         '블라디보스톡'\n",
    "        ]\n",
    "\n",
    "# areas1 = ['선봉', '삼지연', '청진', '중강', '혜산', '강계', '풍산', '김책', '수풍', '장진', '신의주',\n",
    "#        '구성', '희천', '함흥', '신포', '안주', '양덕', '원산', '평양', '남포', '장전', '사리원',\n",
    "#        '신계', '용연', '해주', '개성', '평강', '가고시마', '나고야', '난징', '다롄', '다카마쓰',\n",
    "#        '도쿄', '베이징', '블라디보스톡', '삿포로', '상하이', '선양', '센다이', '오사카', '지난',\n",
    "#        '창춘', '텐진', '후쿠오카', '히로시마']\n"
   ]
  },
  {
   "cell_type": "code",
   "execution_count": 20,
   "id": "2ef9a8a4",
   "metadata": {},
   "outputs": [
    {
     "data": {
      "text/html": [
       "<div>\n",
       "<style scoped>\n",
       "    .dataframe tbody tr th:only-of-type {\n",
       "        vertical-align: middle;\n",
       "    }\n",
       "\n",
       "    .dataframe tbody tr th {\n",
       "        vertical-align: top;\n",
       "    }\n",
       "\n",
       "    .dataframe thead th {\n",
       "        text-align: right;\n",
       "    }\n",
       "</style>\n",
       "<table border=\"1\" class=\"dataframe\">\n",
       "  <thead>\n",
       "    <tr style=\"text-align: right;\">\n",
       "      <th></th>\n",
       "      <th>country_name</th>\n",
       "      <th>city1</th>\n",
       "      <th>city2</th>\n",
       "      <th>위도</th>\n",
       "      <th>경도</th>\n",
       "    </tr>\n",
       "  </thead>\n",
       "  <tbody>\n",
       "    <tr>\n",
       "      <th>0</th>\n",
       "      <td>United States of America</td>\n",
       "      <td>California</td>\n",
       "      <td>Los Angeles</td>\n",
       "      <td>34.052230</td>\n",
       "      <td>-118.24368</td>\n",
       "    </tr>\n",
       "    <tr>\n",
       "      <th>1</th>\n",
       "      <td>China</td>\n",
       "      <td>Fujian</td>\n",
       "      <td>Fuzhou</td>\n",
       "      <td>26.061390</td>\n",
       "      <td>119.30611</td>\n",
       "    </tr>\n",
       "    <tr>\n",
       "      <th>2</th>\n",
       "      <td>Australia</td>\n",
       "      <td>Victoria</td>\n",
       "      <td>Melbourne</td>\n",
       "      <td>-37.814000</td>\n",
       "      <td>144.96332</td>\n",
       "    </tr>\n",
       "    <tr>\n",
       "      <th>3</th>\n",
       "      <td>China</td>\n",
       "      <td>Guangdong</td>\n",
       "      <td>Guangzhou</td>\n",
       "      <td>23.116670</td>\n",
       "      <td>113.25000</td>\n",
       "    </tr>\n",
       "    <tr>\n",
       "      <th>4</th>\n",
       "      <td>Japan</td>\n",
       "      <td>Tokyo</td>\n",
       "      <td>Tokyo</td>\n",
       "      <td>35.689506</td>\n",
       "      <td>139.69170</td>\n",
       "    </tr>\n",
       "  </tbody>\n",
       "</table>\n",
       "</div>"
      ],
      "text/plain": [
       "               country_name       city1        city2         위도         경도\n",
       "0  United States of America  California  Los Angeles  34.052230 -118.24368\n",
       "1                     China      Fujian       Fuzhou  26.061390  119.30611\n",
       "2                 Australia    Victoria    Melbourne -37.814000  144.96332\n",
       "3                     China   Guangdong    Guangzhou  23.116670  113.25000\n",
       "4                     Japan       Tokyo        Tokyo  35.689506  139.69170"
      ]
     },
     "execution_count": 20,
     "metadata": {},
     "output_type": "execute_result"
    }
   ],
   "source": [
    "df = pd.read_csv('./data/IP2LOCATION-LITE-DB5 (1).CSV',usecols=['-.1','-.2','-.3','0.000000','0.000000.1'])\n",
    "df.columns = ['country_name','city1','city2','위도','경도']\n",
    "df.head()"
   ]
  },
  {
   "cell_type": "markdown",
   "id": "33ee385f",
   "metadata": {},
   "source": [
    "## 북한"
   ]
  },
  {
   "cell_type": "code",
   "execution_count": 29,
   "id": "db5fee00",
   "metadata": {},
   "outputs": [
    {
     "data": {
      "text/plain": [
       "Korea (Republic of)                        59501\n",
       "Korea (Democratic People's Republic of)        2\n",
       "Name: country_name, dtype: int64"
      ]
     },
     "execution_count": 29,
     "metadata": {},
     "output_type": "execute_result"
    }
   ],
   "source": [
    "df[df['country_name'].str.contains('Koea')]['country_name'].value_counts()"
   ]
  },
  {
   "cell_type": "code",
   "execution_count": 77,
   "id": "da17cc5c",
   "metadata": {},
   "outputs": [
    {
     "data": {
      "text/plain": [
       "[39.03385, 125.75432]"
      ]
     },
     "execution_count": 77,
     "metadata": {},
     "output_type": "execute_result"
    }
   ],
   "source": [
    "df_North = df[df['country_name']== \"Korea (Democratic People's Republic of)\"]\n",
    "df_North.head()\n",
    "\n",
    "#평양\n",
    "lst = []\n",
    "# lst.append(df_North['위도'][0])\n",
    "lst.append(df_North['위도'].iloc[0])\n",
    "lst.append(df_North['경도'].iloc[0])\n",
    "lst"
   ]
  },
  {
   "cell_type": "code",
   "execution_count": null,
   "id": "90623c72",
   "metadata": {},
   "outputs": [],
   "source": []
  },
  {
   "cell_type": "markdown",
   "id": "6c722387",
   "metadata": {},
   "source": [
    "## 일본"
   ]
  },
  {
   "cell_type": "code",
   "execution_count": 93,
   "id": "3b61e1cc",
   "metadata": {},
   "outputs": [
    {
     "data": {
      "text/html": [
       "<div>\n",
       "<style scoped>\n",
       "    .dataframe tbody tr th:only-of-type {\n",
       "        vertical-align: middle;\n",
       "    }\n",
       "\n",
       "    .dataframe tbody tr th {\n",
       "        vertical-align: top;\n",
       "    }\n",
       "\n",
       "    .dataframe thead th {\n",
       "        text-align: right;\n",
       "    }\n",
       "</style>\n",
       "<table border=\"1\" class=\"dataframe\">\n",
       "  <thead>\n",
       "    <tr style=\"text-align: right;\">\n",
       "      <th></th>\n",
       "      <th>country_name</th>\n",
       "      <th>city1</th>\n",
       "      <th>city2</th>\n",
       "      <th>위도</th>\n",
       "      <th>경도</th>\n",
       "    </tr>\n",
       "  </thead>\n",
       "  <tbody>\n",
       "    <tr>\n",
       "      <th>4</th>\n",
       "      <td>Japan</td>\n",
       "      <td>Tokyo</td>\n",
       "      <td>Tokyo</td>\n",
       "      <td>35.689506</td>\n",
       "      <td>139.69170</td>\n",
       "    </tr>\n",
       "    <tr>\n",
       "      <th>6</th>\n",
       "      <td>Japan</td>\n",
       "      <td>Hiroshima</td>\n",
       "      <td>Hiroshima</td>\n",
       "      <td>34.385280</td>\n",
       "      <td>132.45528</td>\n",
       "    </tr>\n",
       "    <tr>\n",
       "      <th>7</th>\n",
       "      <td>Japan</td>\n",
       "      <td>Miyagi</td>\n",
       "      <td>Sendai</td>\n",
       "      <td>38.267000</td>\n",
       "      <td>140.86700</td>\n",
       "    </tr>\n",
       "    <tr>\n",
       "      <th>8</th>\n",
       "      <td>Japan</td>\n",
       "      <td>Hiroshima</td>\n",
       "      <td>Hiroshima</td>\n",
       "      <td>34.385280</td>\n",
       "      <td>132.45528</td>\n",
       "    </tr>\n",
       "    <tr>\n",
       "      <th>9</th>\n",
       "      <td>Japan</td>\n",
       "      <td>Shimane</td>\n",
       "      <td>Matsue</td>\n",
       "      <td>35.467000</td>\n",
       "      <td>133.05000</td>\n",
       "    </tr>\n",
       "  </tbody>\n",
       "</table>\n",
       "</div>"
      ],
      "text/plain": [
       "  country_name      city1      city2         위도         경도\n",
       "4        Japan      Tokyo      Tokyo  35.689506  139.69170\n",
       "6        Japan  Hiroshima  Hiroshima  34.385280  132.45528\n",
       "7        Japan     Miyagi     Sendai  38.267000  140.86700\n",
       "8        Japan  Hiroshima  Hiroshima  34.385280  132.45528\n",
       "9        Japan    Shimane     Matsue  35.467000  133.05000"
      ]
     },
     "execution_count": 93,
     "metadata": {},
     "output_type": "execute_result"
    }
   ],
   "source": [
    "df_japan = df[df['country_name']== \"Japan\"]\n",
    "df_japan.head()\n"
   ]
  },
  {
   "cell_type": "code",
   "execution_count": 102,
   "id": "262990ec",
   "metadata": {},
   "outputs": [
    {
     "name": "stdout",
     "output_type": "stream",
     "text": [
      "Tokyo              47700\n",
      "Osaka              10397\n",
      "Yokohama            8008\n",
      "Saitama             7863\n",
      "Chiba               6375\n",
      "Nagoya              5238\n",
      "Amagasaki           3993\n",
      "Fukuoka             3168\n",
      "Sapporo             2834\n",
      "Kyoto               2670\n",
      "Sendai              1870\n",
      "Shizuoka            1811\n",
      "Higashimurayama     1644\n",
      "Mito                1638\n",
      "Maebashi            1631\n",
      "Nisshin             1572\n",
      "Tsukuba             1530\n",
      "Marunouchi          1485\n",
      "Hiroshima           1469\n",
      "Utsunomiya          1384\n",
      "Funabashi           1322\n",
      "Okayama             1267\n",
      "Niigata             1224\n",
      "Otsu                1217\n",
      "Kumamoto            1212\n",
      "Matsumoto           1148\n",
      "Fukushima           1114\n",
      "Gifu                1113\n",
      "Hamamatsu           1112\n",
      "Kitakyushu          1062\n",
      "Name: city2, dtype: int64\n"
     ]
    }
   ],
   "source": [
    "# 영문 이름\n",
    "print(df_Japan['city2'].value_counts()[:30])\n",
    "\n",
    "# '가고시마','도쿄', '삿포로', '센다이', '오사카','후쿠오카', '히로시마','나고야'\n",
    "japan_lst = ['Kagoshima','Tokyo', 'Osaka', 'Nagoya' ,'Fukuoka','Sapporo','Sendai','Funabashi']"
   ]
  },
  {
   "cell_type": "code",
   "execution_count": 103,
   "id": "9b800bd8",
   "metadata": {},
   "outputs": [
    {
     "name": "stdout",
     "output_type": "stream",
     "text": [
      "35.689506 139.6917\n"
     ]
    }
   ],
   "source": [
    "# 위도 경도 추출\n",
    "df_japan.groupby('city2')[['위도','경도']].mean().loc['Tokyo']\n",
    "lati = df_japan.groupby('city2')[['위도','경도']].mean().loc['Tokyo'][0]\n",
    "long = df_japan.groupby('city2')[['위도','경도']].mean().loc['Tokyo'][1]\n",
    "print(lati, long)"
   ]
  },
  {
   "cell_type": "code",
   "execution_count": 106,
   "id": "f9c11b4c",
   "metadata": {},
   "outputs": [
    {
     "data": {
      "text/plain": [
       "[[31.600000000000005, 130.55],\n",
       " [35.689506, 139.6917],\n",
       " [34.69389, 135.50222],\n",
       " [35.181456, 136.906386],\n",
       " [33.583, 130.4],\n",
       " [43.067, 141.35],\n",
       " [38.267, 140.867],\n",
       " [35.7, 139.983]]"
      ]
     },
     "execution_count": 106,
     "metadata": {},
     "output_type": "execute_result"
    }
   ],
   "source": [
    "japan = []\n",
    "for city in japan_lst:\n",
    "    loc=[]\n",
    "    df_japan.groupby('city2')[['위도','경도']].mean().loc[str(city)]\n",
    "    lati = df_japan.groupby('city2')[['위도','경도']].mean().loc[str(city)][0]\n",
    "    long = df_japan.groupby('city2')[['위도','경도']].mean().loc[str(city)][1]\n",
    "    loc.append(lati)\n",
    "    loc.append(long)\n",
    "    japan.append(loc)\n",
    "japan"
   ]
  },
  {
   "cell_type": "markdown",
   "id": "b401d521",
   "metadata": {},
   "source": [
    "## 중국"
   ]
  },
  {
   "cell_type": "code",
   "execution_count": 107,
   "id": "c2d11ad5",
   "metadata": {},
   "outputs": [
    {
     "data": {
      "text/html": [
       "<div>\n",
       "<style scoped>\n",
       "    .dataframe tbody tr th:only-of-type {\n",
       "        vertical-align: middle;\n",
       "    }\n",
       "\n",
       "    .dataframe tbody tr th {\n",
       "        vertical-align: top;\n",
       "    }\n",
       "\n",
       "    .dataframe thead th {\n",
       "        text-align: right;\n",
       "    }\n",
       "</style>\n",
       "<table border=\"1\" class=\"dataframe\">\n",
       "  <thead>\n",
       "    <tr style=\"text-align: right;\">\n",
       "      <th></th>\n",
       "      <th>country_name</th>\n",
       "      <th>city1</th>\n",
       "      <th>city2</th>\n",
       "      <th>위도</th>\n",
       "      <th>경도</th>\n",
       "    </tr>\n",
       "  </thead>\n",
       "  <tbody>\n",
       "    <tr>\n",
       "      <th>1</th>\n",
       "      <td>China</td>\n",
       "      <td>Fujian</td>\n",
       "      <td>Fuzhou</td>\n",
       "      <td>26.06139</td>\n",
       "      <td>119.30611</td>\n",
       "    </tr>\n",
       "    <tr>\n",
       "      <th>3</th>\n",
       "      <td>China</td>\n",
       "      <td>Guangdong</td>\n",
       "      <td>Guangzhou</td>\n",
       "      <td>23.11667</td>\n",
       "      <td>113.25000</td>\n",
       "    </tr>\n",
       "    <tr>\n",
       "      <th>5</th>\n",
       "      <td>China</td>\n",
       "      <td>Guangdong</td>\n",
       "      <td>Guangzhou</td>\n",
       "      <td>23.11667</td>\n",
       "      <td>113.25000</td>\n",
       "    </tr>\n",
       "    <tr>\n",
       "      <th>175</th>\n",
       "      <td>China</td>\n",
       "      <td>Fujian</td>\n",
       "      <td>Fuzhou</td>\n",
       "      <td>26.06139</td>\n",
       "      <td>119.30611</td>\n",
       "    </tr>\n",
       "    <tr>\n",
       "      <th>177</th>\n",
       "      <td>China</td>\n",
       "      <td>Fujian</td>\n",
       "      <td>Fuzhou</td>\n",
       "      <td>26.06139</td>\n",
       "      <td>119.30611</td>\n",
       "    </tr>\n",
       "  </tbody>\n",
       "</table>\n",
       "</div>"
      ],
      "text/plain": [
       "    country_name      city1      city2        위도         경도\n",
       "1          China     Fujian     Fuzhou  26.06139  119.30611\n",
       "3          China  Guangdong  Guangzhou  23.11667  113.25000\n",
       "5          China  Guangdong  Guangzhou  23.11667  113.25000\n",
       "175        China     Fujian     Fuzhou  26.06139  119.30611\n",
       "177        China     Fujian     Fuzhou  26.06139  119.30611"
      ]
     },
     "execution_count": 107,
     "metadata": {},
     "output_type": "execute_result"
    }
   ],
   "source": [
    "df_china = df[df['country_name']== \"China\"]\n",
    "df_china.head()"
   ]
  },
  {
   "cell_type": "code",
   "execution_count": 111,
   "id": "b6dfe374",
   "metadata": {
    "collapsed": true
   },
   "outputs": [
    {
     "name": "stdout",
     "output_type": "stream",
     "text": [
      "Beijing         3330\n",
      "Guangzhou       2143\n",
      "Fuzhou          1505\n",
      "Shenzhen        1187\n",
      "Hangzhou        1130\n",
      "Nanjing         1031\n",
      "Shanghai         953\n",
      "Suzhou           849\n",
      "Jinan            834\n",
      "Chengdu          680\n",
      "Zhengzhou        627\n",
      "Dongguan         514\n",
      "Harbin           461\n",
      "Shijiazhuang     442\n",
      "Dalian           427\n",
      "Qingdao          420\n",
      "Foshan           407\n",
      "Shenyang         399\n",
      "Wuhan            396\n",
      "Hefei            386\n",
      "Wuxi             365\n",
      "Xiamen           362\n",
      "Ningbo           354\n",
      "Nanchang         342\n",
      "Xi'an            335\n",
      "Changsha         315\n",
      "Taizhou          300\n",
      "Taiyuan          277\n",
      "Dalianwan        272\n",
      "Zhongshan        269\n",
      "Jinhua           260\n",
      "Haikou           260\n",
      "Kunming          258\n",
      "Lanzhou          256\n",
      "Huizhou          245\n",
      "Nantong          241\n",
      "Tianjin          240\n",
      "Changchun        239\n",
      "Changzhou        237\n",
      "Jilin            234\n",
      "Shantou          233\n",
      "Linyi            221\n",
      "Xuzhou           217\n",
      "Wenzhou          209\n",
      "Nanning          208\n",
      "Zhuhai           205\n",
      "Yichun           201\n",
      "Guiyang          196\n",
      "Jiangmen         195\n",
      "Yangzhou         195\n",
      "Name: city2, dtype: int64\n"
     ]
    }
   ],
   "source": [
    "# 영문이름 변경\n",
    "\n",
    "print(df_china['city2'].value_counts()[:50])\n",
    "\n",
    "# ['베이징','상하이', '선양','창춘', '지난']\n",
    "china_lst = ['Shanghai','Beijing','Shenyang','']"
   ]
  },
  {
   "cell_type": "code",
   "execution_count": null,
   "id": "87280a57",
   "metadata": {},
   "outputs": [],
   "source": [
    "df_china['']"
   ]
  },
  {
   "cell_type": "code",
   "execution_count": null,
   "id": "6dddf44e",
   "metadata": {},
   "outputs": [],
   "source": []
  },
  {
   "cell_type": "code",
   "execution_count": null,
   "id": "496f4daa",
   "metadata": {},
   "outputs": [],
   "source": []
  },
  {
   "cell_type": "code",
   "execution_count": null,
   "id": "a2bd7d71",
   "metadata": {},
   "outputs": [],
   "source": []
  },
  {
   "cell_type": "code",
   "execution_count": null,
   "id": "ff0c0907",
   "metadata": {},
   "outputs": [],
   "source": []
  },
  {
   "cell_type": "code",
   "execution_count": null,
   "id": "28439911",
   "metadata": {},
   "outputs": [],
   "source": []
  },
  {
   "cell_type": "code",
   "execution_count": null,
   "id": "28d29924",
   "metadata": {},
   "outputs": [],
   "source": []
  },
  {
   "cell_type": "code",
   "execution_count": null,
   "id": "5d663b25",
   "metadata": {},
   "outputs": [],
   "source": []
  },
  {
   "cell_type": "code",
   "execution_count": null,
   "id": "af88a72f",
   "metadata": {},
   "outputs": [],
   "source": []
  },
  {
   "cell_type": "code",
   "execution_count": null,
   "id": "c2c8bb74",
   "metadata": {},
   "outputs": [],
   "source": []
  },
  {
   "cell_type": "code",
   "execution_count": null,
   "id": "dc4cd508",
   "metadata": {},
   "outputs": [],
   "source": []
  },
  {
   "cell_type": "code",
   "execution_count": null,
   "id": "0e16c19b",
   "metadata": {},
   "outputs": [],
   "source": []
  },
  {
   "cell_type": "code",
   "execution_count": null,
   "id": "bc51e58f",
   "metadata": {},
   "outputs": [],
   "source": []
  },
  {
   "cell_type": "code",
   "execution_count": 65,
   "id": "30011f05",
   "metadata": {},
   "outputs": [
    {
     "data": {
      "text/html": [
       "<div style=\"width:100%;\"><div style=\"position:relative;width:100%;height:0;padding-bottom:60%;\"><span style=\"color:#565656\">Make this Notebook Trusted to load map: File -> Trust Notebook</span><iframe src=\"about:blank\" style=\"position:absolute;width:100%;height:100%;left:0;top:0;border:none !important;\" data-html=%3C%21DOCTYPE%20html%3E%0A%3Chead%3E%20%20%20%20%0A%20%20%20%20%3Cmeta%20http-equiv%3D%22content-type%22%20content%3D%22text/html%3B%20charset%3DUTF-8%22%20/%3E%0A%20%20%20%20%0A%20%20%20%20%20%20%20%20%3Cscript%3E%0A%20%20%20%20%20%20%20%20%20%20%20%20L_NO_TOUCH%20%3D%20false%3B%0A%20%20%20%20%20%20%20%20%20%20%20%20L_DISABLE_3D%20%3D%20false%3B%0A%20%20%20%20%20%20%20%20%3C/script%3E%0A%20%20%20%20%0A%20%20%20%20%3Cstyle%3Ehtml%2C%20body%20%7Bwidth%3A%20100%25%3Bheight%3A%20100%25%3Bmargin%3A%200%3Bpadding%3A%200%3B%7D%3C/style%3E%0A%20%20%20%20%3Cstyle%3E%23map%20%7Bposition%3Aabsolute%3Btop%3A0%3Bbottom%3A0%3Bright%3A0%3Bleft%3A0%3B%7D%3C/style%3E%0A%20%20%20%20%3Cscript%20src%3D%22https%3A//cdn.jsdelivr.net/npm/leaflet%401.6.0/dist/leaflet.js%22%3E%3C/script%3E%0A%20%20%20%20%3Cscript%20src%3D%22https%3A//code.jquery.com/jquery-1.12.4.min.js%22%3E%3C/script%3E%0A%20%20%20%20%3Cscript%20src%3D%22https%3A//maxcdn.bootstrapcdn.com/bootstrap/3.2.0/js/bootstrap.min.js%22%3E%3C/script%3E%0A%20%20%20%20%3Cscript%20src%3D%22https%3A//cdnjs.cloudflare.com/ajax/libs/Leaflet.awesome-markers/2.0.2/leaflet.awesome-markers.js%22%3E%3C/script%3E%0A%20%20%20%20%3Clink%20rel%3D%22stylesheet%22%20href%3D%22https%3A//cdn.jsdelivr.net/npm/leaflet%401.6.0/dist/leaflet.css%22/%3E%0A%20%20%20%20%3Clink%20rel%3D%22stylesheet%22%20href%3D%22https%3A//maxcdn.bootstrapcdn.com/bootstrap/3.2.0/css/bootstrap.min.css%22/%3E%0A%20%20%20%20%3Clink%20rel%3D%22stylesheet%22%20href%3D%22https%3A//maxcdn.bootstrapcdn.com/bootstrap/3.2.0/css/bootstrap-theme.min.css%22/%3E%0A%20%20%20%20%3Clink%20rel%3D%22stylesheet%22%20href%3D%22https%3A//maxcdn.bootstrapcdn.com/font-awesome/4.6.3/css/font-awesome.min.css%22/%3E%0A%20%20%20%20%3Clink%20rel%3D%22stylesheet%22%20href%3D%22https%3A//cdnjs.cloudflare.com/ajax/libs/Leaflet.awesome-markers/2.0.2/leaflet.awesome-markers.css%22/%3E%0A%20%20%20%20%3Clink%20rel%3D%22stylesheet%22%20href%3D%22https%3A//cdn.jsdelivr.net/gh/python-visualization/folium/folium/templates/leaflet.awesome.rotate.min.css%22/%3E%0A%20%20%20%20%0A%20%20%20%20%20%20%20%20%20%20%20%20%3Cmeta%20name%3D%22viewport%22%20content%3D%22width%3Ddevice-width%2C%0A%20%20%20%20%20%20%20%20%20%20%20%20%20%20%20%20initial-scale%3D1.0%2C%20maximum-scale%3D1.0%2C%20user-scalable%3Dno%22%20/%3E%0A%20%20%20%20%20%20%20%20%20%20%20%20%3Cstyle%3E%0A%20%20%20%20%20%20%20%20%20%20%20%20%20%20%20%20%23map_a2da8882538241428d58060b528314dc%20%7B%0A%20%20%20%20%20%20%20%20%20%20%20%20%20%20%20%20%20%20%20%20position%3A%20relative%3B%0A%20%20%20%20%20%20%20%20%20%20%20%20%20%20%20%20%20%20%20%20width%3A%20100.0%25%3B%0A%20%20%20%20%20%20%20%20%20%20%20%20%20%20%20%20%20%20%20%20height%3A%20100.0%25%3B%0A%20%20%20%20%20%20%20%20%20%20%20%20%20%20%20%20%20%20%20%20left%3A%200.0%25%3B%0A%20%20%20%20%20%20%20%20%20%20%20%20%20%20%20%20%20%20%20%20top%3A%200.0%25%3B%0A%20%20%20%20%20%20%20%20%20%20%20%20%20%20%20%20%7D%0A%20%20%20%20%20%20%20%20%20%20%20%20%3C/style%3E%0A%20%20%20%20%20%20%20%20%0A%3C/head%3E%0A%3Cbody%3E%20%20%20%20%0A%20%20%20%20%0A%20%20%20%20%20%20%20%20%20%20%20%20%3Cdiv%20class%3D%22folium-map%22%20id%3D%22map_a2da8882538241428d58060b528314dc%22%20%3E%3C/div%3E%0A%20%20%20%20%20%20%20%20%0A%3C/body%3E%0A%3Cscript%3E%20%20%20%20%0A%20%20%20%20%0A%20%20%20%20%20%20%20%20%20%20%20%20var%20map_a2da8882538241428d58060b528314dc%20%3D%20L.map%28%0A%20%20%20%20%20%20%20%20%20%20%20%20%20%20%20%20%22map_a2da8882538241428d58060b528314dc%22%2C%0A%20%20%20%20%20%20%20%20%20%20%20%20%20%20%20%20%7B%0A%20%20%20%20%20%20%20%20%20%20%20%20%20%20%20%20%20%20%20%20center%3A%20%5B45.0%2C%20122.0%5D%2C%0A%20%20%20%20%20%20%20%20%20%20%20%20%20%20%20%20%20%20%20%20crs%3A%20L.CRS.EPSG3857%2C%0A%20%20%20%20%20%20%20%20%20%20%20%20%20%20%20%20%20%20%20%20zoom%3A%2010%2C%0A%20%20%20%20%20%20%20%20%20%20%20%20%20%20%20%20%20%20%20%20zoomControl%3A%20true%2C%0A%20%20%20%20%20%20%20%20%20%20%20%20%20%20%20%20%20%20%20%20preferCanvas%3A%20false%2C%0A%20%20%20%20%20%20%20%20%20%20%20%20%20%20%20%20%7D%0A%20%20%20%20%20%20%20%20%20%20%20%20%29%3B%0A%0A%20%20%20%20%20%20%20%20%20%20%20%20%0A%0A%20%20%20%20%20%20%20%20%0A%20%20%20%20%0A%20%20%20%20%20%20%20%20%20%20%20%20var%20tile_layer_8533d8e833d34134bef28471cdd3aa17%20%3D%20L.tileLayer%28%0A%20%20%20%20%20%20%20%20%20%20%20%20%20%20%20%20%22https%3A//%7Bs%7D.tile.openstreetmap.org/%7Bz%7D/%7Bx%7D/%7By%7D.png%22%2C%0A%20%20%20%20%20%20%20%20%20%20%20%20%20%20%20%20%7B%22attribution%22%3A%20%22Data%20by%20%5Cu0026copy%3B%20%5Cu003ca%20href%3D%5C%22http%3A//openstreetmap.org%5C%22%5Cu003eOpenStreetMap%5Cu003c/a%5Cu003e%2C%20under%20%5Cu003ca%20href%3D%5C%22http%3A//www.openstreetmap.org/copyright%5C%22%5Cu003eODbL%5Cu003c/a%5Cu003e.%22%2C%20%22detectRetina%22%3A%20false%2C%20%22maxNativeZoom%22%3A%2018%2C%20%22maxZoom%22%3A%2018%2C%20%22minZoom%22%3A%200%2C%20%22noWrap%22%3A%20false%2C%20%22opacity%22%3A%201%2C%20%22subdomains%22%3A%20%22abc%22%2C%20%22tms%22%3A%20false%7D%0A%20%20%20%20%20%20%20%20%20%20%20%20%29.addTo%28map_a2da8882538241428d58060b528314dc%29%3B%0A%20%20%20%20%20%20%20%20%0A%20%20%20%20%0A%20%20%20%20%20%20%20%20%20%20%20%20var%20marker_62a59f15002548318ccd64ec06b9be4c%20%3D%20L.marker%28%0A%20%20%20%20%20%20%20%20%20%20%20%20%20%20%20%20%5B45.0%2C%20122.0%5D%2C%0A%20%20%20%20%20%20%20%20%20%20%20%20%20%20%20%20%7B%7D%0A%20%20%20%20%20%20%20%20%20%20%20%20%29.addTo%28map_a2da8882538241428d58060b528314dc%29%3B%0A%20%20%20%20%20%20%20%20%0A%20%20%20%20%0A%20%20%20%20%20%20%20%20var%20popup_0a800e16bba7427cb8d4f3d571be1f34%20%3D%20L.popup%28%7B%22maxWidth%22%3A%20%22100%25%22%7D%29%3B%0A%0A%20%20%20%20%20%20%20%20%0A%20%20%20%20%20%20%20%20%20%20%20%20var%20html_41e00b6a4d1b48d68d9c087222be090c%20%3D%20%24%28%60%3Cdiv%20id%3D%22html_41e00b6a4d1b48d68d9c087222be090c%22%20style%3D%22width%3A%20100.0%25%3B%20height%3A%20100.0%25%3B%22%3E%EC%A7%80%EC%97%AD%EC%9D%B4%EB%A6%84%3C/div%3E%60%29%5B0%5D%3B%0A%20%20%20%20%20%20%20%20%20%20%20%20popup_0a800e16bba7427cb8d4f3d571be1f34.setContent%28html_41e00b6a4d1b48d68d9c087222be090c%29%3B%0A%20%20%20%20%20%20%20%20%0A%0A%20%20%20%20%20%20%20%20marker_62a59f15002548318ccd64ec06b9be4c.bindPopup%28popup_0a800e16bba7427cb8d4f3d571be1f34%29%0A%20%20%20%20%20%20%20%20%3B%0A%0A%20%20%20%20%20%20%20%20%0A%20%20%20%20%0A%3C/script%3E onload=\"this.contentDocument.open();this.contentDocument.write(    decodeURIComponent(this.getAttribute('data-html')));this.contentDocument.close();\" allowfullscreen webkitallowfullscreen mozallowfullscreen></iframe></div></div>"
      ],
      "text/plain": [
       "<folium.folium.Map at 0x204d4fd3280>"
      ]
     },
     "execution_count": 65,
     "metadata": {},
     "output_type": "execute_result"
    }
   ],
   "source": [
    "import folium\n",
    "map =folium.Map(location=[45,122])\n",
    "folium.Marker((45,122),popup='지역이름').add_to(map)\n",
    "map"
   ]
  },
  {
   "cell_type": "code",
   "execution_count": null,
   "id": "29ab4c20",
   "metadata": {},
   "outputs": [],
   "source": []
  },
  {
   "cell_type": "code",
   "execution_count": null,
   "id": "ad75c514",
   "metadata": {},
   "outputs": [],
   "source": []
  },
  {
   "cell_type": "code",
   "execution_count": null,
   "id": "943cc8ac",
   "metadata": {},
   "outputs": [],
   "source": []
  },
  {
   "cell_type": "code",
   "execution_count": 1,
   "id": "3c6c19ec",
   "metadata": {},
   "outputs": [],
   "source": [
    "# addr_to_lat_lon(areas[0])"
   ]
  },
  {
   "cell_type": "code",
   "execution_count": 15,
   "id": "5acf4265",
   "metadata": {
    "collapsed": true
   },
   "outputs": [
    {
     "ename": "NameError",
     "evalue": "name 'busan_location' is not defined",
     "output_type": "error",
     "traceback": [
      "\u001b[1;31m---------------------------------------------------------------------------\u001b[0m",
      "\u001b[1;31mNameError\u001b[0m                                 Traceback (most recent call last)",
      "\u001b[1;32m~\\AppData\\Local\\Temp/ipykernel_22592/2445937029.py\u001b[0m in \u001b[0;36m<module>\u001b[1;34m\u001b[0m\n\u001b[0;32m      1\u001b[0m \u001b[0mmap\u001b[0m \u001b[1;33m=\u001b[0m \u001b[0mfolium\u001b[0m\u001b[1;33m.\u001b[0m\u001b[0mMap\u001b[0m\u001b[1;33m(\u001b[0m\u001b[0mlocation\u001b[0m \u001b[1;33m=\u001b[0m \u001b[1;33m[\u001b[0m\u001b[1;36m35.1645702\u001b[0m\u001b[1;33m,\u001b[0m\u001b[1;36m129.0017602\u001b[0m\u001b[1;33m]\u001b[0m\u001b[1;33m,\u001b[0m \u001b[0mzoom_start\u001b[0m \u001b[1;33m=\u001b[0m\u001b[1;36m11\u001b[0m\u001b[1;33m)\u001b[0m\u001b[1;33m\u001b[0m\u001b[1;33m\u001b[0m\u001b[0m\n\u001b[0;32m      2\u001b[0m \u001b[1;33m\u001b[0m\u001b[0m\n\u001b[1;32m----> 3\u001b[1;33m \u001b[1;32mfor\u001b[0m \u001b[0ma\u001b[0m \u001b[1;32min\u001b[0m \u001b[0mbusan_location\u001b[0m\u001b[1;33m.\u001b[0m\u001b[0mindex\u001b[0m\u001b[1;33m:\u001b[0m\u001b[1;33m\u001b[0m\u001b[1;33m\u001b[0m\u001b[0m\n\u001b[0m\u001b[0;32m      4\u001b[0m     \u001b[0mlatitude\u001b[0m \u001b[1;33m=\u001b[0m \u001b[0mbusan_location\u001b[0m\u001b[1;33m.\u001b[0m\u001b[0mloc\u001b[0m\u001b[1;33m[\u001b[0m\u001b[0ma\u001b[0m\u001b[1;33m,\u001b[0m\u001b[1;34m\"위도\"\u001b[0m\u001b[1;33m]\u001b[0m\u001b[1;33m\u001b[0m\u001b[1;33m\u001b[0m\u001b[0m\n\u001b[0;32m      5\u001b[0m     \u001b[0mlongtitude\u001b[0m \u001b[1;33m=\u001b[0m \u001b[0mbusan_location\u001b[0m\u001b[1;33m.\u001b[0m\u001b[0mloc\u001b[0m\u001b[1;33m[\u001b[0m\u001b[0ma\u001b[0m\u001b[1;33m,\u001b[0m\u001b[1;34m\"경도\"\u001b[0m\u001b[1;33m]\u001b[0m\u001b[1;33m\u001b[0m\u001b[1;33m\u001b[0m\u001b[0m\n",
      "\u001b[1;31mNameError\u001b[0m: name 'busan_location' is not defined"
     ]
    }
   ],
   "source": [
    "# 날씨 측정한 곳 위도,경도 표시\n",
    "\n",
    "# pip install folium\n",
    "import folium\n",
    "\n",
    "for area in areas:\n",
    "    for i in range(len(areas)):\n",
    "    \n",
    "        location = addr_to_lat_lon(area[i])\n",
    "        map = folium.Map(location = location, zoom_start =11)\n",
    "\n",
    "    for a in busan_location.index:\n",
    "        latitude = busan_location.loc[a,\"위도\"]\n",
    "        longtitude = busan_location.loc[a,\"경도\"]\n",
    "        tooltip = \"사고!\"\n",
    "        folium.Marker([latitude, longtitude], popup = '<i>지역</i>', tooltip =tooltip).add_to(map)   \n",
    "\n",
    "map"
   ]
  },
  {
   "cell_type": "code",
   "execution_count": null,
   "id": "9dadd8ff",
   "metadata": {},
   "outputs": [],
   "source": []
  },
  {
   "cell_type": "code",
   "execution_count": null,
   "id": "0c8878a6",
   "metadata": {},
   "outputs": [],
   "source": []
  },
  {
   "cell_type": "code",
   "execution_count": null,
   "id": "23fcdf6f",
   "metadata": {},
   "outputs": [],
   "source": []
  },
  {
   "cell_type": "code",
   "execution_count": null,
   "id": "68e0d7b8",
   "metadata": {},
   "outputs": [],
   "source": []
  },
  {
   "cell_type": "code",
   "execution_count": null,
   "id": "e7e80817",
   "metadata": {},
   "outputs": [],
   "source": [
    "# 날씨 측정한 곳 위도,경도 표시\n",
    "\n",
    "# pip install folium\n",
    "import folium\n",
    "\n",
    "for area in areas:\n",
    "    \n",
    "    location = addr_to_lat_lon\n",
    "    map = folium.Map(location = location, zoom_start =11)\n",
    "\n",
    "    for a in busan_location.index:\n",
    "        latitude = busan_location.loc[a,\"위도\"]\n",
    "        longtitude = busan_location.loc[a,\"경도\"]\n",
    "        tooltip = \"사고!\"\n",
    "        folium.Marker([latitude, longtitude], popup = '<i>지역</i>', tooltip =tooltip).add_to(map)   \n",
    "\n",
    "map"
   ]
  },
  {
   "cell_type": "code",
   "execution_count": null,
   "id": "29b5173a",
   "metadata": {},
   "outputs": [],
   "source": []
  },
  {
   "cell_type": "code",
   "execution_count": null,
   "id": "90e87a06",
   "metadata": {},
   "outputs": [],
   "source": []
  },
  {
   "cell_type": "code",
   "execution_count": null,
   "id": "f4996eed",
   "metadata": {},
   "outputs": [],
   "source": [
    "# 구제역 발생장소\n"
   ]
  },
  {
   "cell_type": "code",
   "execution_count": null,
   "id": "9dc73544",
   "metadata": {},
   "outputs": [],
   "source": []
  },
  {
   "cell_type": "code",
   "execution_count": null,
   "id": "097cc1fb",
   "metadata": {},
   "outputs": [],
   "source": []
  },
  {
   "cell_type": "code",
   "execution_count": 1,
   "id": "ebdaf1a5",
   "metadata": {},
   "outputs": [],
   "source": []
  },
  {
   "cell_type": "code",
   "execution_count": 12,
   "id": "a9f6b367",
   "metadata": {},
   "outputs": [],
   "source": []
  },
  {
   "cell_type": "code",
   "execution_count": null,
   "id": "11c3171c",
   "metadata": {},
   "outputs": [],
   "source": [
    "# 날씨 측정한 곳 위도,경도 표시\n"
   ]
  },
  {
   "cell_type": "code",
   "execution_count": null,
   "id": "39384135",
   "metadata": {},
   "outputs": [],
   "source": []
  },
  {
   "cell_type": "code",
   "execution_count": null,
   "id": "cf07f132",
   "metadata": {},
   "outputs": [],
   "source": []
  },
  {
   "cell_type": "code",
   "execution_count": null,
   "id": "b8e932e3",
   "metadata": {},
   "outputs": [],
   "source": []
  },
  {
   "cell_type": "code",
   "execution_count": null,
   "id": "159169d7",
   "metadata": {},
   "outputs": [],
   "source": [
    "# 위도 경도 거리 구하는 모듈\n",
    "\n",
    "from haversine import haversine"
   ]
  }
 ],
 "metadata": {
  "kernelspec": {
   "display_name": "Python 3 (ipykernel)",
   "language": "python",
   "name": "python3"
  },
  "language_info": {
   "codemirror_mode": {
    "name": "ipython",
    "version": 3
   },
   "file_extension": ".py",
   "mimetype": "text/x-python",
   "name": "python",
   "nbconvert_exporter": "python",
   "pygments_lexer": "ipython3",
   "version": "3.9.7"
  },
  "varInspector": {
   "cols": {
    "lenName": 16,
    "lenType": 16,
    "lenVar": 40
   },
   "kernels_config": {
    "python": {
     "delete_cmd_postfix": "",
     "delete_cmd_prefix": "del ",
     "library": "var_list.py",
     "varRefreshCmd": "print(var_dic_list())"
    },
    "r": {
     "delete_cmd_postfix": ") ",
     "delete_cmd_prefix": "rm(",
     "library": "var_list.r",
     "varRefreshCmd": "cat(var_dic_list()) "
    }
   },
   "types_to_exclude": [
    "module",
    "function",
    "builtin_function_or_method",
    "instance",
    "_Feature"
   ],
   "window_display": false
  }
 },
 "nbformat": 4,
 "nbformat_minor": 5
}
