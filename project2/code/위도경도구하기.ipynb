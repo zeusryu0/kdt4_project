{
 "cells": [
  {
   "cell_type": "code",
   "execution_count": 2,
   "id": "627c3e9a",
   "metadata": {},
   "outputs": [],
   "source": [
    "# !pip install folium"
   ]
  },
  {
   "cell_type": "code",
   "execution_count": 5,
   "id": "583c7bfd",
   "metadata": {},
   "outputs": [],
   "source": [
    "# addr_to_lat_lon('울릉도')  #울릉도 없음"
   ]
  },
  {
   "cell_type": "code",
   "execution_count": 8,
   "id": "823bcc54",
   "metadata": {},
   "outputs": [
    {
     "data": {
      "text/plain": [
       "(126.978652258309, 37.566826004661)"
      ]
     },
     "execution_count": 8,
     "metadata": {},
     "output_type": "execute_result"
    }
   ],
   "source": [
    "addr_to_lat_lon('서울') "
   ]
  },
  {
   "cell_type": "markdown",
   "id": "8aa2de9f",
   "metadata": {},
   "source": [
    "# 한국 위도 경도"
   ]
  },
  {
   "cell_type": "code",
   "execution_count": 36,
   "id": "964e9fa4",
   "metadata": {},
   "outputs": [],
   "source": [
    "import pandas as pd\n",
    "import numpy as np\n",
    "import json\n",
    "import requests"
   ]
  },
  {
   "cell_type": "code",
   "execution_count": 37,
   "id": "598c9100",
   "metadata": {},
   "outputs": [],
   "source": [
    "api_key = 'dcf8c004ab92b095154a8edbc67cae15'"
   ]
  },
  {
   "cell_type": "code",
   "execution_count": 38,
   "id": "b25d6e12",
   "metadata": {},
   "outputs": [],
   "source": [
    "def addr_to_lat_lon(addr):\n",
    "    url = 'https://dapi.kakao.com/v2/local/search/address.json?query={address}'.format(address=addr)\n",
    "    headers = {\"Authorization\": \"KakaoAK \" + api_key}\n",
    "    result = json.loads(str(requests.get(url, headers=headers).text))\n",
    "    match_first = result['documents'][0]['address']\n",
    "    return float(match_first['x']), float(match_first['y'])"
   ]
  },
  {
   "cell_type": "code",
   "execution_count": 56,
   "id": "5c4daa8d",
   "metadata": {},
   "outputs": [
    {
     "data": {
      "text/plain": [
       "[[37.7521080804166, 128.875906144832],\n",
       " [37.8812440340088, 127.730207024668],\n",
       " [37.4293941934866, 127.255138719721],\n",
       " [35.8713802646197, 128.601805491072],\n",
       " [36.3505388992836, 127.38483484675],\n",
       " [35.1798200522868, 129.075087492149],\n",
       " [37.566826004661, 126.978652258309],\n",
       " [35.8240731508775, 127.148143800621],\n",
       " [33.4889179032603, 126.498229141199],\n",
       " [36.6424871337289, 127.489020156402]]"
      ]
     },
     "execution_count": 56,
     "metadata": {},
     "output_type": "execute_result"
    }
   ],
   "source": [
    "# 한국 위도 경도\n",
    "korea_city = ['강릉', '춘천', '광주', '대구', '대전', '부산', '서울', '전주', '제주', '청주']\n",
    "korea = []\n",
    "\n",
    "\n",
    "for city in korea_city:\n",
    "    lst = []\n",
    "    loc = addr_to_lat_lon(city)\n",
    "    lst.append(loc[1])\n",
    "    lst.append(loc[0])\n",
    "    korea.append(lst)\n",
    "korea\n"
   ]
  },
  {
   "cell_type": "code",
   "execution_count": 59,
   "id": "1994e6e6",
   "metadata": {},
   "outputs": [
    {
     "data": {
      "text/html": [
       "<div style=\"width:100%;\"><div style=\"position:relative;width:100%;height:0;padding-bottom:60%;\"><span style=\"color:#565656\">Make this Notebook Trusted to load map: File -> Trust Notebook</span><iframe src=\"about:blank\" style=\"position:absolute;width:100%;height:100%;left:0;top:0;border:none !important;\" data-html=%3C%21DOCTYPE%20html%3E%0A%3Chead%3E%20%20%20%20%0A%20%20%20%20%3Cmeta%20http-equiv%3D%22content-type%22%20content%3D%22text/html%3B%20charset%3DUTF-8%22%20/%3E%0A%20%20%20%20%0A%20%20%20%20%20%20%20%20%3Cscript%3E%0A%20%20%20%20%20%20%20%20%20%20%20%20L_NO_TOUCH%20%3D%20false%3B%0A%20%20%20%20%20%20%20%20%20%20%20%20L_DISABLE_3D%20%3D%20false%3B%0A%20%20%20%20%20%20%20%20%3C/script%3E%0A%20%20%20%20%0A%20%20%20%20%3Cstyle%3Ehtml%2C%20body%20%7Bwidth%3A%20100%25%3Bheight%3A%20100%25%3Bmargin%3A%200%3Bpadding%3A%200%3B%7D%3C/style%3E%0A%20%20%20%20%3Cstyle%3E%23map%20%7Bposition%3Aabsolute%3Btop%3A0%3Bbottom%3A0%3Bright%3A0%3Bleft%3A0%3B%7D%3C/style%3E%0A%20%20%20%20%3Cscript%20src%3D%22https%3A//cdn.jsdelivr.net/npm/leaflet%401.6.0/dist/leaflet.js%22%3E%3C/script%3E%0A%20%20%20%20%3Cscript%20src%3D%22https%3A//code.jquery.com/jquery-1.12.4.min.js%22%3E%3C/script%3E%0A%20%20%20%20%3Cscript%20src%3D%22https%3A//maxcdn.bootstrapcdn.com/bootstrap/3.2.0/js/bootstrap.min.js%22%3E%3C/script%3E%0A%20%20%20%20%3Cscript%20src%3D%22https%3A//cdnjs.cloudflare.com/ajax/libs/Leaflet.awesome-markers/2.0.2/leaflet.awesome-markers.js%22%3E%3C/script%3E%0A%20%20%20%20%3Clink%20rel%3D%22stylesheet%22%20href%3D%22https%3A//cdn.jsdelivr.net/npm/leaflet%401.6.0/dist/leaflet.css%22/%3E%0A%20%20%20%20%3Clink%20rel%3D%22stylesheet%22%20href%3D%22https%3A//maxcdn.bootstrapcdn.com/bootstrap/3.2.0/css/bootstrap.min.css%22/%3E%0A%20%20%20%20%3Clink%20rel%3D%22stylesheet%22%20href%3D%22https%3A//maxcdn.bootstrapcdn.com/bootstrap/3.2.0/css/bootstrap-theme.min.css%22/%3E%0A%20%20%20%20%3Clink%20rel%3D%22stylesheet%22%20href%3D%22https%3A//maxcdn.bootstrapcdn.com/font-awesome/4.6.3/css/font-awesome.min.css%22/%3E%0A%20%20%20%20%3Clink%20rel%3D%22stylesheet%22%20href%3D%22https%3A//cdnjs.cloudflare.com/ajax/libs/Leaflet.awesome-markers/2.0.2/leaflet.awesome-markers.css%22/%3E%0A%20%20%20%20%3Clink%20rel%3D%22stylesheet%22%20href%3D%22https%3A//cdn.jsdelivr.net/gh/python-visualization/folium/folium/templates/leaflet.awesome.rotate.min.css%22/%3E%0A%20%20%20%20%0A%20%20%20%20%20%20%20%20%20%20%20%20%3Cmeta%20name%3D%22viewport%22%20content%3D%22width%3Ddevice-width%2C%0A%20%20%20%20%20%20%20%20%20%20%20%20%20%20%20%20initial-scale%3D1.0%2C%20maximum-scale%3D1.0%2C%20user-scalable%3Dno%22%20/%3E%0A%20%20%20%20%20%20%20%20%20%20%20%20%3Cstyle%3E%0A%20%20%20%20%20%20%20%20%20%20%20%20%20%20%20%20%23map_d420d82e283e4e0fb6a0e36be364ff56%20%7B%0A%20%20%20%20%20%20%20%20%20%20%20%20%20%20%20%20%20%20%20%20position%3A%20relative%3B%0A%20%20%20%20%20%20%20%20%20%20%20%20%20%20%20%20%20%20%20%20width%3A%20100.0%25%3B%0A%20%20%20%20%20%20%20%20%20%20%20%20%20%20%20%20%20%20%20%20height%3A%20100.0%25%3B%0A%20%20%20%20%20%20%20%20%20%20%20%20%20%20%20%20%20%20%20%20left%3A%200.0%25%3B%0A%20%20%20%20%20%20%20%20%20%20%20%20%20%20%20%20%20%20%20%20top%3A%200.0%25%3B%0A%20%20%20%20%20%20%20%20%20%20%20%20%20%20%20%20%7D%0A%20%20%20%20%20%20%20%20%20%20%20%20%3C/style%3E%0A%20%20%20%20%20%20%20%20%0A%3C/head%3E%0A%3Cbody%3E%20%20%20%20%0A%20%20%20%20%0A%20%20%20%20%20%20%20%20%20%20%20%20%3Cdiv%20class%3D%22folium-map%22%20id%3D%22map_d420d82e283e4e0fb6a0e36be364ff56%22%20%3E%3C/div%3E%0A%20%20%20%20%20%20%20%20%0A%3C/body%3E%0A%3Cscript%3E%20%20%20%20%0A%20%20%20%20%0A%20%20%20%20%20%20%20%20%20%20%20%20var%20map_d420d82e283e4e0fb6a0e36be364ff56%20%3D%20L.map%28%0A%20%20%20%20%20%20%20%20%20%20%20%20%20%20%20%20%22map_d420d82e283e4e0fb6a0e36be364ff56%22%2C%0A%20%20%20%20%20%20%20%20%20%20%20%20%20%20%20%20%7B%0A%20%20%20%20%20%20%20%20%20%20%20%20%20%20%20%20%20%20%20%20center%3A%20%5B37.0%2C%20126.0%5D%2C%0A%20%20%20%20%20%20%20%20%20%20%20%20%20%20%20%20%20%20%20%20crs%3A%20L.CRS.EPSG3857%2C%0A%20%20%20%20%20%20%20%20%20%20%20%20%20%20%20%20%20%20%20%20zoom%3A%206%2C%0A%20%20%20%20%20%20%20%20%20%20%20%20%20%20%20%20%20%20%20%20zoomControl%3A%20true%2C%0A%20%20%20%20%20%20%20%20%20%20%20%20%20%20%20%20%20%20%20%20preferCanvas%3A%20false%2C%0A%20%20%20%20%20%20%20%20%20%20%20%20%20%20%20%20%7D%0A%20%20%20%20%20%20%20%20%20%20%20%20%29%3B%0A%0A%20%20%20%20%20%20%20%20%20%20%20%20%0A%0A%20%20%20%20%20%20%20%20%0A%20%20%20%20%0A%20%20%20%20%20%20%20%20%20%20%20%20var%20tile_layer_368474a543b14226ac1096b4a8993626%20%3D%20L.tileLayer%28%0A%20%20%20%20%20%20%20%20%20%20%20%20%20%20%20%20%22https%3A//%7Bs%7D.tile.openstreetmap.org/%7Bz%7D/%7Bx%7D/%7By%7D.png%22%2C%0A%20%20%20%20%20%20%20%20%20%20%20%20%20%20%20%20%7B%22attribution%22%3A%20%22Data%20by%20%5Cu0026copy%3B%20%5Cu003ca%20href%3D%5C%22http%3A//openstreetmap.org%5C%22%5Cu003eOpenStreetMap%5Cu003c/a%5Cu003e%2C%20under%20%5Cu003ca%20href%3D%5C%22http%3A//www.openstreetmap.org/copyright%5C%22%5Cu003eODbL%5Cu003c/a%5Cu003e.%22%2C%20%22detectRetina%22%3A%20false%2C%20%22maxNativeZoom%22%3A%2018%2C%20%22maxZoom%22%3A%2018%2C%20%22minZoom%22%3A%200%2C%20%22noWrap%22%3A%20false%2C%20%22opacity%22%3A%201%2C%20%22subdomains%22%3A%20%22abc%22%2C%20%22tms%22%3A%20false%7D%0A%20%20%20%20%20%20%20%20%20%20%20%20%29.addTo%28map_d420d82e283e4e0fb6a0e36be364ff56%29%3B%0A%20%20%20%20%20%20%20%20%0A%20%20%20%20%0A%20%20%20%20%20%20%20%20%20%20%20%20var%20marker_b335adfd3dcc4e438030427cc3051a66%20%3D%20L.marker%28%0A%20%20%20%20%20%20%20%20%20%20%20%20%20%20%20%20%5B37.7521080804166%2C%20128.875906144832%5D%2C%0A%20%20%20%20%20%20%20%20%20%20%20%20%20%20%20%20%7B%7D%0A%20%20%20%20%20%20%20%20%20%20%20%20%29.addTo%28map_d420d82e283e4e0fb6a0e36be364ff56%29%3B%0A%20%20%20%20%20%20%20%20%0A%20%20%20%20%0A%20%20%20%20%20%20%20%20%20%20%20%20var%20marker_325f8e81e3f347089270d194f2eca11c%20%3D%20L.marker%28%0A%20%20%20%20%20%20%20%20%20%20%20%20%20%20%20%20%5B37.8812440340088%2C%20127.730207024668%5D%2C%0A%20%20%20%20%20%20%20%20%20%20%20%20%20%20%20%20%7B%7D%0A%20%20%20%20%20%20%20%20%20%20%20%20%29.addTo%28map_d420d82e283e4e0fb6a0e36be364ff56%29%3B%0A%20%20%20%20%20%20%20%20%0A%20%20%20%20%0A%20%20%20%20%20%20%20%20%20%20%20%20var%20marker_1c86ca6d9b9f426c95dbcba70695e721%20%3D%20L.marker%28%0A%20%20%20%20%20%20%20%20%20%20%20%20%20%20%20%20%5B37.4293941934866%2C%20127.255138719721%5D%2C%0A%20%20%20%20%20%20%20%20%20%20%20%20%20%20%20%20%7B%7D%0A%20%20%20%20%20%20%20%20%20%20%20%20%29.addTo%28map_d420d82e283e4e0fb6a0e36be364ff56%29%3B%0A%20%20%20%20%20%20%20%20%0A%20%20%20%20%0A%20%20%20%20%20%20%20%20%20%20%20%20var%20marker_d2477c42b3a846c7b535ad7a094de7bc%20%3D%20L.marker%28%0A%20%20%20%20%20%20%20%20%20%20%20%20%20%20%20%20%5B35.8713802646197%2C%20128.601805491072%5D%2C%0A%20%20%20%20%20%20%20%20%20%20%20%20%20%20%20%20%7B%7D%0A%20%20%20%20%20%20%20%20%20%20%20%20%29.addTo%28map_d420d82e283e4e0fb6a0e36be364ff56%29%3B%0A%20%20%20%20%20%20%20%20%0A%20%20%20%20%0A%20%20%20%20%20%20%20%20%20%20%20%20var%20marker_e09a3574f7074f0d83e941525c38d67c%20%3D%20L.marker%28%0A%20%20%20%20%20%20%20%20%20%20%20%20%20%20%20%20%5B36.3505388992836%2C%20127.38483484675%5D%2C%0A%20%20%20%20%20%20%20%20%20%20%20%20%20%20%20%20%7B%7D%0A%20%20%20%20%20%20%20%20%20%20%20%20%29.addTo%28map_d420d82e283e4e0fb6a0e36be364ff56%29%3B%0A%20%20%20%20%20%20%20%20%0A%20%20%20%20%0A%20%20%20%20%20%20%20%20%20%20%20%20var%20marker_15449a39c2fa41fe835a36f25a514c87%20%3D%20L.marker%28%0A%20%20%20%20%20%20%20%20%20%20%20%20%20%20%20%20%5B35.1798200522868%2C%20129.075087492149%5D%2C%0A%20%20%20%20%20%20%20%20%20%20%20%20%20%20%20%20%7B%7D%0A%20%20%20%20%20%20%20%20%20%20%20%20%29.addTo%28map_d420d82e283e4e0fb6a0e36be364ff56%29%3B%0A%20%20%20%20%20%20%20%20%0A%20%20%20%20%0A%20%20%20%20%20%20%20%20%20%20%20%20var%20marker_7b50abd102f7450682e231f46c712071%20%3D%20L.marker%28%0A%20%20%20%20%20%20%20%20%20%20%20%20%20%20%20%20%5B37.566826004661%2C%20126.978652258309%5D%2C%0A%20%20%20%20%20%20%20%20%20%20%20%20%20%20%20%20%7B%7D%0A%20%20%20%20%20%20%20%20%20%20%20%20%29.addTo%28map_d420d82e283e4e0fb6a0e36be364ff56%29%3B%0A%20%20%20%20%20%20%20%20%0A%20%20%20%20%0A%20%20%20%20%20%20%20%20%20%20%20%20var%20marker_54aa42c1226e4a87b839c659fe955304%20%3D%20L.marker%28%0A%20%20%20%20%20%20%20%20%20%20%20%20%20%20%20%20%5B35.8240731508775%2C%20127.148143800621%5D%2C%0A%20%20%20%20%20%20%20%20%20%20%20%20%20%20%20%20%7B%7D%0A%20%20%20%20%20%20%20%20%20%20%20%20%29.addTo%28map_d420d82e283e4e0fb6a0e36be364ff56%29%3B%0A%20%20%20%20%20%20%20%20%0A%20%20%20%20%0A%20%20%20%20%20%20%20%20%20%20%20%20var%20marker_f438d7d1a3f14c47b3a568c8bfb9ad1b%20%3D%20L.marker%28%0A%20%20%20%20%20%20%20%20%20%20%20%20%20%20%20%20%5B33.4889179032603%2C%20126.498229141199%5D%2C%0A%20%20%20%20%20%20%20%20%20%20%20%20%20%20%20%20%7B%7D%0A%20%20%20%20%20%20%20%20%20%20%20%20%29.addTo%28map_d420d82e283e4e0fb6a0e36be364ff56%29%3B%0A%20%20%20%20%20%20%20%20%0A%20%20%20%20%0A%20%20%20%20%20%20%20%20%20%20%20%20var%20marker_1cbbcedb27534f169d7bebc3f04b7080%20%3D%20L.marker%28%0A%20%20%20%20%20%20%20%20%20%20%20%20%20%20%20%20%5B36.6424871337289%2C%20127.489020156402%5D%2C%0A%20%20%20%20%20%20%20%20%20%20%20%20%20%20%20%20%7B%7D%0A%20%20%20%20%20%20%20%20%20%20%20%20%29.addTo%28map_d420d82e283e4e0fb6a0e36be364ff56%29%3B%0A%20%20%20%20%20%20%20%20%0A%3C/script%3E onload=\"this.contentDocument.open();this.contentDocument.write(    decodeURIComponent(this.getAttribute('data-html')));this.contentDocument.close();\" allowfullscreen webkitallowfullscreen mozallowfullscreen></iframe></div></div>"
      ],
      "text/plain": [
       "<folium.folium.Map at 0x2483b740730>"
      ]
     },
     "execution_count": 59,
     "metadata": {},
     "output_type": "execute_result"
    }
   ],
   "source": [
    "## 지도\n",
    "import folium\n",
    "center = [37,126]\n",
    "m = folium.Map(location=center, zoom_start=6)\n",
    "\n",
    "for c in korea:\n",
    "    folium.Marker(location= c).add_to(m)\n",
    "m"
   ]
  },
  {
   "cell_type": "code",
   "execution_count": null,
   "id": "95a21498",
   "metadata": {},
   "outputs": [],
   "source": []
  },
  {
   "cell_type": "markdown",
   "id": "cf00396c",
   "metadata": {},
   "source": [
    "# 주변국 위도경도"
   ]
  },
  {
   "cell_type": "code",
   "execution_count": 10,
   "id": "8b82f93c",
   "metadata": {},
   "outputs": [],
   "source": [
    "# 찾을 도시들\n",
    "\n",
    "areas = [ '혜산', '강계', '신의주', '함흥', '평양', '청진',\n",
    "         '가고시마', '나고야', '난징', '다카마쓰','도쿄', '삿포로', '센다이', '오사카','후쿠오카', '히로시마'\n",
    "        '베이징','상하이', '선양','창춘', '지난','난징'\n",
    "         '블라디보스톡'\n",
    "        ]\n",
    "\n",
    "# areas1 = ['선봉', '삼지연', '청진', '중강', '혜산', '강계', '풍산', '김책', '수풍', '장진', '신의주',\n",
    "#        '구성', '희천', '함흥', '신포', '안주', '양덕', '원산', '평양', '남포', '장전', '사리원',\n",
    "#        '신계', '용연', '해주', '개성', '평강', \n",
    "\n",
    "#         '가고시마', '나고야', , '다롄', '다카마쓰',\n",
    "#        '도쿄', '베이징', '블라디보스톡', '삿포로',\n",
    "#         '상하이', '선양','난징',\n",
    "#        '센다이', '오사카', '지난',\n",
    "#        '창춘', '텐진', '후쿠오카', '히로시마']\n"
   ]
  },
  {
   "cell_type": "code",
   "execution_count": 11,
   "id": "a0dec463",
   "metadata": {},
   "outputs": [
    {
     "data": {
      "text/html": [
       "<div>\n",
       "<style scoped>\n",
       "    .dataframe tbody tr th:only-of-type {\n",
       "        vertical-align: middle;\n",
       "    }\n",
       "\n",
       "    .dataframe tbody tr th {\n",
       "        vertical-align: top;\n",
       "    }\n",
       "\n",
       "    .dataframe thead th {\n",
       "        text-align: right;\n",
       "    }\n",
       "</style>\n",
       "<table border=\"1\" class=\"dataframe\">\n",
       "  <thead>\n",
       "    <tr style=\"text-align: right;\">\n",
       "      <th></th>\n",
       "      <th>country_name</th>\n",
       "      <th>city1</th>\n",
       "      <th>city2</th>\n",
       "      <th>위도</th>\n",
       "      <th>경도</th>\n",
       "    </tr>\n",
       "  </thead>\n",
       "  <tbody>\n",
       "    <tr>\n",
       "      <th>0</th>\n",
       "      <td>United States of America</td>\n",
       "      <td>California</td>\n",
       "      <td>Los Angeles</td>\n",
       "      <td>34.052230</td>\n",
       "      <td>-118.24368</td>\n",
       "    </tr>\n",
       "    <tr>\n",
       "      <th>1</th>\n",
       "      <td>China</td>\n",
       "      <td>Fujian</td>\n",
       "      <td>Fuzhou</td>\n",
       "      <td>26.061390</td>\n",
       "      <td>119.30611</td>\n",
       "    </tr>\n",
       "    <tr>\n",
       "      <th>2</th>\n",
       "      <td>Australia</td>\n",
       "      <td>Victoria</td>\n",
       "      <td>Melbourne</td>\n",
       "      <td>-37.814000</td>\n",
       "      <td>144.96332</td>\n",
       "    </tr>\n",
       "    <tr>\n",
       "      <th>3</th>\n",
       "      <td>China</td>\n",
       "      <td>Guangdong</td>\n",
       "      <td>Guangzhou</td>\n",
       "      <td>23.116670</td>\n",
       "      <td>113.25000</td>\n",
       "    </tr>\n",
       "    <tr>\n",
       "      <th>4</th>\n",
       "      <td>Japan</td>\n",
       "      <td>Tokyo</td>\n",
       "      <td>Tokyo</td>\n",
       "      <td>35.689506</td>\n",
       "      <td>139.69170</td>\n",
       "    </tr>\n",
       "  </tbody>\n",
       "</table>\n",
       "</div>"
      ],
      "text/plain": [
       "               country_name       city1        city2         위도         경도\n",
       "0  United States of America  California  Los Angeles  34.052230 -118.24368\n",
       "1                     China      Fujian       Fuzhou  26.061390  119.30611\n",
       "2                 Australia    Victoria    Melbourne -37.814000  144.96332\n",
       "3                     China   Guangdong    Guangzhou  23.116670  113.25000\n",
       "4                     Japan       Tokyo        Tokyo  35.689506  139.69170"
      ]
     },
     "execution_count": 11,
     "metadata": {},
     "output_type": "execute_result"
    }
   ],
   "source": [
    "df = pd.read_csv('./data/IP2LOCATION-LITE-DB5 (1).CSV',usecols=['-.1','-.2','-.3','0.000000','0.000000.1'])\n",
    "df.columns = ['country_name','city1','city2','위도','경도']\n",
    "df.head()"
   ]
  },
  {
   "cell_type": "markdown",
   "id": "9db4030a",
   "metadata": {},
   "source": [
    "## 북한"
   ]
  },
  {
   "cell_type": "code",
   "execution_count": 12,
   "id": "b74988d2",
   "metadata": {},
   "outputs": [
    {
     "data": {
      "text/plain": [
       "Series([], Name: country_name, dtype: int64)"
      ]
     },
     "execution_count": 12,
     "metadata": {},
     "output_type": "execute_result"
    }
   ],
   "source": [
    "df[df['country_name'].str.contains('Koea')]['country_name'].value_counts()"
   ]
  },
  {
   "cell_type": "code",
   "execution_count": 13,
   "id": "03c1fa0c",
   "metadata": {},
   "outputs": [
    {
     "data": {
      "text/plain": [
       "[[39.03385, 125.75432]]"
      ]
     },
     "execution_count": 13,
     "metadata": {},
     "output_type": "execute_result"
    }
   ],
   "source": [
    "df_North = df[df['country_name']== \"Korea (Democratic People's Republic of)\"]\n",
    "df_North.head()\n",
    "\n",
    "#평양\n",
    "north = []\n",
    "lst = []\n",
    "# lst.append(df_North['위도'][0])\n",
    "lst.append(df_North['위도'].iloc[0])\n",
    "lst.append(df_North['경도'].iloc[0])\n",
    "north.append(lst)\n",
    "north"
   ]
  },
  {
   "cell_type": "code",
   "execution_count": 14,
   "id": "a93559cf",
   "metadata": {},
   "outputs": [],
   "source": [
    "# 수작업 \n"
   ]
  },
  {
   "cell_type": "markdown",
   "id": "6869f36b",
   "metadata": {},
   "source": [
    "## 일본"
   ]
  },
  {
   "cell_type": "code",
   "execution_count": 15,
   "id": "cda8b135",
   "metadata": {},
   "outputs": [
    {
     "data": {
      "text/html": [
       "<div>\n",
       "<style scoped>\n",
       "    .dataframe tbody tr th:only-of-type {\n",
       "        vertical-align: middle;\n",
       "    }\n",
       "\n",
       "    .dataframe tbody tr th {\n",
       "        vertical-align: top;\n",
       "    }\n",
       "\n",
       "    .dataframe thead th {\n",
       "        text-align: right;\n",
       "    }\n",
       "</style>\n",
       "<table border=\"1\" class=\"dataframe\">\n",
       "  <thead>\n",
       "    <tr style=\"text-align: right;\">\n",
       "      <th></th>\n",
       "      <th>country_name</th>\n",
       "      <th>city1</th>\n",
       "      <th>city2</th>\n",
       "      <th>위도</th>\n",
       "      <th>경도</th>\n",
       "    </tr>\n",
       "  </thead>\n",
       "  <tbody>\n",
       "    <tr>\n",
       "      <th>4</th>\n",
       "      <td>Japan</td>\n",
       "      <td>Tokyo</td>\n",
       "      <td>Tokyo</td>\n",
       "      <td>35.689506</td>\n",
       "      <td>139.69170</td>\n",
       "    </tr>\n",
       "    <tr>\n",
       "      <th>6</th>\n",
       "      <td>Japan</td>\n",
       "      <td>Hiroshima</td>\n",
       "      <td>Hiroshima</td>\n",
       "      <td>34.385280</td>\n",
       "      <td>132.45528</td>\n",
       "    </tr>\n",
       "    <tr>\n",
       "      <th>7</th>\n",
       "      <td>Japan</td>\n",
       "      <td>Miyagi</td>\n",
       "      <td>Sendai</td>\n",
       "      <td>38.267000</td>\n",
       "      <td>140.86700</td>\n",
       "    </tr>\n",
       "    <tr>\n",
       "      <th>8</th>\n",
       "      <td>Japan</td>\n",
       "      <td>Hiroshima</td>\n",
       "      <td>Hiroshima</td>\n",
       "      <td>34.385280</td>\n",
       "      <td>132.45528</td>\n",
       "    </tr>\n",
       "    <tr>\n",
       "      <th>9</th>\n",
       "      <td>Japan</td>\n",
       "      <td>Shimane</td>\n",
       "      <td>Matsue</td>\n",
       "      <td>35.467000</td>\n",
       "      <td>133.05000</td>\n",
       "    </tr>\n",
       "  </tbody>\n",
       "</table>\n",
       "</div>"
      ],
      "text/plain": [
       "  country_name      city1      city2         위도         경도\n",
       "4        Japan      Tokyo      Tokyo  35.689506  139.69170\n",
       "6        Japan  Hiroshima  Hiroshima  34.385280  132.45528\n",
       "7        Japan     Miyagi     Sendai  38.267000  140.86700\n",
       "8        Japan  Hiroshima  Hiroshima  34.385280  132.45528\n",
       "9        Japan    Shimane     Matsue  35.467000  133.05000"
      ]
     },
     "execution_count": 15,
     "metadata": {},
     "output_type": "execute_result"
    }
   ],
   "source": [
    "df_japan = df[df['country_name']== \"Japan\"]\n",
    "df_japan.head()\n"
   ]
  },
  {
   "cell_type": "code",
   "execution_count": 16,
   "id": "7195fdf0",
   "metadata": {},
   "outputs": [
    {
     "name": "stdout",
     "output_type": "stream",
     "text": [
      "Tokyo              47700\n",
      "Osaka              10397\n",
      "Yokohama            8008\n",
      "Saitama             7863\n",
      "Chiba               6375\n",
      "Nagoya              5238\n",
      "Amagasaki           3993\n",
      "Fukuoka             3168\n",
      "Sapporo             2834\n",
      "Kyoto               2670\n",
      "Sendai              1870\n",
      "Shizuoka            1811\n",
      "Higashimurayama     1644\n",
      "Mito                1638\n",
      "Maebashi            1631\n",
      "Nisshin             1572\n",
      "Tsukuba             1530\n",
      "Marunouchi          1485\n",
      "Hiroshima           1469\n",
      "Utsunomiya          1384\n",
      "Funabashi           1322\n",
      "Okayama             1267\n",
      "Niigata             1224\n",
      "Otsu                1217\n",
      "Kumamoto            1212\n",
      "Matsumoto           1148\n",
      "Fukushima           1114\n",
      "Gifu                1113\n",
      "Hamamatsu           1112\n",
      "Kitakyushu          1062\n",
      "Kagoshima           1047\n",
      "Himeji              1037\n",
      "Nagano               986\n",
      "Numazu               974\n",
      "Naha                 964\n",
      "Nara                 959\n",
      "Oita                 924\n",
      "Kobe                 874\n",
      "Toyohashi            816\n",
      "Yokkaichi            767\n",
      "Matsuyama            762\n",
      "Toyama               753\n",
      "Nagasaki             740\n",
      "Tokai                732\n",
      "Yamagata             710\n",
      "Hino                 702\n",
      "Kanazawa             701\n",
      "Aomori               701\n",
      "Morioka              687\n",
      "Yamaguchi            646\n",
      "Name: city2, dtype: int64\n"
     ]
    }
   ],
   "source": [
    "# 영문 이름\n",
    "print(df_japan['city2'].value_counts()[:50])\n",
    "\n",
    "# '가고시마','도쿄', '삿포로', '센다이', '오사카','후쿠오카', '히로시마','나고야',\n",
    "japan_lst = ['Kagoshima','Tokyo', 'Osaka', 'Nagoya' ,'Fukuoka','Sapporo','Sendai','Funabashi']"
   ]
  },
  {
   "cell_type": "code",
   "execution_count": 17,
   "id": "d7cea629",
   "metadata": {},
   "outputs": [
    {
     "name": "stdout",
     "output_type": "stream",
     "text": [
      "35.689506 139.6917\n"
     ]
    }
   ],
   "source": [
    "# 위도 경도 추출\n",
    "df_japan.groupby('city2')[['위도','경도']].mean().loc['Tokyo']\n",
    "lati = df_japan.groupby('city2')[['위도','경도']].mean().loc['Tokyo'][0]\n",
    "long = df_japan.groupby('city2')[['위도','경도']].mean().loc['Tokyo'][1]\n",
    "print(lati, long)"
   ]
  },
  {
   "cell_type": "code",
   "execution_count": 18,
   "id": "5768a6e2",
   "metadata": {},
   "outputs": [
    {
     "data": {
      "text/plain": [
       "[[31.600000000000005, 130.55],\n",
       " [35.689506, 139.6917],\n",
       " [34.69389, 135.50222],\n",
       " [35.181456, 136.906386],\n",
       " [33.583, 130.4],\n",
       " [43.067, 141.35],\n",
       " [38.267, 140.867],\n",
       " [35.7, 139.983]]"
      ]
     },
     "execution_count": 18,
     "metadata": {},
     "output_type": "execute_result"
    }
   ],
   "source": [
    "japan = []\n",
    "for city in japan_lst:\n",
    "    loc=[]\n",
    "    df_japan.groupby('city2')[['위도','경도']].mean().loc[str(city)]\n",
    "    lati = df_japan.groupby('city2')[['위도','경도']].mean().loc[str(city)][0]\n",
    "    long = df_japan.groupby('city2')[['위도','경도']].mean().loc[str(city)][1]\n",
    "    loc.append(lati)\n",
    "    loc.append(long)\n",
    "    japan.append(loc)\n",
    "japan"
   ]
  },
  {
   "cell_type": "markdown",
   "id": "e22f7520",
   "metadata": {},
   "source": [
    "## 중국"
   ]
  },
  {
   "cell_type": "code",
   "execution_count": 19,
   "id": "cbbce936",
   "metadata": {},
   "outputs": [
    {
     "data": {
      "text/html": [
       "<div>\n",
       "<style scoped>\n",
       "    .dataframe tbody tr th:only-of-type {\n",
       "        vertical-align: middle;\n",
       "    }\n",
       "\n",
       "    .dataframe tbody tr th {\n",
       "        vertical-align: top;\n",
       "    }\n",
       "\n",
       "    .dataframe thead th {\n",
       "        text-align: right;\n",
       "    }\n",
       "</style>\n",
       "<table border=\"1\" class=\"dataframe\">\n",
       "  <thead>\n",
       "    <tr style=\"text-align: right;\">\n",
       "      <th></th>\n",
       "      <th>country_name</th>\n",
       "      <th>city1</th>\n",
       "      <th>city2</th>\n",
       "      <th>위도</th>\n",
       "      <th>경도</th>\n",
       "    </tr>\n",
       "  </thead>\n",
       "  <tbody>\n",
       "    <tr>\n",
       "      <th>1</th>\n",
       "      <td>China</td>\n",
       "      <td>Fujian</td>\n",
       "      <td>Fuzhou</td>\n",
       "      <td>26.06139</td>\n",
       "      <td>119.30611</td>\n",
       "    </tr>\n",
       "    <tr>\n",
       "      <th>3</th>\n",
       "      <td>China</td>\n",
       "      <td>Guangdong</td>\n",
       "      <td>Guangzhou</td>\n",
       "      <td>23.11667</td>\n",
       "      <td>113.25000</td>\n",
       "    </tr>\n",
       "    <tr>\n",
       "      <th>5</th>\n",
       "      <td>China</td>\n",
       "      <td>Guangdong</td>\n",
       "      <td>Guangzhou</td>\n",
       "      <td>23.11667</td>\n",
       "      <td>113.25000</td>\n",
       "    </tr>\n",
       "    <tr>\n",
       "      <th>175</th>\n",
       "      <td>China</td>\n",
       "      <td>Fujian</td>\n",
       "      <td>Fuzhou</td>\n",
       "      <td>26.06139</td>\n",
       "      <td>119.30611</td>\n",
       "    </tr>\n",
       "    <tr>\n",
       "      <th>177</th>\n",
       "      <td>China</td>\n",
       "      <td>Fujian</td>\n",
       "      <td>Fuzhou</td>\n",
       "      <td>26.06139</td>\n",
       "      <td>119.30611</td>\n",
       "    </tr>\n",
       "  </tbody>\n",
       "</table>\n",
       "</div>"
      ],
      "text/plain": [
       "    country_name      city1      city2        위도         경도\n",
       "1          China     Fujian     Fuzhou  26.06139  119.30611\n",
       "3          China  Guangdong  Guangzhou  23.11667  113.25000\n",
       "5          China  Guangdong  Guangzhou  23.11667  113.25000\n",
       "175        China     Fujian     Fuzhou  26.06139  119.30611\n",
       "177        China     Fujian     Fuzhou  26.06139  119.30611"
      ]
     },
     "execution_count": 19,
     "metadata": {},
     "output_type": "execute_result"
    }
   ],
   "source": [
    "df_china = df[df['country_name']== \"China\"]\n",
    "df_china.head()"
   ]
  },
  {
   "cell_type": "code",
   "execution_count": 20,
   "id": "e95bb8b2",
   "metadata": {},
   "outputs": [
    {
     "name": "stdout",
     "output_type": "stream",
     "text": [
      "Beijing         3330\n",
      "Guangzhou       2143\n",
      "Fuzhou          1505\n",
      "Shenzhen        1187\n",
      "Hangzhou        1130\n",
      "Nanjing         1031\n",
      "Shanghai         953\n",
      "Suzhou           849\n",
      "Jinan            834\n",
      "Chengdu          680\n",
      "Zhengzhou        627\n",
      "Dongguan         514\n",
      "Harbin           461\n",
      "Shijiazhuang     442\n",
      "Dalian           427\n",
      "Qingdao          420\n",
      "Foshan           407\n",
      "Shenyang         399\n",
      "Wuhan            396\n",
      "Hefei            386\n",
      "Name: city2, dtype: int64\n"
     ]
    }
   ],
   "source": [
    "# 영문이름 변경\n",
    "\n",
    "print(df_china['city2'].value_counts()[:20])\n",
    "\n",
    "# ['베이징','상하이', '선양','창춘', '지난','난징','텐진']"
   ]
  },
  {
   "cell_type": "code",
   "execution_count": 21,
   "id": "a41971b1",
   "metadata": {},
   "outputs": [
    {
     "data": {
      "text/html": [
       "<div>\n",
       "<style scoped>\n",
       "    .dataframe tbody tr th:only-of-type {\n",
       "        vertical-align: middle;\n",
       "    }\n",
       "\n",
       "    .dataframe tbody tr th {\n",
       "        vertical-align: top;\n",
       "    }\n",
       "\n",
       "    .dataframe thead th {\n",
       "        text-align: right;\n",
       "    }\n",
       "</style>\n",
       "<table border=\"1\" class=\"dataframe\">\n",
       "  <thead>\n",
       "    <tr style=\"text-align: right;\">\n",
       "      <th></th>\n",
       "      <th>country_name</th>\n",
       "      <th>city1</th>\n",
       "      <th>city2</th>\n",
       "      <th>위도</th>\n",
       "      <th>경도</th>\n",
       "    </tr>\n",
       "  </thead>\n",
       "  <tbody>\n",
       "    <tr>\n",
       "      <th>298799</th>\n",
       "      <td>China</td>\n",
       "      <td>Yunnan</td>\n",
       "      <td>Tengyue</td>\n",
       "      <td>24.99492</td>\n",
       "      <td>98.51276</td>\n",
       "    </tr>\n",
       "    <tr>\n",
       "      <th>502054</th>\n",
       "      <td>China</td>\n",
       "      <td>Shandong</td>\n",
       "      <td>Tengzhou</td>\n",
       "      <td>35.07706</td>\n",
       "      <td>117.15176</td>\n",
       "    </tr>\n",
       "    <tr>\n",
       "      <th>502060</th>\n",
       "      <td>China</td>\n",
       "      <td>Shandong</td>\n",
       "      <td>Tengzhou</td>\n",
       "      <td>35.07706</td>\n",
       "      <td>117.15176</td>\n",
       "    </tr>\n",
       "    <tr>\n",
       "      <th>511431</th>\n",
       "      <td>China</td>\n",
       "      <td>Yunnan</td>\n",
       "      <td>Tengyue</td>\n",
       "      <td>24.99492</td>\n",
       "      <td>98.51276</td>\n",
       "    </tr>\n",
       "    <tr>\n",
       "      <th>1802395</th>\n",
       "      <td>China</td>\n",
       "      <td>Shandong</td>\n",
       "      <td>Tengzhou</td>\n",
       "      <td>35.07706</td>\n",
       "      <td>117.15176</td>\n",
       "    </tr>\n",
       "    <tr>\n",
       "      <th>2363275</th>\n",
       "      <td>China</td>\n",
       "      <td>Yunnan</td>\n",
       "      <td>Tengyue</td>\n",
       "      <td>24.99492</td>\n",
       "      <td>98.51276</td>\n",
       "    </tr>\n",
       "    <tr>\n",
       "      <th>2368515</th>\n",
       "      <td>China</td>\n",
       "      <td>Yunnan</td>\n",
       "      <td>Tengyue</td>\n",
       "      <td>24.99492</td>\n",
       "      <td>98.51276</td>\n",
       "    </tr>\n",
       "    <tr>\n",
       "      <th>3014133</th>\n",
       "      <td>China</td>\n",
       "      <td>Shandong</td>\n",
       "      <td>Tengzhou</td>\n",
       "      <td>35.07706</td>\n",
       "      <td>117.15176</td>\n",
       "    </tr>\n",
       "    <tr>\n",
       "      <th>3032353</th>\n",
       "      <td>China</td>\n",
       "      <td>Yunnan</td>\n",
       "      <td>Tengyue</td>\n",
       "      <td>24.99492</td>\n",
       "      <td>98.51276</td>\n",
       "    </tr>\n",
       "  </tbody>\n",
       "</table>\n",
       "</div>"
      ],
      "text/plain": [
       "        country_name     city1     city2        위도         경도\n",
       "298799         China    Yunnan   Tengyue  24.99492   98.51276\n",
       "502054         China  Shandong  Tengzhou  35.07706  117.15176\n",
       "502060         China  Shandong  Tengzhou  35.07706  117.15176\n",
       "511431         China    Yunnan   Tengyue  24.99492   98.51276\n",
       "1802395        China  Shandong  Tengzhou  35.07706  117.15176\n",
       "2363275        China    Yunnan   Tengyue  24.99492   98.51276\n",
       "2368515        China    Yunnan   Tengyue  24.99492   98.51276\n",
       "3014133        China  Shandong  Tengzhou  35.07706  117.15176\n",
       "3032353        China    Yunnan   Tengyue  24.99492   98.51276"
      ]
     },
     "execution_count": 21,
     "metadata": {},
     "output_type": "execute_result"
    }
   ],
   "source": [
    "# 영문이름 찾기\n",
    "df_china[df_china['city2'].str.contains('Ten')]"
   ]
  },
  {
   "cell_type": "code",
   "execution_count": 22,
   "id": "e64d1e04",
   "metadata": {},
   "outputs": [
    {
     "data": {
      "text/plain": [
       "[[31.22222, 121.45806],\n",
       " [39.9075, 116.39722999999998],\n",
       " [41.79222, 123.43278],\n",
       " [43.879999999999995, 125.32277999999998],\n",
       " [36.66833, 116.99722],\n",
       " [32.06167, 118.77778]]"
      ]
     },
     "execution_count": 22,
     "metadata": {},
     "output_type": "execute_result"
    }
   ],
   "source": [
    "china_lst = ['Shanghai','Beijing','Shenyang','Changchun','Jinan','Nanjing']\n",
    "\n",
    "china = []\n",
    "for city in china_lst:\n",
    "    loc=[]\n",
    "    df_china.groupby('city2')[['위도','경도']].mean().loc[str(city)]\n",
    "    lati = df_china.groupby('city2')[['위도','경도']].mean().loc[str(city)][0]\n",
    "    long = df_china.groupby('city2')[['위도','경도']].mean().loc[str(city)][1]\n",
    "    loc.append(lati)\n",
    "    loc.append(long)\n",
    "    china.append(loc)\n",
    "china"
   ]
  },
  {
   "cell_type": "markdown",
   "id": "ad0ad40b",
   "metadata": {},
   "source": [
    "## 러시아"
   ]
  },
  {
   "cell_type": "code",
   "execution_count": 23,
   "id": "9e3619e7",
   "metadata": {},
   "outputs": [
    {
     "data": {
      "text/html": [
       "<div>\n",
       "<style scoped>\n",
       "    .dataframe tbody tr th:only-of-type {\n",
       "        vertical-align: middle;\n",
       "    }\n",
       "\n",
       "    .dataframe tbody tr th {\n",
       "        vertical-align: top;\n",
       "    }\n",
       "\n",
       "    .dataframe thead th {\n",
       "        text-align: right;\n",
       "    }\n",
       "</style>\n",
       "<table border=\"1\" class=\"dataframe\">\n",
       "  <thead>\n",
       "    <tr style=\"text-align: right;\">\n",
       "      <th></th>\n",
       "      <th>country_name</th>\n",
       "      <th>city1</th>\n",
       "      <th>city2</th>\n",
       "      <th>위도</th>\n",
       "      <th>경도</th>\n",
       "    </tr>\n",
       "  </thead>\n",
       "  <tbody>\n",
       "    <tr>\n",
       "      <th>13347</th>\n",
       "      <td>Russian Federation</td>\n",
       "      <td>Sankt-Peterburg</td>\n",
       "      <td>Saint Petersburg</td>\n",
       "      <td>59.89444</td>\n",
       "      <td>30.26417</td>\n",
       "    </tr>\n",
       "    <tr>\n",
       "      <th>13403</th>\n",
       "      <td>Russian Federation</td>\n",
       "      <td>Moskva</td>\n",
       "      <td>Moscow</td>\n",
       "      <td>55.75222</td>\n",
       "      <td>37.61556</td>\n",
       "    </tr>\n",
       "    <tr>\n",
       "      <th>13434</th>\n",
       "      <td>Russian Federation</td>\n",
       "      <td>Moskva</td>\n",
       "      <td>Moscow</td>\n",
       "      <td>55.75222</td>\n",
       "      <td>37.61556</td>\n",
       "    </tr>\n",
       "    <tr>\n",
       "      <th>13439</th>\n",
       "      <td>Russian Federation</td>\n",
       "      <td>Moskva</td>\n",
       "      <td>Moscow</td>\n",
       "      <td>55.75222</td>\n",
       "      <td>37.61556</td>\n",
       "    </tr>\n",
       "    <tr>\n",
       "      <th>13446</th>\n",
       "      <td>Russian Federation</td>\n",
       "      <td>Moskva</td>\n",
       "      <td>Moscow</td>\n",
       "      <td>55.75222</td>\n",
       "      <td>37.61556</td>\n",
       "    </tr>\n",
       "    <tr>\n",
       "      <th>...</th>\n",
       "      <td>...</td>\n",
       "      <td>...</td>\n",
       "      <td>...</td>\n",
       "      <td>...</td>\n",
       "      <td>...</td>\n",
       "    </tr>\n",
       "    <tr>\n",
       "      <th>3005941</th>\n",
       "      <td>Russian Federation</td>\n",
       "      <td>Voronezhskaya oblast'</td>\n",
       "      <td>Sloboda</td>\n",
       "      <td>51.14210</td>\n",
       "      <td>40.30210</td>\n",
       "    </tr>\n",
       "    <tr>\n",
       "      <th>3005942</th>\n",
       "      <td>Russian Federation</td>\n",
       "      <td>Moskva</td>\n",
       "      <td>Moscow</td>\n",
       "      <td>55.75222</td>\n",
       "      <td>37.61556</td>\n",
       "    </tr>\n",
       "    <tr>\n",
       "      <th>3005946</th>\n",
       "      <td>Russian Federation</td>\n",
       "      <td>Moskva</td>\n",
       "      <td>Moscow</td>\n",
       "      <td>55.75222</td>\n",
       "      <td>37.61556</td>\n",
       "    </tr>\n",
       "    <tr>\n",
       "      <th>3005947</th>\n",
       "      <td>Russian Federation</td>\n",
       "      <td>Tul'skaya oblast'</td>\n",
       "      <td>Sverdlovskaya</td>\n",
       "      <td>53.71583</td>\n",
       "      <td>37.74528</td>\n",
       "    </tr>\n",
       "    <tr>\n",
       "      <th>3005948</th>\n",
       "      <td>Russian Federation</td>\n",
       "      <td>Sverdlovskaya oblast'</td>\n",
       "      <td>Yekaterinburg</td>\n",
       "      <td>56.85750</td>\n",
       "      <td>60.61250</td>\n",
       "    </tr>\n",
       "  </tbody>\n",
       "</table>\n",
       "<p>67045 rows × 5 columns</p>\n",
       "</div>"
      ],
      "text/plain": [
       "               country_name                  city1             city2  \\\n",
       "13347    Russian Federation        Sankt-Peterburg  Saint Petersburg   \n",
       "13403    Russian Federation                 Moskva            Moscow   \n",
       "13434    Russian Federation                 Moskva            Moscow   \n",
       "13439    Russian Federation                 Moskva            Moscow   \n",
       "13446    Russian Federation                 Moskva            Moscow   \n",
       "...                     ...                    ...               ...   \n",
       "3005941  Russian Federation  Voronezhskaya oblast'           Sloboda   \n",
       "3005942  Russian Federation                 Moskva            Moscow   \n",
       "3005946  Russian Federation                 Moskva            Moscow   \n",
       "3005947  Russian Federation      Tul'skaya oblast'     Sverdlovskaya   \n",
       "3005948  Russian Federation  Sverdlovskaya oblast'     Yekaterinburg   \n",
       "\n",
       "               위도        경도  \n",
       "13347    59.89444  30.26417  \n",
       "13403    55.75222  37.61556  \n",
       "13434    55.75222  37.61556  \n",
       "13439    55.75222  37.61556  \n",
       "13446    55.75222  37.61556  \n",
       "...           ...       ...  \n",
       "3005941  51.14210  40.30210  \n",
       "3005942  55.75222  37.61556  \n",
       "3005946  55.75222  37.61556  \n",
       "3005947  53.71583  37.74528  \n",
       "3005948  56.85750  60.61250  \n",
       "\n",
       "[67045 rows x 5 columns]"
      ]
     },
     "execution_count": 23,
     "metadata": {},
     "output_type": "execute_result"
    }
   ],
   "source": [
    "df[df['country_name'].str.contains('Rus')]"
   ]
  },
  {
   "cell_type": "code",
   "execution_count": 24,
   "id": "c39816c6",
   "metadata": {},
   "outputs": [
    {
     "data": {
      "text/html": [
       "<div>\n",
       "<style scoped>\n",
       "    .dataframe tbody tr th:only-of-type {\n",
       "        vertical-align: middle;\n",
       "    }\n",
       "\n",
       "    .dataframe tbody tr th {\n",
       "        vertical-align: top;\n",
       "    }\n",
       "\n",
       "    .dataframe thead th {\n",
       "        text-align: right;\n",
       "    }\n",
       "</style>\n",
       "<table border=\"1\" class=\"dataframe\">\n",
       "  <thead>\n",
       "    <tr style=\"text-align: right;\">\n",
       "      <th></th>\n",
       "      <th>country_name</th>\n",
       "      <th>city1</th>\n",
       "      <th>city2</th>\n",
       "      <th>위도</th>\n",
       "      <th>경도</th>\n",
       "    </tr>\n",
       "  </thead>\n",
       "  <tbody>\n",
       "    <tr>\n",
       "      <th>13347</th>\n",
       "      <td>Russian Federation</td>\n",
       "      <td>Sankt-Peterburg</td>\n",
       "      <td>Saint Petersburg</td>\n",
       "      <td>59.89444</td>\n",
       "      <td>30.26417</td>\n",
       "    </tr>\n",
       "    <tr>\n",
       "      <th>13403</th>\n",
       "      <td>Russian Federation</td>\n",
       "      <td>Moskva</td>\n",
       "      <td>Moscow</td>\n",
       "      <td>55.75222</td>\n",
       "      <td>37.61556</td>\n",
       "    </tr>\n",
       "    <tr>\n",
       "      <th>13434</th>\n",
       "      <td>Russian Federation</td>\n",
       "      <td>Moskva</td>\n",
       "      <td>Moscow</td>\n",
       "      <td>55.75222</td>\n",
       "      <td>37.61556</td>\n",
       "    </tr>\n",
       "    <tr>\n",
       "      <th>13439</th>\n",
       "      <td>Russian Federation</td>\n",
       "      <td>Moskva</td>\n",
       "      <td>Moscow</td>\n",
       "      <td>55.75222</td>\n",
       "      <td>37.61556</td>\n",
       "    </tr>\n",
       "    <tr>\n",
       "      <th>13446</th>\n",
       "      <td>Russian Federation</td>\n",
       "      <td>Moskva</td>\n",
       "      <td>Moscow</td>\n",
       "      <td>55.75222</td>\n",
       "      <td>37.61556</td>\n",
       "    </tr>\n",
       "  </tbody>\n",
       "</table>\n",
       "</div>"
      ],
      "text/plain": [
       "             country_name            city1             city2        위도  \\\n",
       "13347  Russian Federation  Sankt-Peterburg  Saint Petersburg  59.89444   \n",
       "13403  Russian Federation           Moskva            Moscow  55.75222   \n",
       "13434  Russian Federation           Moskva            Moscow  55.75222   \n",
       "13439  Russian Federation           Moskva            Moscow  55.75222   \n",
       "13446  Russian Federation           Moskva            Moscow  55.75222   \n",
       "\n",
       "             경도  \n",
       "13347  30.26417  \n",
       "13403  37.61556  \n",
       "13434  37.61556  \n",
       "13439  37.61556  \n",
       "13446  37.61556  "
      ]
     },
     "execution_count": 24,
     "metadata": {},
     "output_type": "execute_result"
    }
   ],
   "source": [
    "df_russia = df[df['country_name']== \"Russian Federation\"]\n",
    "df_russia.head()"
   ]
  },
  {
   "cell_type": "code",
   "execution_count": 25,
   "id": "aabfe552",
   "metadata": {},
   "outputs": [
    {
     "data": {
      "text/html": [
       "<div>\n",
       "<style scoped>\n",
       "    .dataframe tbody tr th:only-of-type {\n",
       "        vertical-align: middle;\n",
       "    }\n",
       "\n",
       "    .dataframe tbody tr th {\n",
       "        vertical-align: top;\n",
       "    }\n",
       "\n",
       "    .dataframe thead th {\n",
       "        text-align: right;\n",
       "    }\n",
       "</style>\n",
       "<table border=\"1\" class=\"dataframe\">\n",
       "  <thead>\n",
       "    <tr style=\"text-align: right;\">\n",
       "      <th></th>\n",
       "      <th>country_name</th>\n",
       "      <th>city1</th>\n",
       "      <th>city2</th>\n",
       "      <th>위도</th>\n",
       "      <th>경도</th>\n",
       "    </tr>\n",
       "  </thead>\n",
       "  <tbody>\n",
       "    <tr>\n",
       "      <th>46547</th>\n",
       "      <td>Russian Federation</td>\n",
       "      <td>Krasnodarskiy kray</td>\n",
       "      <td>Vladimirskaya</td>\n",
       "      <td>44.54550</td>\n",
       "      <td>40.79330</td>\n",
       "    </tr>\n",
       "    <tr>\n",
       "      <th>46862</th>\n",
       "      <td>Russian Federation</td>\n",
       "      <td>Severnaya Osetiya, Respublika</td>\n",
       "      <td>Vladikavkaz</td>\n",
       "      <td>43.03667</td>\n",
       "      <td>44.66778</td>\n",
       "    </tr>\n",
       "    <tr>\n",
       "      <th>49184</th>\n",
       "      <td>Russian Federation</td>\n",
       "      <td>Severnaya Osetiya, Respublika</td>\n",
       "      <td>Vladikavkaz</td>\n",
       "      <td>43.03667</td>\n",
       "      <td>44.66778</td>\n",
       "    </tr>\n",
       "    <tr>\n",
       "      <th>57889</th>\n",
       "      <td>Russian Federation</td>\n",
       "      <td>Primorskiy kray</td>\n",
       "      <td>Vladivostok</td>\n",
       "      <td>43.10562</td>\n",
       "      <td>131.87353</td>\n",
       "    </tr>\n",
       "    <tr>\n",
       "      <th>57891</th>\n",
       "      <td>Russian Federation</td>\n",
       "      <td>Primorskiy kray</td>\n",
       "      <td>Vladivostok</td>\n",
       "      <td>43.10562</td>\n",
       "      <td>131.87353</td>\n",
       "    </tr>\n",
       "    <tr>\n",
       "      <th>...</th>\n",
       "      <td>...</td>\n",
       "      <td>...</td>\n",
       "      <td>...</td>\n",
       "      <td>...</td>\n",
       "      <td>...</td>\n",
       "    </tr>\n",
       "    <tr>\n",
       "      <th>2996696</th>\n",
       "      <td>Russian Federation</td>\n",
       "      <td>Primorskiy kray</td>\n",
       "      <td>Vladivostok</td>\n",
       "      <td>43.10562</td>\n",
       "      <td>131.87353</td>\n",
       "    </tr>\n",
       "    <tr>\n",
       "      <th>3000227</th>\n",
       "      <td>Russian Federation</td>\n",
       "      <td>Severnaya Osetiya, Respublika</td>\n",
       "      <td>Vladikavkaz</td>\n",
       "      <td>43.03667</td>\n",
       "      <td>44.66778</td>\n",
       "    </tr>\n",
       "    <tr>\n",
       "      <th>3000298</th>\n",
       "      <td>Russian Federation</td>\n",
       "      <td>Severnaya Osetiya, Respublika</td>\n",
       "      <td>Vladikavkaz</td>\n",
       "      <td>43.03667</td>\n",
       "      <td>44.66778</td>\n",
       "    </tr>\n",
       "    <tr>\n",
       "      <th>3003580</th>\n",
       "      <td>Russian Federation</td>\n",
       "      <td>Primorskiy kray</td>\n",
       "      <td>Vladivostok</td>\n",
       "      <td>43.10562</td>\n",
       "      <td>131.87353</td>\n",
       "    </tr>\n",
       "    <tr>\n",
       "      <th>3003582</th>\n",
       "      <td>Russian Federation</td>\n",
       "      <td>Primorskiy kray</td>\n",
       "      <td>Vladivostok</td>\n",
       "      <td>43.10562</td>\n",
       "      <td>131.87353</td>\n",
       "    </tr>\n",
       "  </tbody>\n",
       "</table>\n",
       "<p>588 rows × 5 columns</p>\n",
       "</div>"
      ],
      "text/plain": [
       "               country_name                          city1          city2  \\\n",
       "46547    Russian Federation             Krasnodarskiy kray  Vladimirskaya   \n",
       "46862    Russian Federation  Severnaya Osetiya, Respublika    Vladikavkaz   \n",
       "49184    Russian Federation  Severnaya Osetiya, Respublika    Vladikavkaz   \n",
       "57889    Russian Federation                Primorskiy kray    Vladivostok   \n",
       "57891    Russian Federation                Primorskiy kray    Vladivostok   \n",
       "...                     ...                            ...            ...   \n",
       "2996696  Russian Federation                Primorskiy kray    Vladivostok   \n",
       "3000227  Russian Federation  Severnaya Osetiya, Respublika    Vladikavkaz   \n",
       "3000298  Russian Federation  Severnaya Osetiya, Respublika    Vladikavkaz   \n",
       "3003580  Russian Federation                Primorskiy kray    Vladivostok   \n",
       "3003582  Russian Federation                Primorskiy kray    Vladivostok   \n",
       "\n",
       "               위도         경도  \n",
       "46547    44.54550   40.79330  \n",
       "46862    43.03667   44.66778  \n",
       "49184    43.03667   44.66778  \n",
       "57889    43.10562  131.87353  \n",
       "57891    43.10562  131.87353  \n",
       "...           ...        ...  \n",
       "2996696  43.10562  131.87353  \n",
       "3000227  43.03667   44.66778  \n",
       "3000298  43.03667   44.66778  \n",
       "3003580  43.10562  131.87353  \n",
       "3003582  43.10562  131.87353  \n",
       "\n",
       "[588 rows x 5 columns]"
      ]
     },
     "execution_count": 25,
     "metadata": {},
     "output_type": "execute_result"
    }
   ],
   "source": [
    "# 블라디보스톡\n",
    "df_russia[df_russia['city2'].str.contains('Vladi')]"
   ]
  },
  {
   "cell_type": "code",
   "execution_count": 26,
   "id": "d4791e1b",
   "metadata": {},
   "outputs": [
    {
     "data": {
      "text/plain": [
       "[[43.10562, 131.87353]]"
      ]
     },
     "execution_count": 26,
     "metadata": {},
     "output_type": "execute_result"
    }
   ],
   "source": [
    "russia_lst = ['Vladivostok']\n",
    "\n",
    "russia = []\n",
    "for city in russia_lst:\n",
    "    loc=[]\n",
    "    df_russia.groupby('city2')[['위도','경도']].mean().loc[str(city)]\n",
    "    lati = df_russia.groupby('city2')[['위도','경도']].mean().loc[str(city)][0]\n",
    "    long = df_russia.groupby('city2')[['위도','경도']].mean().loc[str(city)][1]\n",
    "    loc.append(lati)\n",
    "    loc.append(long)\n",
    "    russia.append(loc)\n",
    "russia\n"
   ]
  },
  {
   "cell_type": "code",
   "execution_count": 27,
   "id": "e12df4a4",
   "metadata": {},
   "outputs": [
    {
     "data": {
      "text/plain": [
       "[[39.03385, 125.75432],\n",
       " [31.600000000000005, 130.55],\n",
       " [35.689506, 139.6917],\n",
       " [34.69389, 135.50222],\n",
       " [35.181456, 136.906386],\n",
       " [33.583, 130.4],\n",
       " [43.067, 141.35],\n",
       " [38.267, 140.867],\n",
       " [35.7, 139.983]]"
      ]
     },
     "execution_count": 27,
     "metadata": {},
     "output_type": "execute_result"
    }
   ],
   "source": [
    "# city= []\n",
    "# city.apppend(north)\n",
    "# city.apppend(japan)\n",
    "# city.apppend(china)\n",
    "# city.apppend(russia)\n",
    "north + japan"
   ]
  },
  {
   "cell_type": "code",
   "execution_count": 28,
   "id": "cfe5b06c",
   "metadata": {},
   "outputs": [],
   "source": [
    "# import folium\n",
    "# from folium.plugins import MarkerCluster\n",
    "\n",
    "# map = folium.Map(location=[43.10562, 131.87353], zoom_start=5)\n",
    "# cluster = MarkerCluster(locations = city)\n",
    "# cluster.add_to(map)\n",
    "# map"
   ]
  },
  {
   "cell_type": "code",
   "execution_count": null,
   "id": "abbae563",
   "metadata": {},
   "outputs": [],
   "source": []
  },
  {
   "cell_type": "markdown",
   "id": "ec0a3bc3",
   "metadata": {},
   "source": [
    "# 지도에 표시하기"
   ]
  },
  {
   "cell_type": "code",
   "execution_count": 29,
   "id": "98addc50",
   "metadata": {},
   "outputs": [
    {
     "data": {
      "text/html": [
       "<div style=\"width:100%;\"><div style=\"position:relative;width:100%;height:0;padding-bottom:60%;\"><span style=\"color:#565656\">Make this Notebook Trusted to load map: File -> Trust Notebook</span><iframe src=\"about:blank\" style=\"position:absolute;width:100%;height:100%;left:0;top:0;border:none !important;\" data-html=%3C%21DOCTYPE%20html%3E%0A%3Chead%3E%20%20%20%20%0A%20%20%20%20%3Cmeta%20http-equiv%3D%22content-type%22%20content%3D%22text/html%3B%20charset%3DUTF-8%22%20/%3E%0A%20%20%20%20%0A%20%20%20%20%20%20%20%20%3Cscript%3E%0A%20%20%20%20%20%20%20%20%20%20%20%20L_NO_TOUCH%20%3D%20false%3B%0A%20%20%20%20%20%20%20%20%20%20%20%20L_DISABLE_3D%20%3D%20false%3B%0A%20%20%20%20%20%20%20%20%3C/script%3E%0A%20%20%20%20%0A%20%20%20%20%3Cstyle%3Ehtml%2C%20body%20%7Bwidth%3A%20100%25%3Bheight%3A%20100%25%3Bmargin%3A%200%3Bpadding%3A%200%3B%7D%3C/style%3E%0A%20%20%20%20%3Cstyle%3E%23map%20%7Bposition%3Aabsolute%3Btop%3A0%3Bbottom%3A0%3Bright%3A0%3Bleft%3A0%3B%7D%3C/style%3E%0A%20%20%20%20%3Cscript%20src%3D%22https%3A//cdn.jsdelivr.net/npm/leaflet%401.6.0/dist/leaflet.js%22%3E%3C/script%3E%0A%20%20%20%20%3Cscript%20src%3D%22https%3A//code.jquery.com/jquery-1.12.4.min.js%22%3E%3C/script%3E%0A%20%20%20%20%3Cscript%20src%3D%22https%3A//maxcdn.bootstrapcdn.com/bootstrap/3.2.0/js/bootstrap.min.js%22%3E%3C/script%3E%0A%20%20%20%20%3Cscript%20src%3D%22https%3A//cdnjs.cloudflare.com/ajax/libs/Leaflet.awesome-markers/2.0.2/leaflet.awesome-markers.js%22%3E%3C/script%3E%0A%20%20%20%20%3Clink%20rel%3D%22stylesheet%22%20href%3D%22https%3A//cdn.jsdelivr.net/npm/leaflet%401.6.0/dist/leaflet.css%22/%3E%0A%20%20%20%20%3Clink%20rel%3D%22stylesheet%22%20href%3D%22https%3A//maxcdn.bootstrapcdn.com/bootstrap/3.2.0/css/bootstrap.min.css%22/%3E%0A%20%20%20%20%3Clink%20rel%3D%22stylesheet%22%20href%3D%22https%3A//maxcdn.bootstrapcdn.com/bootstrap/3.2.0/css/bootstrap-theme.min.css%22/%3E%0A%20%20%20%20%3Clink%20rel%3D%22stylesheet%22%20href%3D%22https%3A//maxcdn.bootstrapcdn.com/font-awesome/4.6.3/css/font-awesome.min.css%22/%3E%0A%20%20%20%20%3Clink%20rel%3D%22stylesheet%22%20href%3D%22https%3A//cdnjs.cloudflare.com/ajax/libs/Leaflet.awesome-markers/2.0.2/leaflet.awesome-markers.css%22/%3E%0A%20%20%20%20%3Clink%20rel%3D%22stylesheet%22%20href%3D%22https%3A//cdn.jsdelivr.net/gh/python-visualization/folium/folium/templates/leaflet.awesome.rotate.min.css%22/%3E%0A%20%20%20%20%0A%20%20%20%20%20%20%20%20%20%20%20%20%3Cmeta%20name%3D%22viewport%22%20content%3D%22width%3Ddevice-width%2C%0A%20%20%20%20%20%20%20%20%20%20%20%20%20%20%20%20initial-scale%3D1.0%2C%20maximum-scale%3D1.0%2C%20user-scalable%3Dno%22%20/%3E%0A%20%20%20%20%20%20%20%20%20%20%20%20%3Cstyle%3E%0A%20%20%20%20%20%20%20%20%20%20%20%20%20%20%20%20%23map_16d944328a734dbb8f08270f782867eb%20%7B%0A%20%20%20%20%20%20%20%20%20%20%20%20%20%20%20%20%20%20%20%20position%3A%20relative%3B%0A%20%20%20%20%20%20%20%20%20%20%20%20%20%20%20%20%20%20%20%20width%3A%20100.0%25%3B%0A%20%20%20%20%20%20%20%20%20%20%20%20%20%20%20%20%20%20%20%20height%3A%20100.0%25%3B%0A%20%20%20%20%20%20%20%20%20%20%20%20%20%20%20%20%20%20%20%20left%3A%200.0%25%3B%0A%20%20%20%20%20%20%20%20%20%20%20%20%20%20%20%20%20%20%20%20top%3A%200.0%25%3B%0A%20%20%20%20%20%20%20%20%20%20%20%20%20%20%20%20%7D%0A%20%20%20%20%20%20%20%20%20%20%20%20%3C/style%3E%0A%20%20%20%20%20%20%20%20%0A%3C/head%3E%0A%3Cbody%3E%20%20%20%20%0A%20%20%20%20%0A%20%20%20%20%20%20%20%20%20%20%20%20%3Cdiv%20class%3D%22folium-map%22%20id%3D%22map_16d944328a734dbb8f08270f782867eb%22%20%3E%3C/div%3E%0A%20%20%20%20%20%20%20%20%0A%3C/body%3E%0A%3Cscript%3E%20%20%20%20%0A%20%20%20%20%0A%20%20%20%20%20%20%20%20%20%20%20%20var%20map_16d944328a734dbb8f08270f782867eb%20%3D%20L.map%28%0A%20%20%20%20%20%20%20%20%20%20%20%20%20%20%20%20%22map_16d944328a734dbb8f08270f782867eb%22%2C%0A%20%20%20%20%20%20%20%20%20%20%20%20%20%20%20%20%7B%0A%20%20%20%20%20%20%20%20%20%20%20%20%20%20%20%20%20%20%20%20center%3A%20%5B37.0%2C%20126.0%5D%2C%0A%20%20%20%20%20%20%20%20%20%20%20%20%20%20%20%20%20%20%20%20crs%3A%20L.CRS.EPSG3857%2C%0A%20%20%20%20%20%20%20%20%20%20%20%20%20%20%20%20%20%20%20%20zoom%3A%205%2C%0A%20%20%20%20%20%20%20%20%20%20%20%20%20%20%20%20%20%20%20%20zoomControl%3A%20true%2C%0A%20%20%20%20%20%20%20%20%20%20%20%20%20%20%20%20%20%20%20%20preferCanvas%3A%20false%2C%0A%20%20%20%20%20%20%20%20%20%20%20%20%20%20%20%20%7D%0A%20%20%20%20%20%20%20%20%20%20%20%20%29%3B%0A%0A%20%20%20%20%20%20%20%20%20%20%20%20%0A%0A%20%20%20%20%20%20%20%20%0A%20%20%20%20%0A%20%20%20%20%20%20%20%20%20%20%20%20var%20tile_layer_12eb2f624c0c47949873cf4c9221c85a%20%3D%20L.tileLayer%28%0A%20%20%20%20%20%20%20%20%20%20%20%20%20%20%20%20%22https%3A//%7Bs%7D.tile.openstreetmap.org/%7Bz%7D/%7Bx%7D/%7By%7D.png%22%2C%0A%20%20%20%20%20%20%20%20%20%20%20%20%20%20%20%20%7B%22attribution%22%3A%20%22Data%20by%20%5Cu0026copy%3B%20%5Cu003ca%20href%3D%5C%22http%3A//openstreetmap.org%5C%22%5Cu003eOpenStreetMap%5Cu003c/a%5Cu003e%2C%20under%20%5Cu003ca%20href%3D%5C%22http%3A//www.openstreetmap.org/copyright%5C%22%5Cu003eODbL%5Cu003c/a%5Cu003e.%22%2C%20%22detectRetina%22%3A%20false%2C%20%22maxNativeZoom%22%3A%2018%2C%20%22maxZoom%22%3A%2018%2C%20%22minZoom%22%3A%200%2C%20%22noWrap%22%3A%20false%2C%20%22opacity%22%3A%201%2C%20%22subdomains%22%3A%20%22abc%22%2C%20%22tms%22%3A%20false%7D%0A%20%20%20%20%20%20%20%20%20%20%20%20%29.addTo%28map_16d944328a734dbb8f08270f782867eb%29%3B%0A%20%20%20%20%20%20%20%20%0A%20%20%20%20%0A%20%20%20%20%20%20%20%20%20%20%20%20var%20marker_66eeddc2ca5242848408c6a3814992ec%20%3D%20L.marker%28%0A%20%20%20%20%20%20%20%20%20%20%20%20%20%20%20%20%5B128.875906144832%2C%2037.7521080804166%5D%2C%0A%20%20%20%20%20%20%20%20%20%20%20%20%20%20%20%20%7B%7D%0A%20%20%20%20%20%20%20%20%20%20%20%20%29.addTo%28map_16d944328a734dbb8f08270f782867eb%29%3B%0A%20%20%20%20%20%20%20%20%0A%20%20%20%20%0A%20%20%20%20%20%20%20%20%20%20%20%20var%20marker_9ca5ffc4261447b7a1f1c43f6fcc2e8c%20%3D%20L.marker%28%0A%20%20%20%20%20%20%20%20%20%20%20%20%20%20%20%20%5B127.730207024668%2C%2037.8812440340088%5D%2C%0A%20%20%20%20%20%20%20%20%20%20%20%20%20%20%20%20%7B%7D%0A%20%20%20%20%20%20%20%20%20%20%20%20%29.addTo%28map_16d944328a734dbb8f08270f782867eb%29%3B%0A%20%20%20%20%20%20%20%20%0A%20%20%20%20%0A%20%20%20%20%20%20%20%20%20%20%20%20var%20marker_b6cfef192f144416aa6bef357a52c1c6%20%3D%20L.marker%28%0A%20%20%20%20%20%20%20%20%20%20%20%20%20%20%20%20%5B127.255138719721%2C%2037.4293941934866%5D%2C%0A%20%20%20%20%20%20%20%20%20%20%20%20%20%20%20%20%7B%7D%0A%20%20%20%20%20%20%20%20%20%20%20%20%29.addTo%28map_16d944328a734dbb8f08270f782867eb%29%3B%0A%20%20%20%20%20%20%20%20%0A%20%20%20%20%0A%20%20%20%20%20%20%20%20%20%20%20%20var%20marker_36d95e8ad207435ca983490ee1573775%20%3D%20L.marker%28%0A%20%20%20%20%20%20%20%20%20%20%20%20%20%20%20%20%5B128.601805491072%2C%2035.8713802646197%5D%2C%0A%20%20%20%20%20%20%20%20%20%20%20%20%20%20%20%20%7B%7D%0A%20%20%20%20%20%20%20%20%20%20%20%20%29.addTo%28map_16d944328a734dbb8f08270f782867eb%29%3B%0A%20%20%20%20%20%20%20%20%0A%20%20%20%20%0A%20%20%20%20%20%20%20%20%20%20%20%20var%20marker_e09e1b0a6b28483faf7d7f07b876530f%20%3D%20L.marker%28%0A%20%20%20%20%20%20%20%20%20%20%20%20%20%20%20%20%5B127.38483484675%2C%2036.3505388992836%5D%2C%0A%20%20%20%20%20%20%20%20%20%20%20%20%20%20%20%20%7B%7D%0A%20%20%20%20%20%20%20%20%20%20%20%20%29.addTo%28map_16d944328a734dbb8f08270f782867eb%29%3B%0A%20%20%20%20%20%20%20%20%0A%20%20%20%20%0A%20%20%20%20%20%20%20%20%20%20%20%20var%20marker_c58fdd74855e45bdbf45398eaf725238%20%3D%20L.marker%28%0A%20%20%20%20%20%20%20%20%20%20%20%20%20%20%20%20%5B129.075087492149%2C%2035.1798200522868%5D%2C%0A%20%20%20%20%20%20%20%20%20%20%20%20%20%20%20%20%7B%7D%0A%20%20%20%20%20%20%20%20%20%20%20%20%29.addTo%28map_16d944328a734dbb8f08270f782867eb%29%3B%0A%20%20%20%20%20%20%20%20%0A%20%20%20%20%0A%20%20%20%20%20%20%20%20%20%20%20%20var%20marker_5cd701fd34af4705a6db5f7b3b3e7181%20%3D%20L.marker%28%0A%20%20%20%20%20%20%20%20%20%20%20%20%20%20%20%20%5B126.978652258309%2C%2037.566826004661%5D%2C%0A%20%20%20%20%20%20%20%20%20%20%20%20%20%20%20%20%7B%7D%0A%20%20%20%20%20%20%20%20%20%20%20%20%29.addTo%28map_16d944328a734dbb8f08270f782867eb%29%3B%0A%20%20%20%20%20%20%20%20%0A%20%20%20%20%0A%20%20%20%20%20%20%20%20%20%20%20%20var%20marker_e995a71b1c6143dab3416f2a14a08cfd%20%3D%20L.marker%28%0A%20%20%20%20%20%20%20%20%20%20%20%20%20%20%20%20%5B127.148143800621%2C%2035.8240731508775%5D%2C%0A%20%20%20%20%20%20%20%20%20%20%20%20%20%20%20%20%7B%7D%0A%20%20%20%20%20%20%20%20%20%20%20%20%29.addTo%28map_16d944328a734dbb8f08270f782867eb%29%3B%0A%20%20%20%20%20%20%20%20%0A%20%20%20%20%0A%20%20%20%20%20%20%20%20%20%20%20%20var%20marker_d989e3cb6387481f9bc4cfb065a2267c%20%3D%20L.marker%28%0A%20%20%20%20%20%20%20%20%20%20%20%20%20%20%20%20%5B126.498229141199%2C%2033.4889179032603%5D%2C%0A%20%20%20%20%20%20%20%20%20%20%20%20%20%20%20%20%7B%7D%0A%20%20%20%20%20%20%20%20%20%20%20%20%29.addTo%28map_16d944328a734dbb8f08270f782867eb%29%3B%0A%20%20%20%20%20%20%20%20%0A%20%20%20%20%0A%20%20%20%20%20%20%20%20%20%20%20%20var%20marker_5b2fa366818842c686c9b168f8a577fc%20%3D%20L.marker%28%0A%20%20%20%20%20%20%20%20%20%20%20%20%20%20%20%20%5B127.489020156402%2C%2036.6424871337289%5D%2C%0A%20%20%20%20%20%20%20%20%20%20%20%20%20%20%20%20%7B%7D%0A%20%20%20%20%20%20%20%20%20%20%20%20%29.addTo%28map_16d944328a734dbb8f08270f782867eb%29%3B%0A%20%20%20%20%20%20%20%20%0A%20%20%20%20%0A%20%20%20%20%20%20%20%20%20%20%20%20var%20marker_4243786fccd84ae7803031f80b72399d%20%3D%20L.marker%28%0A%20%20%20%20%20%20%20%20%20%20%20%20%20%20%20%20%5B39.03385%2C%20125.75432%5D%2C%0A%20%20%20%20%20%20%20%20%20%20%20%20%20%20%20%20%7B%7D%0A%20%20%20%20%20%20%20%20%20%20%20%20%29.addTo%28map_16d944328a734dbb8f08270f782867eb%29%3B%0A%20%20%20%20%20%20%20%20%0A%20%20%20%20%0A%20%20%20%20%20%20%20%20%20%20%20%20var%20marker_1c84265c2ba3462f9e041af3b71f14cd%20%3D%20L.marker%28%0A%20%20%20%20%20%20%20%20%20%20%20%20%20%20%20%20%5B31.600000000000005%2C%20130.55%5D%2C%0A%20%20%20%20%20%20%20%20%20%20%20%20%20%20%20%20%7B%7D%0A%20%20%20%20%20%20%20%20%20%20%20%20%29.addTo%28map_16d944328a734dbb8f08270f782867eb%29%3B%0A%20%20%20%20%20%20%20%20%0A%20%20%20%20%0A%20%20%20%20%20%20%20%20%20%20%20%20var%20marker_fc46ef104c8f4c32ac1f3a2016031f42%20%3D%20L.marker%28%0A%20%20%20%20%20%20%20%20%20%20%20%20%20%20%20%20%5B35.689506%2C%20139.6917%5D%2C%0A%20%20%20%20%20%20%20%20%20%20%20%20%20%20%20%20%7B%7D%0A%20%20%20%20%20%20%20%20%20%20%20%20%29.addTo%28map_16d944328a734dbb8f08270f782867eb%29%3B%0A%20%20%20%20%20%20%20%20%0A%20%20%20%20%0A%20%20%20%20%20%20%20%20%20%20%20%20var%20marker_18c10aab0a4443bd9ca8987633c6c5e3%20%3D%20L.marker%28%0A%20%20%20%20%20%20%20%20%20%20%20%20%20%20%20%20%5B34.69389%2C%20135.50222%5D%2C%0A%20%20%20%20%20%20%20%20%20%20%20%20%20%20%20%20%7B%7D%0A%20%20%20%20%20%20%20%20%20%20%20%20%29.addTo%28map_16d944328a734dbb8f08270f782867eb%29%3B%0A%20%20%20%20%20%20%20%20%0A%20%20%20%20%0A%20%20%20%20%20%20%20%20%20%20%20%20var%20marker_c8277de010f449f1b34cb6110aca89cc%20%3D%20L.marker%28%0A%20%20%20%20%20%20%20%20%20%20%20%20%20%20%20%20%5B35.181456%2C%20136.906386%5D%2C%0A%20%20%20%20%20%20%20%20%20%20%20%20%20%20%20%20%7B%7D%0A%20%20%20%20%20%20%20%20%20%20%20%20%29.addTo%28map_16d944328a734dbb8f08270f782867eb%29%3B%0A%20%20%20%20%20%20%20%20%0A%20%20%20%20%0A%20%20%20%20%20%20%20%20%20%20%20%20var%20marker_8d2e26b4bfb2448c923a68e8927afa53%20%3D%20L.marker%28%0A%20%20%20%20%20%20%20%20%20%20%20%20%20%20%20%20%5B33.583%2C%20130.4%5D%2C%0A%20%20%20%20%20%20%20%20%20%20%20%20%20%20%20%20%7B%7D%0A%20%20%20%20%20%20%20%20%20%20%20%20%29.addTo%28map_16d944328a734dbb8f08270f782867eb%29%3B%0A%20%20%20%20%20%20%20%20%0A%20%20%20%20%0A%20%20%20%20%20%20%20%20%20%20%20%20var%20marker_6a08a0c1ed4c495c8997578ec04de5e0%20%3D%20L.marker%28%0A%20%20%20%20%20%20%20%20%20%20%20%20%20%20%20%20%5B43.067%2C%20141.35%5D%2C%0A%20%20%20%20%20%20%20%20%20%20%20%20%20%20%20%20%7B%7D%0A%20%20%20%20%20%20%20%20%20%20%20%20%29.addTo%28map_16d944328a734dbb8f08270f782867eb%29%3B%0A%20%20%20%20%20%20%20%20%0A%20%20%20%20%0A%20%20%20%20%20%20%20%20%20%20%20%20var%20marker_81e4ad3f8701411ba706068af623cf63%20%3D%20L.marker%28%0A%20%20%20%20%20%20%20%20%20%20%20%20%20%20%20%20%5B38.267%2C%20140.867%5D%2C%0A%20%20%20%20%20%20%20%20%20%20%20%20%20%20%20%20%7B%7D%0A%20%20%20%20%20%20%20%20%20%20%20%20%29.addTo%28map_16d944328a734dbb8f08270f782867eb%29%3B%0A%20%20%20%20%20%20%20%20%0A%20%20%20%20%0A%20%20%20%20%20%20%20%20%20%20%20%20var%20marker_f5ecf5a212ae435fbd455fe03bad088f%20%3D%20L.marker%28%0A%20%20%20%20%20%20%20%20%20%20%20%20%20%20%20%20%5B35.7%2C%20139.983%5D%2C%0A%20%20%20%20%20%20%20%20%20%20%20%20%20%20%20%20%7B%7D%0A%20%20%20%20%20%20%20%20%20%20%20%20%29.addTo%28map_16d944328a734dbb8f08270f782867eb%29%3B%0A%20%20%20%20%20%20%20%20%0A%20%20%20%20%0A%20%20%20%20%20%20%20%20%20%20%20%20var%20marker_ba476791f61a4a9185c88ec16b8df73c%20%3D%20L.marker%28%0A%20%20%20%20%20%20%20%20%20%20%20%20%20%20%20%20%5B31.22222%2C%20121.45806%5D%2C%0A%20%20%20%20%20%20%20%20%20%20%20%20%20%20%20%20%7B%7D%0A%20%20%20%20%20%20%20%20%20%20%20%20%29.addTo%28map_16d944328a734dbb8f08270f782867eb%29%3B%0A%20%20%20%20%20%20%20%20%0A%20%20%20%20%0A%20%20%20%20%20%20%20%20%20%20%20%20var%20marker_2d4ce051afb5471393cb983bb189639e%20%3D%20L.marker%28%0A%20%20%20%20%20%20%20%20%20%20%20%20%20%20%20%20%5B39.9075%2C%20116.39722999999998%5D%2C%0A%20%20%20%20%20%20%20%20%20%20%20%20%20%20%20%20%7B%7D%0A%20%20%20%20%20%20%20%20%20%20%20%20%29.addTo%28map_16d944328a734dbb8f08270f782867eb%29%3B%0A%20%20%20%20%20%20%20%20%0A%20%20%20%20%0A%20%20%20%20%20%20%20%20%20%20%20%20var%20marker_58719dd19fe54c31ac3740f74b73bea9%20%3D%20L.marker%28%0A%20%20%20%20%20%20%20%20%20%20%20%20%20%20%20%20%5B41.79222%2C%20123.43278%5D%2C%0A%20%20%20%20%20%20%20%20%20%20%20%20%20%20%20%20%7B%7D%0A%20%20%20%20%20%20%20%20%20%20%20%20%29.addTo%28map_16d944328a734dbb8f08270f782867eb%29%3B%0A%20%20%20%20%20%20%20%20%0A%20%20%20%20%0A%20%20%20%20%20%20%20%20%20%20%20%20var%20marker_f5b3d854123b46f59a545ef091b2375f%20%3D%20L.marker%28%0A%20%20%20%20%20%20%20%20%20%20%20%20%20%20%20%20%5B43.879999999999995%2C%20125.32277999999998%5D%2C%0A%20%20%20%20%20%20%20%20%20%20%20%20%20%20%20%20%7B%7D%0A%20%20%20%20%20%20%20%20%20%20%20%20%29.addTo%28map_16d944328a734dbb8f08270f782867eb%29%3B%0A%20%20%20%20%20%20%20%20%0A%20%20%20%20%0A%20%20%20%20%20%20%20%20%20%20%20%20var%20marker_e9698a95f7f94ebeacf8073207368a42%20%3D%20L.marker%28%0A%20%20%20%20%20%20%20%20%20%20%20%20%20%20%20%20%5B36.66833%2C%20116.99722%5D%2C%0A%20%20%20%20%20%20%20%20%20%20%20%20%20%20%20%20%7B%7D%0A%20%20%20%20%20%20%20%20%20%20%20%20%29.addTo%28map_16d944328a734dbb8f08270f782867eb%29%3B%0A%20%20%20%20%20%20%20%20%0A%20%20%20%20%0A%20%20%20%20%20%20%20%20%20%20%20%20var%20marker_5e323417259e4704b4275bbbf81f4f01%20%3D%20L.marker%28%0A%20%20%20%20%20%20%20%20%20%20%20%20%20%20%20%20%5B32.06167%2C%20118.77778%5D%2C%0A%20%20%20%20%20%20%20%20%20%20%20%20%20%20%20%20%7B%7D%0A%20%20%20%20%20%20%20%20%20%20%20%20%29.addTo%28map_16d944328a734dbb8f08270f782867eb%29%3B%0A%20%20%20%20%20%20%20%20%0A%20%20%20%20%0A%20%20%20%20%20%20%20%20%20%20%20%20var%20marker_39a4546f0cb64861850a72b882945fae%20%3D%20L.marker%28%0A%20%20%20%20%20%20%20%20%20%20%20%20%20%20%20%20%5B43.10562%2C%20131.87353%5D%2C%0A%20%20%20%20%20%20%20%20%20%20%20%20%20%20%20%20%7B%7D%0A%20%20%20%20%20%20%20%20%20%20%20%20%29.addTo%28map_16d944328a734dbb8f08270f782867eb%29%3B%0A%20%20%20%20%20%20%20%20%0A%3C/script%3E onload=\"this.contentDocument.open();this.contentDocument.write(    decodeURIComponent(this.getAttribute('data-html')));this.contentDocument.close();\" allowfullscreen webkitallowfullscreen mozallowfullscreen></iframe></div></div>"
      ],
      "text/plain": [
       "<folium.folium.Map at 0x24839737550>"
      ]
     },
     "execution_count": 29,
     "metadata": {},
     "output_type": "execute_result"
    }
   ],
   "source": [
    "## 지도\n",
    "import folium\n",
    "# from folium.plugins import MarkerCluster\n",
    "center = [37,126]\n",
    "m = folium.Map(location=center, zoom_start=5)\n",
    "\n",
    "for c in korea:\n",
    "    folium.Marker(location= c).add_to(m)\n",
    "for c in north:\n",
    "    folium.Marker(location= c).add_to(m)\n",
    "for c in japan:\n",
    "    folium.Marker(location= c).add_to(m)\n",
    "for c in china:\n",
    "    folium.Marker(location= c).add_to(m)\n",
    "for c in russia:\n",
    "    folium.Marker(location= c).add_to(m)\n",
    "\n",
    "m"
   ]
  },
  {
   "cell_type": "code",
   "execution_count": null,
   "id": "acda6724",
   "metadata": {},
   "outputs": [],
   "source": []
  },
  {
   "cell_type": "code",
   "execution_count": null,
   "id": "35ffe873",
   "metadata": {},
   "outputs": [],
   "source": []
  },
  {
   "cell_type": "code",
   "execution_count": null,
   "id": "c5067156",
   "metadata": {},
   "outputs": [],
   "source": []
  },
  {
   "cell_type": "code",
   "execution_count": null,
   "id": "b31a83c0",
   "metadata": {},
   "outputs": [],
   "source": []
  },
  {
   "cell_type": "code",
   "execution_count": null,
   "id": "ac622b6f",
   "metadata": {},
   "outputs": [],
   "source": []
  },
  {
   "cell_type": "code",
   "execution_count": null,
   "id": "8751339b",
   "metadata": {},
   "outputs": [],
   "source": []
  },
  {
   "cell_type": "code",
   "execution_count": null,
   "id": "89036c79",
   "metadata": {},
   "outputs": [],
   "source": []
  },
  {
   "cell_type": "code",
   "execution_count": null,
   "id": "3c6c19ec",
   "metadata": {},
   "outputs": [],
   "source": [
    "# addr_to_lat_lon(areas[0])"
   ]
  },
  {
   "cell_type": "code",
   "execution_count": null,
   "id": "5acf4265",
   "metadata": {},
   "outputs": [],
   "source": [
    "# 날씨 측정한 곳 위도,경도 표시\n",
    "\n",
    "# pip install folium\n",
    "import folium\n",
    "\n",
    "for area in areas:\n",
    "    for i in range(len(areas)):\n",
    "    \n",
    "        location = addr_to_lat_lon(area[i])\n",
    "        map = folium.Map(location = location, zoom_start =11)\n",
    "\n",
    "    for a in busan_location.index:\n",
    "        latitude = busan_location.loc[a,\"위도\"]\n",
    "        longtitude = busan_location.loc[a,\"경도\"]\n",
    "        tooltip = \"사고!\"\n",
    "        folium.Marker([latitude, longtitude], popup = '<i>지역</i>', tooltip =tooltip).add_to(map)   \n",
    "\n",
    "map"
   ]
  },
  {
   "cell_type": "code",
   "execution_count": null,
   "id": "9dadd8ff",
   "metadata": {},
   "outputs": [],
   "source": []
  },
  {
   "cell_type": "code",
   "execution_count": null,
   "id": "f3c3c5ee",
   "metadata": {},
   "outputs": [],
   "source": []
  },
  {
   "cell_type": "code",
   "execution_count": null,
   "id": "4bee16f7",
   "metadata": {},
   "outputs": [],
   "source": []
  },
  {
   "cell_type": "code",
   "execution_count": null,
   "id": "4569a484",
   "metadata": {},
   "outputs": [],
   "source": []
  },
  {
   "cell_type": "code",
   "execution_count": null,
   "id": "e7e80817",
   "metadata": {},
   "outputs": [],
   "source": [
    "# 날씨 측정한 곳 위도,경도 표시\n",
    "\n",
    "# pip install folium\n",
    "import folium\n",
    "\n",
    "for area in areas:\n",
    "    \n",
    "    location = addr_to_lat_lon\n",
    "    map = folium.Map(location = location, zoom_start =11)\n",
    "\n",
    "    for a in busan_location.index:\n",
    "        latitude = busan_location.loc[a,\"위도\"]\n",
    "        longtitude = busan_location.loc[a,\"경도\"]\n",
    "        tooltip = \"사고!\"\n",
    "        folium.Marker([latitude, longtitude], popup = '<i>지역</i>', tooltip =tooltip).add_to(map)   \n",
    "\n",
    "map"
   ]
  },
  {
   "cell_type": "code",
   "execution_count": null,
   "id": "29b5173a",
   "metadata": {},
   "outputs": [],
   "source": []
  },
  {
   "cell_type": "code",
   "execution_count": null,
   "id": "90e87a06",
   "metadata": {},
   "outputs": [],
   "source": []
  },
  {
   "cell_type": "code",
   "execution_count": null,
   "id": "f4996eed",
   "metadata": {},
   "outputs": [],
   "source": [
    "# 구제역 발생장소\n"
   ]
  },
  {
   "cell_type": "code",
   "execution_count": null,
   "id": "9dc73544",
   "metadata": {},
   "outputs": [],
   "source": []
  },
  {
   "cell_type": "code",
   "execution_count": null,
   "id": "097cc1fb",
   "metadata": {},
   "outputs": [],
   "source": []
  },
  {
   "cell_type": "code",
   "execution_count": null,
   "id": "ebdaf1a5",
   "metadata": {},
   "outputs": [],
   "source": []
  },
  {
   "cell_type": "code",
   "execution_count": null,
   "id": "a9f6b367",
   "metadata": {},
   "outputs": [],
   "source": []
  },
  {
   "cell_type": "code",
   "execution_count": null,
   "id": "11c3171c",
   "metadata": {},
   "outputs": [],
   "source": [
    "# 날씨 측정한 곳 위도,경도 표시\n"
   ]
  },
  {
   "cell_type": "code",
   "execution_count": null,
   "id": "39384135",
   "metadata": {},
   "outputs": [],
   "source": []
  },
  {
   "cell_type": "code",
   "execution_count": null,
   "id": "cf07f132",
   "metadata": {},
   "outputs": [],
   "source": []
  },
  {
   "cell_type": "code",
   "execution_count": null,
   "id": "b8e932e3",
   "metadata": {},
   "outputs": [],
   "source": []
  },
  {
   "cell_type": "code",
   "execution_count": null,
   "id": "159169d7",
   "metadata": {},
   "outputs": [],
   "source": [
    "# 위도 경도 거리 구하는 모듈\n",
    "\n",
    "from haversine import haversine"
   ]
  }
 ],
 "metadata": {
  "kernelspec": {
   "display_name": "Python 3 (ipykernel)",
   "language": "python",
   "name": "python3"
  },
  "language_info": {
   "codemirror_mode": {
    "name": "ipython",
    "version": 3
   },
   "file_extension": ".py",
   "mimetype": "text/x-python",
   "name": "python",
   "nbconvert_exporter": "python",
   "pygments_lexer": "ipython3",
   "version": "3.9.7"
  },
  "varInspector": {
   "cols": {
    "lenName": 16,
    "lenType": 16,
    "lenVar": 40
   },
   "kernels_config": {
    "python": {
     "delete_cmd_postfix": "",
     "delete_cmd_prefix": "del ",
     "library": "var_list.py",
     "varRefreshCmd": "print(var_dic_list())"
    },
    "r": {
     "delete_cmd_postfix": ") ",
     "delete_cmd_prefix": "rm(",
     "library": "var_list.r",
     "varRefreshCmd": "cat(var_dic_list()) "
    }
   },
   "types_to_exclude": [
    "module",
    "function",
    "builtin_function_or_method",
    "instance",
    "_Feature"
   ],
   "window_display": false
  }
 },
 "nbformat": 4,
 "nbformat_minor": 5
}
