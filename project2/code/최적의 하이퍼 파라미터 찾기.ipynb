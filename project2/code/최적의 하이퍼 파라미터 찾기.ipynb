{
 "cells": [
  {
   "cell_type": "markdown",
   "id": "3954e43e",
   "metadata": {},
   "source": [
    "- 모델에서 중요한 매개변수를 찾는건 필수적인일. 가장 많이 사용하는 방법은 그리드서치 \n",
    "- 그리드 서치 : 관심 있는 매개변수를 대상으로 가능한 모든 조합을 시도해봄. \n",
    "- svm 으로 예시를 들건데 ,  svm은 커널의 폭에 해당하는 gamma와 규제 매개변수 C가 중요함.\n"
   ]
  },
  {
   "cell_type": "code",
   "execution_count": 1,
   "id": "ae266c13",
   "metadata": {},
   "outputs": [],
   "source": [
    "# 매개변수 C와 gamma에 0.001, 0.01, 0.1, 1. 10. 100 값을 적용해볼것임 \n",
    "# C와 gamma의 설정값이 각각 6개이니 조합은 36개가 나옴. \n",
    "\n",
    "# 간단한 그리드 서치 구현 \n",
    "import pandas as pd \n",
    "import numpy as np \n",
    "\n",
    "df = pd.read_csv('./cold_high_preprocessed.csv',encoding='cp949',index_col=0)\n",
    "from sklearn.svm import SVC\n",
    "from sklearn.model_selection import train_test_split"
   ]
  },
  {
   "cell_type": "code",
   "execution_count": 2,
   "id": "7ba253a9",
   "metadata": {},
   "outputs": [
    {
     "name": "stdout",
     "output_type": "stream",
     "text": [
      "훈련 세트의 크기: 8755 테스트 세트의 크기: 2919\n"
     ]
    }
   ],
   "source": [
    "y = df.재난일어난날\n",
    "x = df.drop('재난일어난날',axis=1)\n",
    "x_train, x_test,y_train, y_test = train_test_split(x,y,random_state=0)\n",
    "print(\"훈련 세트의 크기: {} 테스트 세트의 크기: {}\".format(x_train.shape[0], x_test.shape[0]))"
   ]
  },
  {
   "cell_type": "code",
   "execution_count": 3,
   "id": "7d8e32ca",
   "metadata": {},
   "outputs": [],
   "source": [
    "# best_score = 0 \n",
    "\n",
    "# for gamma in [0.001,0.01,0.1,1,10,100]:\n",
    "#     for C in [0.001,0.01,0.1,1,10,100]:\n",
    "#         svm = SVC(gamma=gamma, C=C)\n",
    "#         svm.fit(x_train,y_train)\n",
    "#         score =svm.score(x_test,y_test)\n",
    "#         if score > best_score:\n",
    "#             best_score = score\n",
    "#             best_parameters = {'C': C, 'gamma': gamma}\n",
    "# print(\"최고점수:{:.2f}\".format(best_score))\n",
    "# print(\"최적 매개변수:\",best_parameters)"
   ]
  },
  {
   "cell_type": "markdown",
   "id": "7fceb5d1",
   "metadata": {},
   "source": [
    "- 앞의 결과를 보면 모델정확도는 87퍼임 . \n",
    "- 하지만 이결과는 잘못된것일수있음\n",
    "- 여러가지 매개변수 값으로 시도해보고 테스트세트정확도가 가장 높은 조합을 선택함. \n",
    "- 하지만 이 정확도는 새로운 데이터까지 이어지지 않을 수 있음 . \n",
    "- 평가를 위해선 독립된 데이터 셋이 필요함.\n",
    "- 그러므로 데이터를 다시 나눠서 세개의 세트로 만들어 이 문제를 해결 할 수 있음. \n",
    "#### 훈련세트로는 모델을 만들고 , 검증 세트로는 모델의 매개변수를 선택하고 , 테스트 세트로는 선택된 매개 변수의 성능을 평가함.\n",
    "- 검증세트로 최적의 매개변수를 선택한 후 , 그 매개변수에서 훈련세트와 검증세트데이터를 모두 이용해 모델을 다시만듬. \n",
    "- => 이렇게 하는 이유는 모델을 만들때 가능한 많은 데이터를 이용하기 위해서임."
   ]
  },
  {
   "cell_type": "code",
   "execution_count": 4,
   "id": "163fa5fa",
   "metadata": {},
   "outputs": [
    {
     "name": "stdout",
     "output_type": "stream",
     "text": [
      "훈련세트의 크기: 6566 검증세트의 크기 :2189 테스트 세트의 크기 : 2919\n",
      "\n",
      "검증 세트에서 최고 점수 : 0.89\n",
      "최적 매개변수: {'C': 0.001, 'gamma': 0.001}\n",
      "최적 매개변수에서 테스트 세트 점수: 0.87\n"
     ]
    }
   ],
   "source": [
    "from sklearn.svm import SVC \n",
    "# 데이터를 훈련+검증 세트 그리고 테스트 세트로 분할 \n",
    "x_trainval, x_test, y_trainval, y_test = train_test_split(x,y,random_state=0)\n",
    "# 훈련_검증 세트를 훈련 세트와 검증 세트로 문할 \n",
    "x_train, x_valid,y_train, y_valid = train_test_split(x_trainval, y_trainval, random_state=0)\n",
    "\n",
    "print(\"훈련세트의 크기: {} 검증세트의 크기 :{} 테스트 세트의 크기 : {}\\n\".format(x_train.shape[0], x_valid.shape[0],x_test.shape[0]))\n",
    "\n",
    "best_score = 0 \n",
    "\n",
    "for gamma in [0.001,0.01,0.1,1,10,100]:\n",
    "    for C in [0.001,0.01,0.1,1,10,100]:\n",
    "        # 매개변수의 각 조합에 대해 SVC를 훈련시킴. \n",
    "        svm = SVC(gamma=gamma, C=C)\n",
    "        svm.fit(x_train,y_train)\n",
    "        # 검증 세트로 SVC를 평가함 \n",
    "        score = svm.score(x_valid, y_valid)\n",
    "        # 점수가 더 높으면 매개변수와 함께 기록함. \n",
    "        if score > best_score:\n",
    "            best_score = score\n",
    "            best_parameters = {'C':C, 'gamma':gamma}\n",
    "            \n",
    "        #훈련세트와 검증 세트를 합쳐 모델을 다시 만든 후 \n",
    "        # 테스트 세트를 사용해 평가함 \n",
    "svm = SVC(**best_parameters)\n",
    "svm.fit(x_trainval, y_trainval)\n",
    "test_score = svm.score(x_test, y_test)\n",
    "print(\"검증 세트에서 최고 점수 : {:.2f}\".format(best_score))\n",
    "print(\"최적 매개변수:\",best_parameters)\n",
    "print(\"최적 매개변수에서 테스트 세트 점수: {:.2f}\".format(test_score))"
   ]
  },
  {
   "cell_type": "code",
   "execution_count": null,
   "id": "e2e1600a",
   "metadata": {},
   "outputs": [],
   "source": []
  },
  {
   "cell_type": "code",
   "execution_count": null,
   "id": "4d9a0ecd",
   "metadata": {},
   "outputs": [],
   "source": []
  },
  {
   "cell_type": "code",
   "execution_count": null,
   "id": "2cb0c3cd",
   "metadata": {},
   "outputs": [],
   "source": []
  }
 ],
 "metadata": {
  "kernelspec": {
   "display_name": "Python 3 (ipykernel)",
   "language": "python",
   "name": "python3"
  },
  "language_info": {
   "codemirror_mode": {
    "name": "ipython",
    "version": 3
   },
   "file_extension": ".py",
   "mimetype": "text/x-python",
   "name": "python",
   "nbconvert_exporter": "python",
   "pygments_lexer": "ipython3",
   "version": "3.9.7"
  }
 },
 "nbformat": 4,
 "nbformat_minor": 5
}
