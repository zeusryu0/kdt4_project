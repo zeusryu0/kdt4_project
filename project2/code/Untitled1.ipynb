{
 "cells": [
  {
   "cell_type": "code",
   "execution_count": 42,
   "id": "766e536b",
   "metadata": {},
   "outputs": [],
   "source": [
    "import pandas as pd\n",
    "import numpy as np\n",
    "import matplotlib.pyplot as plt\n",
    "import seaborn as sns\n",
    "import datetime\n",
    "from matplotlib import font_manager, rc\n",
    "font_path = \"C:/Windows/Fonts/NGULIM.TTF\"\n",
    "font = font_manager.FontProperties(fname=font_path).get_name()\n",
    "rc('font', family=font)"
   ]
  },
  {
   "cell_type": "code",
   "execution_count": 3,
   "id": "669f12e4",
   "metadata": {},
   "outputs": [],
   "source": [
    "df = pd.read_csv('./2019코스피지수.csv')"
   ]
  },
  {
   "cell_type": "code",
   "execution_count": 4,
   "id": "b799a165",
   "metadata": {},
   "outputs": [
    {
     "data": {
      "text/html": [
       "<div>\n",
       "<style scoped>\n",
       "    .dataframe tbody tr th:only-of-type {\n",
       "        vertical-align: middle;\n",
       "    }\n",
       "\n",
       "    .dataframe tbody tr th {\n",
       "        vertical-align: top;\n",
       "    }\n",
       "\n",
       "    .dataframe thead th {\n",
       "        text-align: right;\n",
       "    }\n",
       "</style>\n",
       "<table border=\"1\" class=\"dataframe\">\n",
       "  <thead>\n",
       "    <tr style=\"text-align: right;\">\n",
       "      <th></th>\n",
       "      <th>Date</th>\n",
       "      <th>High</th>\n",
       "      <th>Low</th>\n",
       "      <th>Open</th>\n",
       "      <th>Close</th>\n",
       "      <th>Volume</th>\n",
       "      <th>Adj Close</th>\n",
       "    </tr>\n",
       "  </thead>\n",
       "  <tbody>\n",
       "    <tr>\n",
       "      <th>0</th>\n",
       "      <td>2019-01-02</td>\n",
       "      <td>2053.449951</td>\n",
       "      <td>2004.270020</td>\n",
       "      <td>2050.550049</td>\n",
       "      <td>2010.000000</td>\n",
       "      <td>326400</td>\n",
       "      <td>2010.000000</td>\n",
       "    </tr>\n",
       "    <tr>\n",
       "      <th>1</th>\n",
       "      <td>2019-01-03</td>\n",
       "      <td>2014.719971</td>\n",
       "      <td>1991.650024</td>\n",
       "      <td>2011.810059</td>\n",
       "      <td>1993.699951</td>\n",
       "      <td>428000</td>\n",
       "      <td>1993.699951</td>\n",
       "    </tr>\n",
       "    <tr>\n",
       "      <th>2</th>\n",
       "      <td>2019-01-04</td>\n",
       "      <td>2011.560059</td>\n",
       "      <td>1984.530029</td>\n",
       "      <td>1992.400024</td>\n",
       "      <td>2010.250000</td>\n",
       "      <td>409000</td>\n",
       "      <td>2010.250000</td>\n",
       "    </tr>\n",
       "    <tr>\n",
       "      <th>3</th>\n",
       "      <td>2019-01-07</td>\n",
       "      <td>2048.060059</td>\n",
       "      <td>2030.900024</td>\n",
       "      <td>2034.239990</td>\n",
       "      <td>2037.099976</td>\n",
       "      <td>440200</td>\n",
       "      <td>2037.099976</td>\n",
       "    </tr>\n",
       "    <tr>\n",
       "      <th>4</th>\n",
       "      <td>2019-01-08</td>\n",
       "      <td>2042.699951</td>\n",
       "      <td>2023.589966</td>\n",
       "      <td>2038.680054</td>\n",
       "      <td>2025.270020</td>\n",
       "      <td>397800</td>\n",
       "      <td>2025.270020</td>\n",
       "    </tr>\n",
       "    <tr>\n",
       "      <th>...</th>\n",
       "      <td>...</td>\n",
       "      <td>...</td>\n",
       "      <td>...</td>\n",
       "      <td>...</td>\n",
       "      <td>...</td>\n",
       "      <td>...</td>\n",
       "      <td>...</td>\n",
       "    </tr>\n",
       "    <tr>\n",
       "      <th>241</th>\n",
       "      <td>2019-12-23</td>\n",
       "      <td>2209.199951</td>\n",
       "      <td>2196.429932</td>\n",
       "      <td>2208.219971</td>\n",
       "      <td>2203.709961</td>\n",
       "      <td>502000</td>\n",
       "      <td>2203.709961</td>\n",
       "    </tr>\n",
       "    <tr>\n",
       "      <th>242</th>\n",
       "      <td>2019-12-24</td>\n",
       "      <td>2206.229980</td>\n",
       "      <td>2187.580078</td>\n",
       "      <td>2206.229980</td>\n",
       "      <td>2190.080078</td>\n",
       "      <td>570000</td>\n",
       "      <td>2190.080078</td>\n",
       "    </tr>\n",
       "    <tr>\n",
       "      <th>243</th>\n",
       "      <td>2019-12-26</td>\n",
       "      <td>2198.010010</td>\n",
       "      <td>2183.899902</td>\n",
       "      <td>2192.219971</td>\n",
       "      <td>2197.929932</td>\n",
       "      <td>571300</td>\n",
       "      <td>2197.929932</td>\n",
       "    </tr>\n",
       "    <tr>\n",
       "      <th>244</th>\n",
       "      <td>2019-12-27</td>\n",
       "      <td>2215.550049</td>\n",
       "      <td>2177.399902</td>\n",
       "      <td>2183.699951</td>\n",
       "      <td>2204.209961</td>\n",
       "      <td>490200</td>\n",
       "      <td>2204.209961</td>\n",
       "    </tr>\n",
       "    <tr>\n",
       "      <th>245</th>\n",
       "      <td>2019-12-30</td>\n",
       "      <td>2208.040039</td>\n",
       "      <td>2195.649902</td>\n",
       "      <td>2202.620117</td>\n",
       "      <td>2197.669922</td>\n",
       "      <td>416400</td>\n",
       "      <td>2197.669922</td>\n",
       "    </tr>\n",
       "  </tbody>\n",
       "</table>\n",
       "<p>246 rows × 7 columns</p>\n",
       "</div>"
      ],
      "text/plain": [
       "           Date         High          Low         Open        Close  Volume  \\\n",
       "0    2019-01-02  2053.449951  2004.270020  2050.550049  2010.000000  326400   \n",
       "1    2019-01-03  2014.719971  1991.650024  2011.810059  1993.699951  428000   \n",
       "2    2019-01-04  2011.560059  1984.530029  1992.400024  2010.250000  409000   \n",
       "3    2019-01-07  2048.060059  2030.900024  2034.239990  2037.099976  440200   \n",
       "4    2019-01-08  2042.699951  2023.589966  2038.680054  2025.270020  397800   \n",
       "..          ...          ...          ...          ...          ...     ...   \n",
       "241  2019-12-23  2209.199951  2196.429932  2208.219971  2203.709961  502000   \n",
       "242  2019-12-24  2206.229980  2187.580078  2206.229980  2190.080078  570000   \n",
       "243  2019-12-26  2198.010010  2183.899902  2192.219971  2197.929932  571300   \n",
       "244  2019-12-27  2215.550049  2177.399902  2183.699951  2204.209961  490200   \n",
       "245  2019-12-30  2208.040039  2195.649902  2202.620117  2197.669922  416400   \n",
       "\n",
       "       Adj Close  \n",
       "0    2010.000000  \n",
       "1    1993.699951  \n",
       "2    2010.250000  \n",
       "3    2037.099976  \n",
       "4    2025.270020  \n",
       "..           ...  \n",
       "241  2203.709961  \n",
       "242  2190.080078  \n",
       "243  2197.929932  \n",
       "244  2204.209961  \n",
       "245  2197.669922  \n",
       "\n",
       "[246 rows x 7 columns]"
      ]
     },
     "execution_count": 4,
     "metadata": {},
     "output_type": "execute_result"
    }
   ],
   "source": [
    "df"
   ]
  },
  {
   "cell_type": "code",
   "execution_count": 5,
   "id": "da4fbeb8",
   "metadata": {},
   "outputs": [],
   "source": [
    "x = df."
   ]
  },
  {
   "cell_type": "code",
   "execution_count": 7,
   "id": "4ed50c64",
   "metadata": {},
   "outputs": [
    {
     "name": "stdout",
     "output_type": "stream",
     "text": [
      "<class 'pandas.core.frame.DataFrame'>\n",
      "RangeIndex: 246 entries, 0 to 245\n",
      "Data columns (total 7 columns):\n",
      " #   Column     Non-Null Count  Dtype  \n",
      "---  ------     --------------  -----  \n",
      " 0   Date       246 non-null    object \n",
      " 1   High       246 non-null    float64\n",
      " 2   Low        246 non-null    float64\n",
      " 3   Open       246 non-null    float64\n",
      " 4   Close      246 non-null    float64\n",
      " 5   Volume     246 non-null    int64  \n",
      " 6   Adj Close  246 non-null    float64\n",
      "dtypes: float64(5), int64(1), object(1)\n",
      "memory usage: 13.6+ KB\n"
     ]
    }
   ],
   "source": [
    "df.info()"
   ]
  },
  {
   "cell_type": "code",
   "execution_count": null,
   "id": "7fa83516",
   "metadata": {},
   "outputs": [],
   "source": [
    "df.Date = df.Date.astype('datetime64')"
   ]
  },
  {
   "cell_type": "code",
   "execution_count": 16,
   "id": "8561a32c",
   "metadata": {},
   "outputs": [
    {
     "data": {
      "text/html": [
       "<div>\n",
       "<style scoped>\n",
       "    .dataframe tbody tr th:only-of-type {\n",
       "        vertical-align: middle;\n",
       "    }\n",
       "\n",
       "    .dataframe tbody tr th {\n",
       "        vertical-align: top;\n",
       "    }\n",
       "\n",
       "    .dataframe thead th {\n",
       "        text-align: right;\n",
       "    }\n",
       "</style>\n",
       "<table border=\"1\" class=\"dataframe\">\n",
       "  <thead>\n",
       "    <tr style=\"text-align: right;\">\n",
       "      <th></th>\n",
       "      <th>Date</th>\n",
       "      <th>High</th>\n",
       "      <th>Low</th>\n",
       "      <th>Open</th>\n",
       "      <th>Close</th>\n",
       "      <th>Volume</th>\n",
       "      <th>Adj Close</th>\n",
       "    </tr>\n",
       "  </thead>\n",
       "  <tbody>\n",
       "    <tr>\n",
       "      <th>0</th>\n",
       "      <td>2019-01-02</td>\n",
       "      <td>2053.449951</td>\n",
       "      <td>2004.270020</td>\n",
       "      <td>2050.550049</td>\n",
       "      <td>2010.000000</td>\n",
       "      <td>326400</td>\n",
       "      <td>2010.000000</td>\n",
       "    </tr>\n",
       "    <tr>\n",
       "      <th>1</th>\n",
       "      <td>2019-01-03</td>\n",
       "      <td>2014.719971</td>\n",
       "      <td>1991.650024</td>\n",
       "      <td>2011.810059</td>\n",
       "      <td>1993.699951</td>\n",
       "      <td>428000</td>\n",
       "      <td>1993.699951</td>\n",
       "    </tr>\n",
       "    <tr>\n",
       "      <th>2</th>\n",
       "      <td>2019-01-04</td>\n",
       "      <td>2011.560059</td>\n",
       "      <td>1984.530029</td>\n",
       "      <td>1992.400024</td>\n",
       "      <td>2010.250000</td>\n",
       "      <td>409000</td>\n",
       "      <td>2010.250000</td>\n",
       "    </tr>\n",
       "    <tr>\n",
       "      <th>3</th>\n",
       "      <td>2019-01-07</td>\n",
       "      <td>2048.060059</td>\n",
       "      <td>2030.900024</td>\n",
       "      <td>2034.239990</td>\n",
       "      <td>2037.099976</td>\n",
       "      <td>440200</td>\n",
       "      <td>2037.099976</td>\n",
       "    </tr>\n",
       "    <tr>\n",
       "      <th>4</th>\n",
       "      <td>2019-01-08</td>\n",
       "      <td>2042.699951</td>\n",
       "      <td>2023.589966</td>\n",
       "      <td>2038.680054</td>\n",
       "      <td>2025.270020</td>\n",
       "      <td>397800</td>\n",
       "      <td>2025.270020</td>\n",
       "    </tr>\n",
       "  </tbody>\n",
       "</table>\n",
       "</div>"
      ],
      "text/plain": [
       "        Date         High          Low         Open        Close  Volume  \\\n",
       "0 2019-01-02  2053.449951  2004.270020  2050.550049  2010.000000  326400   \n",
       "1 2019-01-03  2014.719971  1991.650024  2011.810059  1993.699951  428000   \n",
       "2 2019-01-04  2011.560059  1984.530029  1992.400024  2010.250000  409000   \n",
       "3 2019-01-07  2048.060059  2030.900024  2034.239990  2037.099976  440200   \n",
       "4 2019-01-08  2042.699951  2023.589966  2038.680054  2025.270020  397800   \n",
       "\n",
       "     Adj Close  \n",
       "0  2010.000000  \n",
       "1  1993.699951  \n",
       "2  2010.250000  \n",
       "3  2037.099976  \n",
       "4  2025.270020  "
      ]
     },
     "execution_count": 16,
     "metadata": {},
     "output_type": "execute_result"
    }
   ],
   "source": [
    "df.head()"
   ]
  },
  {
   "cell_type": "code",
   "execution_count": 14,
   "id": "f607d9d2",
   "metadata": {},
   "outputs": [],
   "source": [
    "x = df.Date\n",
    "y = df.Close"
   ]
  },
  {
   "cell_type": "code",
   "execution_count": null,
   "id": "77842cd2",
   "metadata": {},
   "outputs": [],
   "source": [
    "'폐기물주', price1 = [1089280, 1083740, 1060760, 926400, 1000000]],\n",
    " ['비료주', price2 = [1033550, 1107060, 1015400, 874200]],\n",
    " ['제습기주', price3 = [828640, 894400, 1009600, 1181192]],\n",
    " ['식료품주', price4 = [835000, 934200, 1044980]],\n",
    " ['에어컨주', price5 =[844960, 802510, 833995, 1023180, 914900, 776080]],\n",
    "\n"
   ]
  },
  {
   "cell_type": "code",
   "execution_count": 31,
   "id": "015fea35",
   "metadata": {},
   "outputs": [],
   "source": [
    "# x는 주식종목\n",
    "x1 = ['KG ETS','스페코','와이엔텍','인선이엔티','코엔텍']\n",
    "x2 = ['경농','조비','동방아그로','남해화학']\n",
    "x3 = ['위닉스','신일전자','파세코','코웨이']\n",
    "x4 = ['롯데하이마트','빙그레','태경케미칼']\n",
    "x5 = ['파세코','위니아','딤채','비엠티','신일전자','에쓰시디','에스피지','위닉스']"
   ]
  },
  {
   "cell_type": "code",
   "execution_count": 32,
   "id": "c39880d5",
   "metadata": {},
   "outputs": [],
   "source": [
    "# 수익률\n",
    "price1 = [1089280, 1083740, 1060760, 926400, 1000000]\n",
    "price2 = [1033550, 1107060, 1015400, 874200]\n",
    "price3 = [828640, 894400, 1009600, 1181192]\n",
    "price4 = [835000, 934200, 1044980]\n",
    "price5 =[844960, 802510, 833995, 1023180, 914900, 776080]\n"
   ]
  },
  {
   "cell_type": "code",
   "execution_count": 56,
   "id": "694f4a13",
   "metadata": {},
   "outputs": [],
   "source": [
    "ratio1= []\n",
    "for p in price1:\n",
    "    ratio1.append((p*100/1000000)-100)\n",
    "ratio1\n",
    "\n",
    "y1 = ratio1"
   ]
  },
  {
   "cell_type": "code",
   "execution_count": 57,
   "id": "87c44b7a",
   "metadata": {},
   "outputs": [],
   "source": [
    "ratio2= []\n",
    "for p in price2:\n",
    "    ratio2.append((p*100/1000000)-100)\n",
    "ratio2\n",
    "\n",
    "y2 = ratio2"
   ]
  },
  {
   "cell_type": "code",
   "execution_count": 58,
   "id": "b2640037",
   "metadata": {},
   "outputs": [],
   "source": [
    "ratio3= []\n",
    "for p in price3:\n",
    "    ratio3.append((p*100/1000000)-100)\n",
    "ratio3\n",
    "\n",
    "y3 = ratio3"
   ]
  },
  {
   "cell_type": "code",
   "execution_count": 59,
   "id": "2b13241c",
   "metadata": {},
   "outputs": [],
   "source": [
    "ratio4= []\n",
    "for p in price4:\n",
    "    ratio4.append((p*100/1000000)-100)\n",
    "ratio4\n",
    "\n",
    "y4 = ratio4"
   ]
  },
  {
   "cell_type": "code",
   "execution_count": 60,
   "id": "33755c19",
   "metadata": {},
   "outputs": [
    {
     "data": {
      "text/plain": [
       "[8.927999999999997,\n",
       " 8.373999999999995,\n",
       " 6.075999999999993,\n",
       " -7.359999999999999,\n",
       " 0.0]"
      ]
     },
     "execution_count": 60,
     "metadata": {},
     "output_type": "execute_result"
    }
   ],
   "source": [
    "ratio5= []\n",
    "for p in price1:\n",
    "    ratio5.append((p*100/1000000)-100)\n",
    "ratio5\n",
    "\n",
    "y5 = ratio5\n",
    "y5"
   ]
  },
  {
   "cell_type": "code",
   "execution_count": 66,
   "id": "e530afea",
   "metadata": {},
   "outputs": [
    {
     "data": {
      "text/plain": [
       "([0, 1, 2, 3, 4, 5, 6, 7, 8, 9, 10, 11, 12, 13, 14, 15],\n",
       " [Text(0, 0, ''),\n",
       "  Text(0, 0, ''),\n",
       "  Text(0, 0, ''),\n",
       "  Text(0, 0, ''),\n",
       "  Text(0, 0, ''),\n",
       "  Text(0, 0, ''),\n",
       "  Text(0, 0, ''),\n",
       "  Text(0, 0, ''),\n",
       "  Text(0, 0, ''),\n",
       "  Text(0, 0, ''),\n",
       "  Text(0, 0, ''),\n",
       "  Text(0, 0, ''),\n",
       "  Text(0, 0, ''),\n",
       "  Text(0, 0, ''),\n",
       "  Text(0, 0, ''),\n",
       "  Text(0, 0, '')])"
      ]
     },
     "execution_count": 66,
     "metadata": {},
     "output_type": "execute_result"
    },
    {
     "data": {
      "image/png": "[encoded data removed]",
      "text/plain": [
       "<Figure size 432x288 with 1 Axes>"
      ]
     },
     "metadata": {
      "needs_background": "light"
     },
     "output_type": "display_data"
    }
   ],
   "source": [
    "plt.bar(x1, ratio1)\n",
    "plt.bar(x2, ratio2)\n",
    "plt.bar(x3, ratio3)\n",
    "plt.bar(x4, ratio4)\n",
    "plt.xticks(rotation= 90)"
   ]
  },
  {
   "cell_type": "code",
   "execution_count": null,
   "id": "04c7a33b",
   "metadata": {},
   "outputs": [],
   "source": [
    "x11 = '폐기물주'\n",
    "x22 = '비료주'\n",
    "x33 = '제습기주'\n",
    "x44 = '식료품주'\n",
    "x55 = '에어컨주'"
   ]
  },
  {
   "cell_type": "code",
   "execution_count": 65,
   "id": "31cabafb",
   "metadata": {},
   "outputs": [
    {
     "data": {
      "text/plain": [
       "16.017999999999986"
      ]
     },
     "execution_count": 65,
     "metadata": {},
     "output_type": "execute_result"
    }
   ],
   "source": [
    "y11 = sum(ratio1)\n",
    "y22 = sum(ratio32)\n",
    "y11 = sum(ratio3)\n",
    "y11 = sum(ratio1)\n",
    "y11 = sum(ratio1)\n"
   ]
  },
  {
   "cell_type": "code",
   "execution_count": 38,
   "id": "48bfdb64",
   "metadata": {},
   "outputs": [
    {
     "data": {
      "text/plain": [
       "<BarContainer object of 5 artists>"
      ]
     },
     "execution_count": 38,
     "metadata": {},
     "output_type": "execute_result"
    },
    {
     "name": "stderr",
     "output_type": "stream",
     "text": [
      "C:\\Users\\sim\\Anaconda3\\lib\\site-packages\\matplotlib\\backends\\backend_agg.py:240: RuntimeWarning: Glyph 49828 missing from current font.\n",
      "  font.set_text(s, 0.0, flags=flags)\n",
      "C:\\Users\\sim\\Anaconda3\\lib\\site-packages\\matplotlib\\backends\\backend_agg.py:240: RuntimeWarning: Glyph 54168 missing from current font.\n",
      "  font.set_text(s, 0.0, flags=flags)\n",
      "C:\\Users\\sim\\Anaconda3\\lib\\site-packages\\matplotlib\\backends\\backend_agg.py:240: RuntimeWarning: Glyph 53076 missing from current font.\n",
      "  font.set_text(s, 0.0, flags=flags)\n",
      "C:\\Users\\sim\\Anaconda3\\lib\\site-packages\\matplotlib\\backends\\backend_agg.py:240: RuntimeWarning: Glyph 50752 missing from current font.\n",
      "  font.set_text(s, 0.0, flags=flags)\n",
      "C:\\Users\\sim\\Anaconda3\\lib\\site-packages\\matplotlib\\backends\\backend_agg.py:240: RuntimeWarning: Glyph 51060 missing from current font.\n",
      "  font.set_text(s, 0.0, flags=flags)\n",
      "C:\\Users\\sim\\Anaconda3\\lib\\site-packages\\matplotlib\\backends\\backend_agg.py:240: RuntimeWarning: Glyph 50644 missing from current font.\n",
      "  font.set_text(s, 0.0, flags=flags)\n",
      "C:\\Users\\sim\\Anaconda3\\lib\\site-packages\\matplotlib\\backends\\backend_agg.py:240: RuntimeWarning: Glyph 53581 missing from current font.\n",
      "  font.set_text(s, 0.0, flags=flags)\n",
      "C:\\Users\\sim\\Anaconda3\\lib\\site-packages\\matplotlib\\backends\\backend_agg.py:240: RuntimeWarning: Glyph 51064 missing from current font.\n",
      "  font.set_text(s, 0.0, flags=flags)\n",
      "C:\\Users\\sim\\Anaconda3\\lib\\site-packages\\matplotlib\\backends\\backend_agg.py:240: RuntimeWarning: Glyph 49440 missing from current font.\n",
      "  font.set_text(s, 0.0, flags=flags)\n",
      "C:\\Users\\sim\\Anaconda3\\lib\\site-packages\\matplotlib\\backends\\backend_agg.py:240: RuntimeWarning: Glyph 54000 missing from current font.\n",
      "  font.set_text(s, 0.0, flags=flags)\n",
      "C:\\Users\\sim\\Anaconda3\\lib\\site-packages\\matplotlib\\backends\\backend_agg.py:203: RuntimeWarning: Glyph 49828 missing from current font.\n",
      "  font.set_text(s, 0, flags=flags)\n",
      "C:\\Users\\sim\\Anaconda3\\lib\\site-packages\\matplotlib\\backends\\backend_agg.py:203: RuntimeWarning: Glyph 54168 missing from current font.\n",
      "  font.set_text(s, 0, flags=flags)\n",
      "C:\\Users\\sim\\Anaconda3\\lib\\site-packages\\matplotlib\\backends\\backend_agg.py:203: RuntimeWarning: Glyph 53076 missing from current font.\n",
      "  font.set_text(s, 0, flags=flags)\n",
      "C:\\Users\\sim\\Anaconda3\\lib\\site-packages\\matplotlib\\backends\\backend_agg.py:203: RuntimeWarning: Glyph 50752 missing from current font.\n",
      "  font.set_text(s, 0, flags=flags)\n",
      "C:\\Users\\sim\\Anaconda3\\lib\\site-packages\\matplotlib\\backends\\backend_agg.py:203: RuntimeWarning: Glyph 51060 missing from current font.\n",
      "  font.set_text(s, 0, flags=flags)\n",
      "C:\\Users\\sim\\Anaconda3\\lib\\site-packages\\matplotlib\\backends\\backend_agg.py:203: RuntimeWarning: Glyph 50644 missing from current font.\n",
      "  font.set_text(s, 0, flags=flags)\n",
      "C:\\Users\\sim\\Anaconda3\\lib\\site-packages\\matplotlib\\backends\\backend_agg.py:203: RuntimeWarning: Glyph 53581 missing from current font.\n",
      "  font.set_text(s, 0, flags=flags)\n",
      "C:\\Users\\sim\\Anaconda3\\lib\\site-packages\\matplotlib\\backends\\backend_agg.py:203: RuntimeWarning: Glyph 51064 missing from current font.\n",
      "  font.set_text(s, 0, flags=flags)\n",
      "C:\\Users\\sim\\Anaconda3\\lib\\site-packages\\matplotlib\\backends\\backend_agg.py:203: RuntimeWarning: Glyph 49440 missing from current font.\n",
      "  font.set_text(s, 0, flags=flags)\n",
      "C:\\Users\\sim\\Anaconda3\\lib\\site-packages\\matplotlib\\backends\\backend_agg.py:203: RuntimeWarning: Glyph 54000 missing from current font.\n",
      "  font.set_text(s, 0, flags=flags)\n"
     ]
    },
    {
     "data": {
      "image/png": "[encoded data removed]",
      "text/plain": [
       "<Figure size 432x288 with 1 Axes>"
      ]
     },
     "metadata": {
      "needs_background": "light"
     },
     "output_type": "display_data"
    }
   ],
   "source": [
    "'폐기물주', price1 = [1089280, 1083740, 1060760, 926400, 1000000]],\n",
    " ['비료주', price2 = [1033550, 1107060, 1015400, 874200]],\n",
    " ['제습기주', price3 = [828640, 894400, 1009600, 1181192]],\n",
    " ['식료품주', price4 = [835000, 934200, 1044980]],\n",
    " ['에어컨주'"
   ]
  },
  {
   "cell_type": "code",
   "execution_count": 39,
   "id": "2d1e92dc",
   "metadata": {},
   "outputs": [
    {
     "data": {
      "text/plain": [
       "<BarContainer object of 4 artists>"
      ]
     },
     "execution_count": 39,
     "metadata": {},
     "output_type": "execute_result"
    },
    {
     "name": "stderr",
     "output_type": "stream",
     "text": [
      "C:\\Users\\sim\\Anaconda3\\lib\\site-packages\\matplotlib\\backends\\backend_agg.py:240: RuntimeWarning: Glyph 44221 missing from current font.\n",
      "  font.set_text(s, 0.0, flags=flags)\n",
      "C:\\Users\\sim\\Anaconda3\\lib\\site-packages\\matplotlib\\backends\\backend_agg.py:240: RuntimeWarning: Glyph 45453 missing from current font.\n",
      "  font.set_text(s, 0.0, flags=flags)\n",
      "C:\\Users\\sim\\Anaconda3\\lib\\site-packages\\matplotlib\\backends\\backend_agg.py:240: RuntimeWarning: Glyph 51312 missing from current font.\n",
      "  font.set_text(s, 0.0, flags=flags)\n",
      "C:\\Users\\sim\\Anaconda3\\lib\\site-packages\\matplotlib\\backends\\backend_agg.py:240: RuntimeWarning: Glyph 48708 missing from current font.\n",
      "  font.set_text(s, 0.0, flags=flags)\n",
      "C:\\Users\\sim\\Anaconda3\\lib\\site-packages\\matplotlib\\backends\\backend_agg.py:240: RuntimeWarning: Glyph 46041 missing from current font.\n",
      "  font.set_text(s, 0.0, flags=flags)\n",
      "C:\\Users\\sim\\Anaconda3\\lib\\site-packages\\matplotlib\\backends\\backend_agg.py:240: RuntimeWarning: Glyph 48169 missing from current font.\n",
      "  font.set_text(s, 0.0, flags=flags)\n",
      "C:\\Users\\sim\\Anaconda3\\lib\\site-packages\\matplotlib\\backends\\backend_agg.py:240: RuntimeWarning: Glyph 50500 missing from current font.\n",
      "  font.set_text(s, 0.0, flags=flags)\n",
      "C:\\Users\\sim\\Anaconda3\\lib\\site-packages\\matplotlib\\backends\\backend_agg.py:240: RuntimeWarning: Glyph 44536 missing from current font.\n",
      "  font.set_text(s, 0.0, flags=flags)\n",
      "C:\\Users\\sim\\Anaconda3\\lib\\site-packages\\matplotlib\\backends\\backend_agg.py:240: RuntimeWarning: Glyph 47196 missing from current font.\n",
      "  font.set_text(s, 0.0, flags=flags)\n",
      "C:\\Users\\sim\\Anaconda3\\lib\\site-packages\\matplotlib\\backends\\backend_agg.py:240: RuntimeWarning: Glyph 45224 missing from current font.\n",
      "  font.set_text(s, 0.0, flags=flags)\n",
      "C:\\Users\\sim\\Anaconda3\\lib\\site-packages\\matplotlib\\backends\\backend_agg.py:240: RuntimeWarning: Glyph 54644 missing from current font.\n",
      "  font.set_text(s, 0.0, flags=flags)\n",
      "C:\\Users\\sim\\Anaconda3\\lib\\site-packages\\matplotlib\\backends\\backend_agg.py:240: RuntimeWarning: Glyph 54868 missing from current font.\n",
      "  font.set_text(s, 0.0, flags=flags)\n",
      "C:\\Users\\sim\\Anaconda3\\lib\\site-packages\\matplotlib\\backends\\backend_agg.py:240: RuntimeWarning: Glyph 54617 missing from current font.\n",
      "  font.set_text(s, 0.0, flags=flags)\n",
      "C:\\Users\\sim\\Anaconda3\\lib\\site-packages\\matplotlib\\backends\\backend_agg.py:203: RuntimeWarning: Glyph 44221 missing from current font.\n",
      "  font.set_text(s, 0, flags=flags)\n",
      "C:\\Users\\sim\\Anaconda3\\lib\\site-packages\\matplotlib\\backends\\backend_agg.py:203: RuntimeWarning: Glyph 45453 missing from current font.\n",
      "  font.set_text(s, 0, flags=flags)\n",
      "C:\\Users\\sim\\Anaconda3\\lib\\site-packages\\matplotlib\\backends\\backend_agg.py:203: RuntimeWarning: Glyph 51312 missing from current font.\n",
      "  font.set_text(s, 0, flags=flags)\n",
      "C:\\Users\\sim\\Anaconda3\\lib\\site-packages\\matplotlib\\backends\\backend_agg.py:203: RuntimeWarning: Glyph 48708 missing from current font.\n",
      "  font.set_text(s, 0, flags=flags)\n",
      "C:\\Users\\sim\\Anaconda3\\lib\\site-packages\\matplotlib\\backends\\backend_agg.py:203: RuntimeWarning: Glyph 46041 missing from current font.\n",
      "  font.set_text(s, 0, flags=flags)\n",
      "C:\\Users\\sim\\Anaconda3\\lib\\site-packages\\matplotlib\\backends\\backend_agg.py:203: RuntimeWarning: Glyph 48169 missing from current font.\n",
      "  font.set_text(s, 0, flags=flags)\n",
      "C:\\Users\\sim\\Anaconda3\\lib\\site-packages\\matplotlib\\backends\\backend_agg.py:203: RuntimeWarning: Glyph 50500 missing from current font.\n",
      "  font.set_text(s, 0, flags=flags)\n",
      "C:\\Users\\sim\\Anaconda3\\lib\\site-packages\\matplotlib\\backends\\backend_agg.py:203: RuntimeWarning: Glyph 44536 missing from current font.\n",
      "  font.set_text(s, 0, flags=flags)\n",
      "C:\\Users\\sim\\Anaconda3\\lib\\site-packages\\matplotlib\\backends\\backend_agg.py:203: RuntimeWarning: Glyph 47196 missing from current font.\n",
      "  font.set_text(s, 0, flags=flags)\n",
      "C:\\Users\\sim\\Anaconda3\\lib\\site-packages\\matplotlib\\backends\\backend_agg.py:203: RuntimeWarning: Glyph 45224 missing from current font.\n",
      "  font.set_text(s, 0, flags=flags)\n",
      "C:\\Users\\sim\\Anaconda3\\lib\\site-packages\\matplotlib\\backends\\backend_agg.py:203: RuntimeWarning: Glyph 54644 missing from current font.\n",
      "  font.set_text(s, 0, flags=flags)\n",
      "C:\\Users\\sim\\Anaconda3\\lib\\site-packages\\matplotlib\\backends\\backend_agg.py:203: RuntimeWarning: Glyph 54868 missing from current font.\n",
      "  font.set_text(s, 0, flags=flags)\n",
      "C:\\Users\\sim\\Anaconda3\\lib\\site-packages\\matplotlib\\backends\\backend_agg.py:203: RuntimeWarning: Glyph 54617 missing from current font.\n",
      "  font.set_text(s, 0, flags=flags)\n"
     ]
    },
    {
     "data": {
      "image/png": "[encoded data removed]",
      "text/plain": [
       "<Figure size 432x288 with 1 Axes>"
      ]
     },
     "metadata": {
      "needs_background": "light"
     },
     "output_type": "display_data"
    }
   ],
   "source": [
    "plt.bar(x2, ratio2)"
   ]
  },
  {
   "cell_type": "code",
   "execution_count": null,
   "id": "59f8d832",
   "metadata": {},
   "outputs": [],
   "source": []
  }
 ],
 "metadata": {
  "kernelspec": {
   "display_name": "Python 3 (ipykernel)",
   "language": "python",
   "name": "python3"
  },
  "language_info": {
   "codemirror_mode": {
    "name": "ipython",
    "version": 3
   },
   "file_extension": ".py",
   "mimetype": "text/x-python",
   "name": "python",
   "nbconvert_exporter": "python",
   "pygments_lexer": "ipython3",
   "version": "3.9.7"
  }
 },
 "nbformat": 4,
 "nbformat_minor": 5
}
