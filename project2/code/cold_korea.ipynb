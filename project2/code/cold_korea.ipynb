{
 "cells": [
  {
   "cell_type": "code",
   "execution_count": 3,
   "id": "ee5f6527",
   "metadata": {},
   "outputs": [],
   "source": [
    "import pandas as pd \n",
    "import numpy as np\n",
    "import seaborn as sns \n",
    "import matplotlib.pyplot as plt\n",
    "import os\n",
    "from functools import reduce\n",
    "import warnings \n",
    "warnings.filterwarnings('ignore')"
   ]
  },
  {
   "cell_type": "code",
   "execution_count": 4,
   "id": "9f90ab25",
   "metadata": {},
   "outputs": [],
   "source": [
    "# 분류모델 import \n",
    "# Logistic Regression,SGD,KNN,SVM,Decision Tree, Random Forest, LGBMClassifier\n",
    "from sklearn.linear_model import LogisticRegression\n",
    "from sklearn.neighbors import KNeighborsClassifier\n",
    "from sklearn.svm import SVC\n",
    "from sklearn.tree import DecisionTreeClassifier\n",
    "from sklearn.ensemble import RandomForestClassifier\n",
    "from lightgbm import LGBMClassifier\n",
    "from sklearn.metrics import classification_report,roc_auc_score,f1_score\n",
    "\n",
    "lr = LogisticRegression()\n",
    "knn = KNeighborsClassifier()\n",
    "svm = SVC()\n",
    "dtc = DecisionTreeClassifier()\n",
    "rfc = RandomForestClassifier()\n",
    "lgbm = LGBMClassifier()"
   ]
  },
  {
   "cell_type": "code",
   "execution_count": 5,
   "id": "f603d5fe",
   "metadata": {},
   "outputs": [],
   "source": [
    "df_coldwave = pd.read_csv('./preprocessed/df_coldwave.csv',encoding='cp949',index_col=0)\n",
    "df_kr = pd.read_csv('./preprocessed/국내기후(백령도제외).csv',index_col=0)"
   ]
  },
  {
   "cell_type": "code",
   "execution_count": 6,
   "id": "2cabed38",
   "metadata": {},
   "outputs": [],
   "source": [
    "df_coldwave.drop(['연도','날짜','지점'],axis=1,inplace=True)"
   ]
  },
  {
   "cell_type": "code",
   "execution_count": 7,
   "id": "d716e957",
   "metadata": {},
   "outputs": [],
   "source": [
    "# 중복된 날짜 제거 \n",
    "df_coldwave = df_coldwave.drop_duplicates()"
   ]
  },
  {
   "cell_type": "code",
   "execution_count": 8,
   "id": "b3c10719",
   "metadata": {},
   "outputs": [],
   "source": [
    "df_kr.rename(columns={'시간':'일시'},inplace=True)"
   ]
  },
  {
   "cell_type": "code",
   "execution_count": 9,
   "id": "720f240b",
   "metadata": {},
   "outputs": [],
   "source": [
    "# 주변국과 바다기후를  merge\n",
    "cold_kr = pd.merge(df_coldwave,df_kr, how='right',on='일시')"
   ]
  },
  {
   "cell_type": "code",
   "execution_count": 10,
   "id": "b25ffbdb",
   "metadata": {},
   "outputs": [],
   "source": [
    "# 재난일어난날 컬럼을 바이너리로 만들기 \n",
    "cold_kr['재난일어난날'] = cold_kr['재난일어난날'].fillna(0)"
   ]
  },
  {
   "cell_type": "code",
   "execution_count": 11,
   "id": "b5b8a6be",
   "metadata": {},
   "outputs": [],
   "source": [
    "cold_kr['재난일어난날'] =cold_kr['재난일어난날'].apply(lambda x: x if str(x) == '0' else '1')"
   ]
  },
  {
   "cell_type": "code",
   "execution_count": 12,
   "id": "30b1b5c8",
   "metadata": {},
   "outputs": [],
   "source": [
    "# 전부 뉴메릭으로 만들기 \n",
    "cold_kr['재난일어난날']=cold_kr['재난일어난날'].astype(int)"
   ]
  },
  {
   "cell_type": "code",
   "execution_count": 13,
   "id": "e506cd33",
   "metadata": {},
   "outputs": [],
   "source": [
    "cold_kr.drop('일시',axis=1,inplace=True)"
   ]
  },
  {
   "cell_type": "code",
   "execution_count": 14,
   "id": "c303c99a",
   "metadata": {
    "collapsed": true
   },
   "outputs": [
    {
     "name": "stdout",
     "output_type": "stream",
     "text": [
      "<class 'pandas.core.frame.DataFrame'>\n",
      "Int64Index: 93504 entries, 0 to 93503\n",
      "Data columns (total 33 columns):\n",
      " #   Column       Non-Null Count  Dtype  \n",
      "---  ------       --------------  -----  \n",
      " 0   재난일어난날       93504 non-null  int32  \n",
      " 1   관측지점         93504 non-null  object \n",
      " 2   평균 기온        93504 non-null  float64\n",
      " 3   최저 기온        93504 non-null  float64\n",
      " 4   최고 기온        93504 non-null  float64\n",
      " 5   1시간 최다강수량    93504 non-null  float64\n",
      " 6   일강수량         93504 non-null  float64\n",
      " 7   최대 순간풍속      93504 non-null  float64\n",
      " 8   최대 순간 풍속 풍향  93504 non-null  float64\n",
      " 9   최대 풍속        93504 non-null  float64\n",
      " 10  최대 풍속 풍향     93504 non-null  float64\n",
      " 11  평균 풍속        93504 non-null  float64\n",
      " 12  풍정합          93504 non-null  float64\n",
      " 13  최대 풍향        93504 non-null  float64\n",
      " 14  평균 이슬점온도     93504 non-null  float64\n",
      " 15  평균 상대습도      93504 non-null  float64\n",
      " 16  평균 증기압       93504 non-null  float64\n",
      " 17  평균 현지기압      93504 non-null  float64\n",
      " 18  최고 해면 기압     93504 non-null  float64\n",
      " 19  최저 해면기압      93504 non-null  float64\n",
      " 20  평균 해면기압      93504 non-null  float64\n",
      " 21  합계 일조 시간     93504 non-null  float64\n",
      " 22  1시간 최다 일사량   93504 non-null  float64\n",
      " 23  합계 일사        93504 non-null  float64\n",
      " 24  일 최심신적설      93504 non-null  float64\n",
      " 25  일 최심적설       93504 non-null  float64\n",
      " 26  합계 3시간 신적설   93504 non-null  float64\n",
      " 27  평균 전운량       93504 non-null  float64\n",
      " 28  평균 중하층운량     93504 non-null  float64\n",
      " 29  평균 지면온도      93504 non-null  float64\n",
      " 30  합계 대형증발량     93504 non-null  float64\n",
      " 31  합계 소형증발량     93504 non-null  float64\n",
      " 32  안개 계속 시간     93504 non-null  float64\n",
      "dtypes: float64(31), int32(1), object(1)\n",
      "memory usage: 23.9+ MB\n"
     ]
    }
   ],
   "source": [
    "cold_kr.info()"
   ]
  },
  {
   "cell_type": "code",
   "execution_count": 15,
   "id": "f84519cb",
   "metadata": {},
   "outputs": [],
   "source": [
    "# 위치를 원핫인코딩하기\n",
    "cold_kr = pd.get_dummies(cold_kr)"
   ]
  },
  {
   "cell_type": "code",
   "execution_count": 16,
   "id": "faf77fa2",
   "metadata": {},
   "outputs": [],
   "source": [
    "# 재난일어난날 2주뒤로 미뤄서 예측값 찾기 \n",
    "cold_kr['재난일어난날'] = cold_kr['재난일어난날'].shift(periods=14, axis=0)"
   ]
  },
  {
   "cell_type": "code",
   "execution_count": 17,
   "id": "2ea29c32",
   "metadata": {},
   "outputs": [],
   "source": [
    "# 뒤로미룬만큼 생긴 nan값 제거 \n",
    "cold_kr.dropna(inplace=True)"
   ]
  },
  {
   "cell_type": "code",
   "execution_count": 18,
   "id": "280261e4",
   "metadata": {
    "collapsed": true
   },
   "outputs": [
    {
     "data": {
      "text/html": [
       "<div>\n",
       "<style scoped>\n",
       "    .dataframe tbody tr th:only-of-type {\n",
       "        vertical-align: middle;\n",
       "    }\n",
       "\n",
       "    .dataframe tbody tr th {\n",
       "        vertical-align: top;\n",
       "    }\n",
       "\n",
       "    .dataframe thead th {\n",
       "        text-align: right;\n",
       "    }\n",
       "</style>\n",
       "<table border=\"1\" class=\"dataframe\">\n",
       "  <thead>\n",
       "    <tr style=\"text-align: right;\">\n",
       "      <th></th>\n",
       "      <th>재난일어난날</th>\n",
       "      <th>평균 기온</th>\n",
       "      <th>최저 기온</th>\n",
       "      <th>최고 기온</th>\n",
       "      <th>1시간 최다강수량</th>\n",
       "      <th>일강수량</th>\n",
       "      <th>최대 순간풍속</th>\n",
       "      <th>최대 순간 풍속 풍향</th>\n",
       "      <th>최대 풍속</th>\n",
       "      <th>최대 풍속 풍향</th>\n",
       "      <th>...</th>\n",
       "      <th>합계 소형증발량</th>\n",
       "      <th>안개 계속 시간</th>\n",
       "      <th>관측지점_강릉</th>\n",
       "      <th>관측지점_광주</th>\n",
       "      <th>관측지점_대구</th>\n",
       "      <th>관측지점_서울</th>\n",
       "      <th>관측지점_전주</th>\n",
       "      <th>관측지점_제주</th>\n",
       "      <th>관측지점_청주</th>\n",
       "      <th>관측지점_춘천</th>\n",
       "    </tr>\n",
       "  </thead>\n",
       "  <tbody>\n",
       "    <tr>\n",
       "      <th>14</th>\n",
       "      <td>1.0</td>\n",
       "      <td>-3.3</td>\n",
       "      <td>-5.0</td>\n",
       "      <td>-1.9</td>\n",
       "      <td>0.0</td>\n",
       "      <td>0.0</td>\n",
       "      <td>8.0</td>\n",
       "      <td>320.0</td>\n",
       "      <td>5.0</td>\n",
       "      <td>320.0</td>\n",
       "      <td>...</td>\n",
       "      <td>1.0</td>\n",
       "      <td>0.0</td>\n",
       "      <td>0</td>\n",
       "      <td>0</td>\n",
       "      <td>0</td>\n",
       "      <td>1</td>\n",
       "      <td>0</td>\n",
       "      <td>0</td>\n",
       "      <td>0</td>\n",
       "      <td>0</td>\n",
       "    </tr>\n",
       "    <tr>\n",
       "      <th>15</th>\n",
       "      <td>1.0</td>\n",
       "      <td>-3.4</td>\n",
       "      <td>-7.9</td>\n",
       "      <td>1.4</td>\n",
       "      <td>0.0</td>\n",
       "      <td>0.0</td>\n",
       "      <td>6.9</td>\n",
       "      <td>270.0</td>\n",
       "      <td>5.0</td>\n",
       "      <td>270.0</td>\n",
       "      <td>...</td>\n",
       "      <td>1.1</td>\n",
       "      <td>0.0</td>\n",
       "      <td>0</td>\n",
       "      <td>0</td>\n",
       "      <td>0</td>\n",
       "      <td>1</td>\n",
       "      <td>0</td>\n",
       "      <td>0</td>\n",
       "      <td>0</td>\n",
       "      <td>0</td>\n",
       "    </tr>\n",
       "    <tr>\n",
       "      <th>16</th>\n",
       "      <td>1.0</td>\n",
       "      <td>0.9</td>\n",
       "      <td>-3.3</td>\n",
       "      <td>5.7</td>\n",
       "      <td>0.0</td>\n",
       "      <td>0.0</td>\n",
       "      <td>8.8</td>\n",
       "      <td>200.0</td>\n",
       "      <td>5.8</td>\n",
       "      <td>200.0</td>\n",
       "      <td>...</td>\n",
       "      <td>1.4</td>\n",
       "      <td>0.0</td>\n",
       "      <td>0</td>\n",
       "      <td>0</td>\n",
       "      <td>0</td>\n",
       "      <td>1</td>\n",
       "      <td>0</td>\n",
       "      <td>0</td>\n",
       "      <td>0</td>\n",
       "      <td>0</td>\n",
       "    </tr>\n",
       "    <tr>\n",
       "      <th>17</th>\n",
       "      <td>1.0</td>\n",
       "      <td>2.5</td>\n",
       "      <td>-4.1</td>\n",
       "      <td>5.2</td>\n",
       "      <td>0.0</td>\n",
       "      <td>3.0</td>\n",
       "      <td>12.1</td>\n",
       "      <td>290.0</td>\n",
       "      <td>7.0</td>\n",
       "      <td>290.0</td>\n",
       "      <td>...</td>\n",
       "      <td>1.6</td>\n",
       "      <td>0.0</td>\n",
       "      <td>0</td>\n",
       "      <td>0</td>\n",
       "      <td>0</td>\n",
       "      <td>1</td>\n",
       "      <td>0</td>\n",
       "      <td>0</td>\n",
       "      <td>0</td>\n",
       "      <td>0</td>\n",
       "    </tr>\n",
       "    <tr>\n",
       "      <th>18</th>\n",
       "      <td>0.0</td>\n",
       "      <td>-5.6</td>\n",
       "      <td>-9.3</td>\n",
       "      <td>-2.4</td>\n",
       "      <td>0.0</td>\n",
       "      <td>0.0</td>\n",
       "      <td>12.2</td>\n",
       "      <td>290.0</td>\n",
       "      <td>7.3</td>\n",
       "      <td>290.0</td>\n",
       "      <td>...</td>\n",
       "      <td>1.7</td>\n",
       "      <td>0.0</td>\n",
       "      <td>0</td>\n",
       "      <td>0</td>\n",
       "      <td>0</td>\n",
       "      <td>1</td>\n",
       "      <td>0</td>\n",
       "      <td>0</td>\n",
       "      <td>0</td>\n",
       "      <td>0</td>\n",
       "    </tr>\n",
       "    <tr>\n",
       "      <th>...</th>\n",
       "      <td>...</td>\n",
       "      <td>...</td>\n",
       "      <td>...</td>\n",
       "      <td>...</td>\n",
       "      <td>...</td>\n",
       "      <td>...</td>\n",
       "      <td>...</td>\n",
       "      <td>...</td>\n",
       "      <td>...</td>\n",
       "      <td>...</td>\n",
       "      <td>...</td>\n",
       "      <td>...</td>\n",
       "      <td>...</td>\n",
       "      <td>...</td>\n",
       "      <td>...</td>\n",
       "      <td>...</td>\n",
       "      <td>...</td>\n",
       "      <td>...</td>\n",
       "      <td>...</td>\n",
       "      <td>...</td>\n",
       "      <td>...</td>\n",
       "    </tr>\n",
       "    <tr>\n",
       "      <th>93499</th>\n",
       "      <td>0.0</td>\n",
       "      <td>4.1</td>\n",
       "      <td>0.8</td>\n",
       "      <td>6.5</td>\n",
       "      <td>0.0</td>\n",
       "      <td>0.1</td>\n",
       "      <td>12.8</td>\n",
       "      <td>20.0</td>\n",
       "      <td>6.8</td>\n",
       "      <td>20.0</td>\n",
       "      <td>...</td>\n",
       "      <td>1.4</td>\n",
       "      <td>0.0</td>\n",
       "      <td>0</td>\n",
       "      <td>0</td>\n",
       "      <td>0</td>\n",
       "      <td>0</td>\n",
       "      <td>0</td>\n",
       "      <td>1</td>\n",
       "      <td>0</td>\n",
       "      <td>0</td>\n",
       "    </tr>\n",
       "    <tr>\n",
       "      <th>93500</th>\n",
       "      <td>0.0</td>\n",
       "      <td>7.2</td>\n",
       "      <td>5.9</td>\n",
       "      <td>8.4</td>\n",
       "      <td>0.0</td>\n",
       "      <td>0.0</td>\n",
       "      <td>9.1</td>\n",
       "      <td>360.0</td>\n",
       "      <td>5.3</td>\n",
       "      <td>340.0</td>\n",
       "      <td>...</td>\n",
       "      <td>1.3</td>\n",
       "      <td>0.0</td>\n",
       "      <td>0</td>\n",
       "      <td>0</td>\n",
       "      <td>0</td>\n",
       "      <td>0</td>\n",
       "      <td>0</td>\n",
       "      <td>1</td>\n",
       "      <td>0</td>\n",
       "      <td>0</td>\n",
       "    </tr>\n",
       "    <tr>\n",
       "      <th>93501</th>\n",
       "      <td>0.0</td>\n",
       "      <td>9.3</td>\n",
       "      <td>6.6</td>\n",
       "      <td>11.5</td>\n",
       "      <td>0.0</td>\n",
       "      <td>0.4</td>\n",
       "      <td>12.8</td>\n",
       "      <td>340.0</td>\n",
       "      <td>7.9</td>\n",
       "      <td>320.0</td>\n",
       "      <td>...</td>\n",
       "      <td>3.3</td>\n",
       "      <td>0.0</td>\n",
       "      <td>0</td>\n",
       "      <td>0</td>\n",
       "      <td>0</td>\n",
       "      <td>0</td>\n",
       "      <td>0</td>\n",
       "      <td>1</td>\n",
       "      <td>0</td>\n",
       "      <td>0</td>\n",
       "    </tr>\n",
       "    <tr>\n",
       "      <th>93502</th>\n",
       "      <td>0.0</td>\n",
       "      <td>6.9</td>\n",
       "      <td>5.8</td>\n",
       "      <td>8.4</td>\n",
       "      <td>0.0</td>\n",
       "      <td>0.0</td>\n",
       "      <td>18.1</td>\n",
       "      <td>340.0</td>\n",
       "      <td>10.1</td>\n",
       "      <td>340.0</td>\n",
       "      <td>...</td>\n",
       "      <td>3.2</td>\n",
       "      <td>0.0</td>\n",
       "      <td>0</td>\n",
       "      <td>0</td>\n",
       "      <td>0</td>\n",
       "      <td>0</td>\n",
       "      <td>0</td>\n",
       "      <td>1</td>\n",
       "      <td>0</td>\n",
       "      <td>0</td>\n",
       "    </tr>\n",
       "    <tr>\n",
       "      <th>93503</th>\n",
       "      <td>0.0</td>\n",
       "      <td>4.9</td>\n",
       "      <td>3.5</td>\n",
       "      <td>6.4</td>\n",
       "      <td>0.0</td>\n",
       "      <td>0.0</td>\n",
       "      <td>16.4</td>\n",
       "      <td>340.0</td>\n",
       "      <td>9.5</td>\n",
       "      <td>340.0</td>\n",
       "      <td>...</td>\n",
       "      <td>1.8</td>\n",
       "      <td>0.0</td>\n",
       "      <td>0</td>\n",
       "      <td>0</td>\n",
       "      <td>0</td>\n",
       "      <td>0</td>\n",
       "      <td>0</td>\n",
       "      <td>1</td>\n",
       "      <td>0</td>\n",
       "      <td>0</td>\n",
       "    </tr>\n",
       "  </tbody>\n",
       "</table>\n",
       "<p>93490 rows × 40 columns</p>\n",
       "</div>"
      ],
      "text/plain": [
       "       재난일어난날  평균 기온  최저 기온  최고 기온  1시간 최다강수량  일강수량  최대 순간풍속  최대 순간 풍속 풍향  \\\n",
       "14        1.0   -3.3   -5.0   -1.9        0.0   0.0      8.0        320.0   \n",
       "15        1.0   -3.4   -7.9    1.4        0.0   0.0      6.9        270.0   \n",
       "16        1.0    0.9   -3.3    5.7        0.0   0.0      8.8        200.0   \n",
       "17        1.0    2.5   -4.1    5.2        0.0   3.0     12.1        290.0   \n",
       "18        0.0   -5.6   -9.3   -2.4        0.0   0.0     12.2        290.0   \n",
       "...       ...    ...    ...    ...        ...   ...      ...          ...   \n",
       "93499     0.0    4.1    0.8    6.5        0.0   0.1     12.8         20.0   \n",
       "93500     0.0    7.2    5.9    8.4        0.0   0.0      9.1        360.0   \n",
       "93501     0.0    9.3    6.6   11.5        0.0   0.4     12.8        340.0   \n",
       "93502     0.0    6.9    5.8    8.4        0.0   0.0     18.1        340.0   \n",
       "93503     0.0    4.9    3.5    6.4        0.0   0.0     16.4        340.0   \n",
       "\n",
       "       최대 풍속  최대 풍속 풍향  ...  합계 소형증발량  안개 계속 시간  관측지점_강릉  관측지점_광주  관측지점_대구  \\\n",
       "14       5.0     320.0  ...       1.0       0.0        0        0        0   \n",
       "15       5.0     270.0  ...       1.1       0.0        0        0        0   \n",
       "16       5.8     200.0  ...       1.4       0.0        0        0        0   \n",
       "17       7.0     290.0  ...       1.6       0.0        0        0        0   \n",
       "18       7.3     290.0  ...       1.7       0.0        0        0        0   \n",
       "...      ...       ...  ...       ...       ...      ...      ...      ...   \n",
       "93499    6.8      20.0  ...       1.4       0.0        0        0        0   \n",
       "93500    5.3     340.0  ...       1.3       0.0        0        0        0   \n",
       "93501    7.9     320.0  ...       3.3       0.0        0        0        0   \n",
       "93502   10.1     340.0  ...       3.2       0.0        0        0        0   \n",
       "93503    9.5     340.0  ...       1.8       0.0        0        0        0   \n",
       "\n",
       "       관측지점_서울  관측지점_전주  관측지점_제주  관측지점_청주  관측지점_춘천  \n",
       "14           1        0        0        0        0  \n",
       "15           1        0        0        0        0  \n",
       "16           1        0        0        0        0  \n",
       "17           1        0        0        0        0  \n",
       "18           1        0        0        0        0  \n",
       "...        ...      ...      ...      ...      ...  \n",
       "93499        0        0        1        0        0  \n",
       "93500        0        0        1        0        0  \n",
       "93501        0        0        1        0        0  \n",
       "93502        0        0        1        0        0  \n",
       "93503        0        0        1        0        0  \n",
       "\n",
       "[93490 rows x 40 columns]"
      ]
     },
     "execution_count": 18,
     "metadata": {},
     "output_type": "execute_result"
    }
   ],
   "source": [
    "cold_kr"
   ]
  },
  {
   "cell_type": "code",
   "execution_count": 19,
   "id": "c7b22362",
   "metadata": {},
   "outputs": [],
   "source": [
    "y = cold_kr.재난일어난날\n",
    "x = cold_kr.drop('재난일어난날',axis=1)"
   ]
  },
  {
   "cell_type": "code",
   "execution_count": 20,
   "id": "14d8ae82",
   "metadata": {},
   "outputs": [],
   "source": [
    "from sklearn.model_selection import train_test_split\n",
    "x_train,x_test,y_train,y_test = train_test_split(x,y,test_size=0.2,random_state=0)"
   ]
  },
  {
   "cell_type": "code",
   "execution_count": 21,
   "id": "3ca89d76",
   "metadata": {},
   "outputs": [
    {
     "name": "stdout",
     "output_type": "stream",
     "text": [
      "LogisticRegression\n",
      "              precision    recall  f1-score   support\n",
      "\n",
      "         0.0       0.91      0.97      0.93     16544\n",
      "         1.0       0.46      0.23      0.31      2154\n",
      "\n",
      "    accuracy                           0.88     18698\n",
      "   macro avg       0.68      0.60      0.62     18698\n",
      "weighted avg       0.85      0.88      0.86     18698\n",
      "\n",
      "roc_auc_score : 0.8983593902936194\n",
      "--------------------------------------------------\n",
      "DecisionTreeClassifier\n",
      "              precision    recall  f1-score   support\n",
      "\n",
      "         0.0       0.93      0.92      0.92     16544\n",
      "         1.0       0.40      0.44      0.42      2154\n",
      "\n",
      "    accuracy                           0.86     18698\n",
      "   macro avg       0.66      0.68      0.67     18698\n",
      "weighted avg       0.87      0.86      0.86     18698\n",
      "\n",
      "roc_auc_score : 0.6753722438933278\n",
      "--------------------------------------------------\n",
      "RandomForestClassifier\n",
      "              precision    recall  f1-score   support\n",
      "\n",
      "         0.0       0.91      0.97      0.94     16544\n",
      "         1.0       0.57      0.27      0.37      2154\n",
      "\n",
      "    accuracy                           0.89     18698\n",
      "   macro avg       0.74      0.62      0.65     18698\n",
      "weighted avg       0.87      0.89      0.88     18698\n",
      "\n",
      "roc_auc_score : 0.9216561328705175\n",
      "--------------------------------------------------\n",
      "LGBMClassifier\n",
      "              precision    recall  f1-score   support\n",
      "\n",
      "         0.0       0.92      0.97      0.94     16544\n",
      "         1.0       0.58      0.31      0.41      2154\n",
      "\n",
      "    accuracy                           0.89     18698\n",
      "   macro avg       0.75      0.64      0.67     18698\n",
      "weighted avg       0.88      0.89      0.88     18698\n",
      "\n",
      "roc_auc_score : 0.9249034453466091\n",
      "--------------------------------------------------\n"
     ]
    }
   ],
   "source": [
    "models = [lr,dtc,rfc,lgbm]\n",
    "# result = []\n",
    "for i in models:\n",
    "    i.fit(x_train,y_train)\n",
    "    pred = i.predict(x_test)\n",
    "    proba = i.predict_proba(x_test)[:,1]\n",
    "    \n",
    "    print(i.__class__.__name__)\n",
    "    print(classification_report(y_test,pred))\n",
    "    print('roc_auc_score :',roc_auc_score(y_test,proba))\n",
    "    print('-'*50)"
   ]
  },
  {
   "cell_type": "code",
   "execution_count": 22,
   "id": "18179dcf",
   "metadata": {},
   "outputs": [],
   "source": [
    "from sklearn.preprocessing import StandardScaler\n",
    "scaler = StandardScaler()"
   ]
  },
  {
   "cell_type": "code",
   "execution_count": 23,
   "id": "2c101861",
   "metadata": {},
   "outputs": [
    {
     "data": {
      "text/plain": [
       "StandardScaler()"
      ]
     },
     "execution_count": 23,
     "metadata": {},
     "output_type": "execute_result"
    }
   ],
   "source": [
    "scaler.fit(x_train)"
   ]
  },
  {
   "cell_type": "code",
   "execution_count": 24,
   "id": "c3e0be97",
   "metadata": {},
   "outputs": [],
   "source": [
    "x_train_scaled = scaler.transform(x_train)\n",
    "x_test_scaled = scaler.transform(x_test)"
   ]
  },
  {
   "cell_type": "code",
   "execution_count": 25,
   "id": "7b180c7b",
   "metadata": {},
   "outputs": [
    {
     "data": {
      "text/plain": [
       "0.0    65944\n",
       "1.0     8848\n",
       "Name: 재난일어난날, dtype: int64"
      ]
     },
     "execution_count": 25,
     "metadata": {},
     "output_type": "execute_result"
    }
   ],
   "source": [
    "y_train.value_counts()"
   ]
  },
  {
   "cell_type": "code",
   "execution_count": 26,
   "id": "31b650a5",
   "metadata": {},
   "outputs": [],
   "source": [
    "import imblearn\n",
    "from imblearn.over_sampling import SMOTE"
   ]
  },
  {
   "cell_type": "code",
   "execution_count": 27,
   "id": "e8aeb4e2",
   "metadata": {},
   "outputs": [],
   "source": [
    "smote = SMOTE(random_state=0)\n",
    "x_train_sm,y_train_sm = smote.fit_resample(x_train_scaled,y_train)"
   ]
  },
  {
   "cell_type": "code",
   "execution_count": 28,
   "id": "c4914b25",
   "metadata": {},
   "outputs": [
    {
     "data": {
      "text/plain": [
       "0.0    65944\n",
       "1.0    65944\n",
       "Name: 재난일어난날, dtype: int64"
      ]
     },
     "execution_count": 28,
     "metadata": {},
     "output_type": "execute_result"
    }
   ],
   "source": [
    "y_train_sm.value_counts()"
   ]
  },
  {
   "cell_type": "code",
   "execution_count": null,
   "id": "8905899c",
   "metadata": {},
   "outputs": [],
   "source": [
    "models = [lr,dtc,rfc,lgbm]\n",
    "# result = []\n",
    "for i in models:\n",
    "    i.fit(x_train_sm,y_train_sm)\n",
    "    pred = i.predict(x_test_scaled)\n",
    "    proba = i.predict_proba(x_test_scaled)[:,1]\n",
    "    \n",
    "    print(i.__class__.__name__)\n",
    "    print(classification_report(y_test,pred))\n",
    "    print('roc_auc_score :',roc_auc_score(y_test,proba))\n",
    "    print('-'*50)\n",
    "    "
   ]
  },
  {
   "cell_type": "code",
   "execution_count": 29,
   "id": "9d887f2d",
   "metadata": {},
   "outputs": [
    {
     "name": "stdout",
     "output_type": "stream",
     "text": [
      "LogisticRegression\n",
      "              precision    recall  f1-score   support\n",
      "\n",
      "         0.0       0.99      0.79      0.88     16544\n",
      "         1.0       0.37      0.93      0.53      2154\n",
      "\n",
      "    accuracy                           0.81     18698\n",
      "   macro avg       0.68      0.86      0.70     18698\n",
      "weighted avg       0.92      0.81      0.84     18698\n",
      "\n",
      "roc_auc_score : 0.9144504387949907\n",
      "--------------------------------------------------\n",
      "DecisionTreeClassifier\n",
      "              precision    recall  f1-score   support\n",
      "\n",
      "         0.0       0.93      0.89      0.91     16544\n",
      "         1.0       0.38      0.51      0.44      2154\n",
      "\n",
      "    accuracy                           0.85     18698\n",
      "   macro avg       0.66      0.70      0.68     18698\n",
      "weighted avg       0.87      0.85      0.86     18698\n",
      "\n",
      "roc_auc_score : 0.702612930331586\n",
      "--------------------------------------------------\n",
      "RandomForestClassifier\n",
      "              precision    recall  f1-score   support\n",
      "\n",
      "         0.0       0.96      0.88      0.92     16544\n",
      "         1.0       0.45      0.75      0.56      2154\n",
      "\n",
      "    accuracy                           0.87     18698\n",
      "   macro avg       0.71      0.82      0.74     18698\n",
      "weighted avg       0.91      0.87      0.88     18698\n",
      "\n",
      "roc_auc_score : 0.9167132630982977\n",
      "--------------------------------------------------\n",
      "LGBMClassifier\n",
      "              precision    recall  f1-score   support\n",
      "\n",
      "         0.0       0.95      0.91      0.93     16544\n",
      "         1.0       0.49      0.63      0.55      2154\n",
      "\n",
      "    accuracy                           0.88     18698\n",
      "   macro avg       0.72      0.77      0.74     18698\n",
      "weighted avg       0.90      0.88      0.89     18698\n",
      "\n",
      "roc_auc_score : 0.9204869847649733\n",
      "--------------------------------------------------\n"
     ]
    }
   ],
   "source": []
  },
  {
   "cell_type": "code",
   "execution_count": 40,
   "id": "d3639a1a",
   "metadata": {},
   "outputs": [
    {
     "data": {
      "image/png": "[encoded data removed]",
      "text/plain": [
       "<Figure size 576x432 with 1 Axes>"
      ]
     },
     "metadata": {
      "needs_background": "light"
     },
     "output_type": "display_data"
    },
    {
     "name": "stdout",
     "output_type": "stream",
     "text": [
      "--------------------------------------------------\n"
     ]
    },
    {
     "data": {
      "image/png": "[encoded data removed]",
      "text/plain": [
       "<Figure size 576x432 with 1 Axes>"
      ]
     },
     "metadata": {
      "needs_background": "light"
     },
     "output_type": "display_data"
    },
    {
     "name": "stdout",
     "output_type": "stream",
     "text": [
      "--------------------------------------------------\n"
     ]
    },
    {
     "data": {
      "image/png": "[encoded data removed]",
      "text/plain": [
       "<Figure size 576x432 with 1 Axes>"
      ]
     },
     "metadata": {
      "needs_background": "light"
     },
     "output_type": "display_data"
    },
    {
     "name": "stdout",
     "output_type": "stream",
     "text": [
      "--------------------------------------------------\n"
     ]
    }
   ],
   "source": [
    "# from xgboost import XGBClassifier\n",
    "\n",
    "# # model = XGBClassifier(random_state=11)\n",
    "# # model.fit(X_train, y_train)\n",
    "\n",
    "# # 배열형태로 반환\n",
    "# ft_importance_values = lgbm.feature_importances_\n",
    "\n",
    "# # 정렬과 시각화를 쉽게 하기 위해 series 전환\n",
    "# ft_series = pd.Series(ft_importance_values, index = x_train.columns)\n",
    "# ft_top20 = ft_series.sort_values(ascending=False)[:20]\n",
    "\n",
    "# # 시각화\n",
    "# plt.figure(figsize=(8,6))\n",
    "# plt.title('Feature Importance Top 20')\n",
    "# sns.barplot(x=ft_top20, y=ft_top20.index)\n",
    "# plt.show()\n",
    "model =[rfc, dtc, lgbm]\n",
    "for i in model:\n",
    "    # 배열형태로 반환\n",
    "    ft_importance_values = i.feature_importances_\n",
    "\n",
    "# 정렬과 시각화를 쉽게 하기 위해 series 전환\n",
    "    ft_series = pd.Series(ft_importance_values, index = x_train.columns)\n",
    "    ft_top20 = ft_series.sort_values(ascending=False)[:20]\n",
    "\n",
    "# 시각화\n",
    "    plt.figure(figsize=(8,6))\n",
    "    plt.title('Feature Importance Top 20')\n",
    "    sns.barplot(x=ft_top20, y=ft_top20.index)\n",
    "    plt.show()\n",
    "    print('-'*50)"
   ]
  },
  {
   "cell_type": "code",
   "execution_count": 39,
   "id": "c9471e68",
   "metadata": {},
   "outputs": [],
   "source": [
    "from matplotlib import font_manager, rc\n",
    "font_path = \"C:/Windows/Fonts/NGULIM.TTF\"\n",
    "font = font_manager.FontProperties(fname=font_path).get_name()\n",
    "rc('font', family=font)"
   ]
  },
  {
   "cell_type": "code",
   "execution_count": null,
   "id": "71897f7b",
   "metadata": {},
   "outputs": [],
   "source": []
  },
  {
   "cell_type": "code",
   "execution_count": null,
   "id": "309f1edb",
   "metadata": {},
   "outputs": [],
   "source": []
  },
  {
   "cell_type": "code",
   "execution_count": null,
   "id": "0311c152",
   "metadata": {},
   "outputs": [],
   "source": []
  },
  {
   "cell_type": "code",
   "execution_count": null,
   "id": "b1d8d526",
   "metadata": {},
   "outputs": [],
   "source": []
  },
  {
   "cell_type": "code",
   "execution_count": null,
   "id": "5083ba07",
   "metadata": {},
   "outputs": [],
   "source": []
  },
  {
   "cell_type": "code",
   "execution_count": null,
   "id": "886f3717",
   "metadata": {},
   "outputs": [],
   "source": []
  },
  {
   "cell_type": "code",
   "execution_count": null,
   "id": "ff3c0af3",
   "metadata": {},
   "outputs": [],
   "source": []
  },
  {
   "cell_type": "code",
   "execution_count": null,
   "id": "dc022a85",
   "metadata": {},
   "outputs": [],
   "source": []
  },
  {
   "cell_type": "code",
   "execution_count": null,
   "id": "065d459e",
   "metadata": {},
   "outputs": [],
   "source": []
  },
  {
   "cell_type": "code",
   "execution_count": null,
   "id": "21490331",
   "metadata": {},
   "outputs": [],
   "source": []
  },
  {
   "cell_type": "code",
   "execution_count": null,
   "id": "1d479fb5",
   "metadata": {},
   "outputs": [],
   "source": []
  },
  {
   "cell_type": "code",
   "execution_count": null,
   "id": "8dda61af",
   "metadata": {},
   "outputs": [],
   "source": []
  },
  {
   "cell_type": "code",
   "execution_count": null,
   "id": "0485e7cf",
   "metadata": {},
   "outputs": [],
   "source": []
  },
  {
   "cell_type": "code",
   "execution_count": null,
   "id": "5d70552e",
   "metadata": {},
   "outputs": [],
   "source": []
  }
 ],
 "metadata": {
  "kernelspec": {
   "display_name": "Python 3 (ipykernel)",
   "language": "python",
   "name": "python3"
  },
  "language_info": {
   "codemirror_mode": {
    "name": "ipython",
    "version": 3
   },
   "file_extension": ".py",
   "mimetype": "text/x-python",
   "name": "python",
   "nbconvert_exporter": "python",
   "pygments_lexer": "ipython3",
   "version": "3.9.7"
  }
 },
 "nbformat": 4,
 "nbformat_minor": 5
}
