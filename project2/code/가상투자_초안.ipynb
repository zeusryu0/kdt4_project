{
 "cells": [
  {
   "cell_type": "code",
   "execution_count": 1,
   "id": "c0b18795",
   "metadata": {},
   "outputs": [],
   "source": [
    "import pandas as pd\n",
    "import numpy as np\n",
    "import os\n",
    "import FinanceDataReader as fdr\n",
    "import matplotlib as plt\n",
    "import warnings\n",
    "warnings.filterwarnings('ignore')"
   ]
  },
  {
   "cell_type": "code",
   "execution_count": 3,
   "id": "a01172c8",
   "metadata": {},
   "outputs": [
    {
     "name": "stdout",
     "output_type": "stream",
     "text": [
      "매입날짜0102\n",
      "매도날짜0329\n",
      "종목코드044340\n",
      "주식수 :  6 \n",
      "매입단가 :  14600 원\n",
      "매입가 :  87600 원\n",
      "매도단가 :  29300 원\n",
      "매도가 :  175800 원\n",
      "수익금액 :  88200 원\n",
      "수익률 :  100.68 % \n",
      "변동률 :  [-2.4, 3.86, 0.68, -2.35, 2.75, -0.33, 3.36, 1.62, -2.24, 4.25, -0.63, 0.95, -0.62, -0.63, 6.01, 0.9, 0.0, 0.0, -2.07, 3.93, -1.74, -0.3, -0.59, -0.3, -0.9, 0.91, -4.19, 1.25, -0.62, -1.24, -0.31, 1.26, -1.56, -0.63, 2.55, -1.86, -0.32, -3.17, 6.23, 0.93, 11.93, -3.28, 8.47, 6.51, 1.47, 4.34, -0.23, 11.34, 1.04, 12.76, 3.83, 10.02, 3.83, -6.46, 3.12, -4.94, 0.5, -2.17]\n"
     ]
    },
    {
     "data": {
      "text/plain": [
       "<AxesSubplot:>"
      ]
     },
     "execution_count": 3,
     "metadata": {},
     "output_type": "execute_result"
    },
    {
     "data": {
      "image/png": "[encoded data removed]",
      "text/plain": [
       "<Figure size 432x288 with 1 Axes>"
      ]
     },
     "metadata": {
      "needs_background": "light"
     },
     "output_type": "display_data"
    }
   ],
   "source": [
    "benefit_li=[]\n",
    "\n",
    "# 가상투자 수익률 함수\n",
    "def stock(money, stock_code, buy_date, sell_date):\n",
    "    \n",
    "    # 2019년도 kospi주가 가져오기\n",
    "    df_stock = fdr.DataReader(stock_code,'2019','2020')\n",
    "    df_stock.reset_index(inplace=True)\n",
    "    df_stock['Date'] = df_stock['Date'].astype(str)\n",
    "    df_stock['Date'] = df_stock['Date'].apply(lambda x:str(x).replace('-','')[4:8])\n",
    "    df_stock.set_index('Date', inplace=True)\n",
    "\n",
    "    # 매입\n",
    "    buy_closing_price = df_stock.loc[buy_date,'Close']\n",
    "    buy_num = int(money/buy_closing_price)\n",
    "    buy_price = buy_closing_price * buy_num\n",
    "\n",
    "    # 매도\n",
    "    sell_closing_price = df_stock.loc[sell_date,'Close']\n",
    "    sell_price = sell_closing_price * buy_num\n",
    "    margin = sell_price - buy_price\n",
    "\n",
    "    # 수익률\n",
    "    benefit = (sell_closing_price/buy_closing_price) * 100 - 100\n",
    "    \n",
    "    # 매매기간 일일 수익률\n",
    "    days = []\n",
    "    global benefit_li\n",
    "    benefit_li = []\n",
    "    \n",
    "    for i in df_stock.loc[buy_date:sell_date].index:\n",
    "        days.append(i)\n",
    "\n",
    "    for i,d in enumerate(days[1:]):\n",
    "        a = df_stock.loc[days[i], 'Close']\n",
    "        b = df_stock.loc[d,'Close']\n",
    "\n",
    "        benefit_day = (b/a) * 100 - 100\n",
    "        benefit_li.append(round(benefit_day,2))\n",
    "\n",
    "    benefit_li\n",
    "    \n",
    "    \n",
    "    return print('주식수 : ', buy_num, '\\n' '매입단가 : ', buy_closing_price, '원''\\n' '매입가 : ', buy_price, '원''\\n' \n",
    "                 '매도단가 : ', sell_closing_price, '원''\\n' '매도가 : ', sell_price, '원''\\n' \n",
    "                 '수익금액 : ', margin, '원''\\n' '수익률 : ', '{:.2f} %'.format(benefit), '\\n' '변동률 : ', benefit_li)\n",
    "\n",
    "\n",
    "# 매입날짜, 매도날짜, 종목코드를 입력받아 함수를 이용해서 수익률 출력\n",
    "buy_date = input('매입날짜')\n",
    "sell_date = input('매도날짜')\n",
    "\n",
    "money = 100000\n",
    "stock_code = input('종목코드')\n",
    "\n",
    "stock(money, stock_code, buy_date, sell_date)\n",
    "\n",
    "# 수익률 그래프화\n",
    "benefit_daily = pd.DataFrame()\n",
    "benefit_daily['수익률'] = benefit_li\n",
    "benefit_daily.plot()"
   ]
  },
  {
   "cell_type": "code",
   "execution_count": null,
   "id": "8ade9071",
   "metadata": {},
   "outputs": [],
   "source": []
  }
 ],
 "metadata": {
  "kernelspec": {
   "display_name": "Python 3 (ipykernel)",
   "language": "python",
   "name": "python3"
  },
  "language_info": {
   "codemirror_mode": {
    "name": "ipython",
    "version": 3
   },
   "file_extension": ".py",
   "mimetype": "text/x-python",
   "name": "python",
   "nbconvert_exporter": "python",
   "pygments_lexer": "ipython3",
   "version": "3.9.7"
  },
  "varInspector": {
   "cols": {
    "lenName": 16,
    "lenType": 16,
    "lenVar": 40
   },
   "kernels_config": {
    "python": {
     "delete_cmd_postfix": "",
     "delete_cmd_prefix": "del ",
     "library": "var_list.py",
     "varRefreshCmd": "print(var_dic_list())"
    },
    "r": {
     "delete_cmd_postfix": ") ",
     "delete_cmd_prefix": "rm(",
     "library": "var_list.r",
     "varRefreshCmd": "cat(var_dic_list()) "
    }
   },
   "types_to_exclude": [
    "module",
    "function",
    "builtin_function_or_method",
    "instance",
    "_Feature"
   ],
   "window_display": false
  }
 },
 "nbformat": 4,
 "nbformat_minor": 5
}
