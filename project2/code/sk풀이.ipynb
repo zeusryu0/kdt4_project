{
 "cells": [
  {
   "cell_type": "code",
   "execution_count": 12,
   "metadata": {},
   "outputs": [],
   "source": [
    "money = 4578\n",
    "coin = [1,5,10,50,100,500]\n",
    "costs = [1,4,99,35,50,1000]\n",
    "costs.reverse()\n",
    "coin.reverse()"
   ]
  },
  {
   "cell_type": "code",
   "execution_count": 13,
   "metadata": {},
   "outputs": [
    {
     "data": {
      "text/plain": [
       "[9, 0, 1, 2, 1, 3]"
      ]
     },
     "execution_count": 13,
     "metadata": {},
     "output_type": "execute_result"
    }
   ],
   "source": [
    "# minimum\n",
    "cnt = []\n",
    "for i in range(len(coin)):\n",
    "    cnt.append(money // coin[i])\n",
    "    money %= coin[i]\n",
    "cnt"
   ]
  },
  {
   "cell_type": "code",
   "execution_count": 17,
   "metadata": {},
   "outputs": [
    {
     "data": {
      "text/plain": [
       "2308"
      ]
     },
     "execution_count": 17,
     "metadata": {},
     "output_type": "execute_result"
    }
   ],
   "source": [
    "totcost = costs[-1]*cnt[-1]\n",
    "for i in range(len(coin)-1):\n",
    "    if cnt[i]*costs[i] < cnt[i]*(coin[i]//coin[i+1])*costs[i+1]:\n",
    "        totcost += cnt[i]*costs[i]\n",
    "    else:\n",
    "        totcost += cnt[i]*(coin[i]//coin[i+1])*costs[i+1]\n",
    "totcost"
   ]
  },
  {
   "cell_type": "code",
   "execution_count": 10,
   "metadata": {},
   "outputs": [
    {
     "data": {
      "text/plain": [
       "[1000, 50, 35, 99, 4, 1]"
      ]
     },
     "execution_count": 10,
     "metadata": {},
     "output_type": "execute_result"
    }
   ],
   "source": [
    "costs.reverse()\n",
    "costs"
   ]
  },
  {
   "cell_type": "code",
   "execution_count": null,
   "metadata": {},
   "outputs": [],
   "source": []
  },
  {
   "cell_type": "code",
   "execution_count": 43,
   "metadata": {},
   "outputs": [
    {
     "data": {
      "text/plain": [
       "[[2, 1], [4, 3, 0], [0], [1], [1]]"
      ]
     },
     "execution_count": 43,
     "metadata": {},
     "output_type": "execute_result"
    }
   ],
   "source": [
    "n=5\n",
    "# n=4\n",
    "edges = [[0,1],[0,2],[1,3],[1,4]]\n",
    "# edges = [[2,3],[0,1],[1,2]]\n",
    "graph = [[] for _ in range(n)] \n",
    "while edges:\n",
    "    n1,n2 = edges.pop()\n",
    "    graph[n1].append(n2)\n",
    "    graph[n2].append(n1)\n",
    "graph"
   ]
  },
  {
   "cell_type": "code",
   "execution_count": 44,
   "metadata": {
    "scrolled": false
   },
   "outputs": [
    {
     "name": "stdout",
     "output_type": "stream",
     "text": [
      "init [(0, -1, 0), (1, -1, 0), (2, -1, 0), (3, -1, 0), (4, -1, 0)]\n",
      "stack check 4 -1 0\n",
      "1\n",
      "stack append (1, 4, 1)\n",
      "flag,cnt 1 0\n",
      "stack end: [(0, -1, 0), (1, -1, 0), (2, -1, 0), (3, -1, 0), (1, 4, 1)] 0\n",
      "stack check 1 4 1\n",
      "4\n",
      "pass\n",
      "3\n",
      "stack append (3, 1, 2)\n",
      "0\n",
      "stack append (0, 1, 2)\n",
      "flag,cnt 1 1\n",
      "stack end: [(0, -1, 0), (1, -1, 0), (2, -1, 0), (3, -1, 0), (3, 1, 2), (0, 1, 2)] 0\n",
      "stack check 0 1 2\n",
      "2\n",
      "stack append (2, 0, 3)\n",
      "1\n",
      "pass\n",
      "flag,cnt 1 2\n",
      "stack end: [(0, -1, 0), (1, -1, 0), (2, -1, 0), (3, -1, 0), (3, 1, 2), (2, 0, 3)] 1\n",
      "stack check 2 0 3\n",
      "0\n",
      "pass\n",
      "flag,cnt 0 3\n",
      "stack end: [(0, -1, 0), (1, -1, 0), (2, -1, 0), (3, -1, 0), (3, 1, 2)] 3\n",
      "stack check 3 1 2\n",
      "1\n",
      "pass\n",
      "flag,cnt 0 2\n",
      "stack end: [(0, -1, 0), (1, -1, 0), (2, -1, 0), (3, -1, 0)] 4\n",
      "stack check 3 -1 0\n",
      "1\n",
      "stack append (1, 3, 1)\n",
      "flag,cnt 1 0\n",
      "stack end: [(0, -1, 0), (1, -1, 0), (2, -1, 0), (1, 3, 1)] 4\n",
      "stack check 1 3 1\n",
      "4\n",
      "stack append (4, 1, 2)\n",
      "3\n",
      "pass\n",
      "0\n",
      "stack append (0, 1, 2)\n",
      "flag,cnt 1 1\n",
      "stack end: [(0, -1, 0), (1, -1, 0), (2, -1, 0), (4, 1, 2), (0, 1, 2)] 4\n",
      "stack check 0 1 2\n",
      "2\n",
      "stack append (2, 0, 3)\n",
      "1\n",
      "pass\n",
      "flag,cnt 1 2\n",
      "stack end: [(0, -1, 0), (1, -1, 0), (2, -1, 0), (4, 1, 2), (2, 0, 3)] 5\n",
      "stack check 2 0 3\n",
      "0\n",
      "pass\n",
      "flag,cnt 0 3\n",
      "stack end: [(0, -1, 0), (1, -1, 0), (2, -1, 0), (4, 1, 2)] 7\n",
      "stack check 4 1 2\n",
      "1\n",
      "pass\n",
      "flag,cnt 0 2\n",
      "stack end: [(0, -1, 0), (1, -1, 0), (2, -1, 0)] 8\n",
      "stack check 2 -1 0\n",
      "0\n",
      "stack append (0, 2, 1)\n",
      "flag,cnt 1 0\n",
      "stack end: [(0, -1, 0), (1, -1, 0), (0, 2, 1)] 8\n",
      "stack check 0 2 1\n",
      "2\n",
      "pass\n",
      "1\n",
      "stack append (1, 0, 2)\n",
      "flag,cnt 1 1\n",
      "stack end: [(0, -1, 0), (1, -1, 0), (1, 0, 2)] 8\n",
      "stack check 1 0 2\n",
      "4\n",
      "stack append (4, 1, 3)\n",
      "3\n",
      "stack append (3, 1, 3)\n",
      "0\n",
      "pass\n",
      "flag,cnt 1 2\n",
      "stack end: [(0, -1, 0), (1, -1, 0), (4, 1, 3), (3, 1, 3)] 9\n",
      "stack check 3 1 3\n",
      "1\n",
      "pass\n",
      "flag,cnt 0 3\n",
      "stack end: [(0, -1, 0), (1, -1, 0), (4, 1, 3)] 11\n",
      "stack check 4 1 3\n",
      "1\n",
      "pass\n",
      "flag,cnt 0 3\n",
      "stack end: [(0, -1, 0), (1, -1, 0)] 13\n",
      "stack check 1 -1 0\n",
      "4\n",
      "stack append (4, 1, 1)\n",
      "3\n",
      "stack append (3, 1, 1)\n",
      "0\n",
      "stack append (0, 1, 1)\n",
      "flag,cnt 1 0\n",
      "stack end: [(0, -1, 0), (4, 1, 1), (3, 1, 1), (0, 1, 1)] 13\n",
      "stack check 0 1 1\n",
      "2\n",
      "stack append (2, 0, 2)\n",
      "1\n",
      "pass\n",
      "flag,cnt 1 1\n",
      "stack end: [(0, -1, 0), (4, 1, 1), (3, 1, 1), (2, 0, 2)] 13\n",
      "stack check 2 0 2\n",
      "0\n",
      "pass\n",
      "flag,cnt 0 2\n",
      "stack end: [(0, -1, 0), (4, 1, 1), (3, 1, 1)] 14\n",
      "stack check 3 1 1\n",
      "1\n",
      "pass\n",
      "flag,cnt 0 1\n",
      "stack end: [(0, -1, 0), (4, 1, 1)] 14\n",
      "stack check 4 1 1\n",
      "1\n",
      "pass\n",
      "flag,cnt 0 1\n",
      "stack end: [(0, -1, 0)] 14\n",
      "stack check 0 -1 0\n",
      "2\n",
      "stack append (2, 0, 1)\n",
      "1\n",
      "stack append (1, 0, 1)\n",
      "flag,cnt 1 0\n",
      "stack end: [(2, 0, 1), (1, 0, 1)] 14\n",
      "stack check 1 0 1\n",
      "4\n",
      "stack append (4, 1, 2)\n",
      "3\n",
      "stack append (3, 1, 2)\n",
      "0\n",
      "pass\n",
      "flag,cnt 1 1\n",
      "stack end: [(2, 0, 1), (4, 1, 2), (3, 1, 2)] 14\n",
      "stack check 3 1 2\n",
      "1\n",
      "pass\n",
      "flag,cnt 0 2\n",
      "stack end: [(2, 0, 1), (4, 1, 2)] 15\n",
      "stack check 4 1 2\n",
      "1\n",
      "pass\n",
      "flag,cnt 0 2\n",
      "stack end: [(2, 0, 1)] 16\n",
      "stack check 2 0 1\n",
      "0\n",
      "pass\n",
      "flag,cnt 0 1\n",
      "stack end: [] 16\n"
     ]
    },
    {
     "data": {
      "text/plain": [
       "16"
      ]
     },
     "execution_count": 44,
     "metadata": {},
     "output_type": "execute_result"
    }
   ],
   "source": [
    "stack = [(i,-1,0) for i in range(n)]\n",
    "result = 0\n",
    "print('init',stack)\n",
    "while stack:\n",
    "    flag = 0\n",
    "    node, pos, cnt = stack.pop()\n",
    "    print('stack check',node,pos,cnt)\n",
    "    for next_node in graph[node]:\n",
    "        print(next_node)\n",
    "        if next_node == pos:\n",
    "            print('pass')\n",
    "            continue\n",
    "        flag = 1\n",
    "        stack.append((next_node, node, cnt+1))\n",
    "        print('stack append',stack[-1])\n",
    "    print('flag,cnt',flag, cnt)\n",
    "    if cnt >= 2:\n",
    "        result += cnt-1\n",
    "    print('stack end:',stack, result)\n",
    "result\n",
    "    \n",
    "    \n",
    "\n",
    "\n"
   ]
  },
  {
   "cell_type": "code",
   "execution_count": 26,
   "metadata": {},
   "outputs": [
    {
     "data": {
      "text/plain": [
       "[[2, 1], [4, 3, 0], [0], [1], [1]]"
      ]
     },
     "execution_count": 26,
     "metadata": {},
     "output_type": "execute_result"
    }
   ],
   "source": []
  },
  {
   "cell_type": "code",
   "execution_count": 28,
   "metadata": {},
   "outputs": [
    {
     "data": {
      "text/plain": [
       "[[2, 1], [4, 3, 0], [0], [1], [1]]"
      ]
     },
     "execution_count": 28,
     "metadata": {},
     "output_type": "execute_result"
    }
   ],
   "source": [
    "graph"
   ]
  },
  {
   "cell_type": "code",
   "execution_count": 45,
   "metadata": {},
   "outputs": [
    {
     "data": {
      "text/plain": [
       "[[2, 1], [4, 3, 0], [0], [1], [1]]"
      ]
     },
     "execution_count": 45,
     "metadata": {},
     "output_type": "execute_result"
    }
   ],
   "source": [
    "graph"
   ]
  },
  {
   "cell_type": "code",
   "execution_count": null,
   "metadata": {},
   "outputs": [],
   "source": []
  },
  {
   "cell_type": "code",
   "execution_count": 46,
   "metadata": {},
   "outputs": [],
   "source": [
    "tmp = [i for i in range(16)]"
   ]
  },
  {
   "cell_type": "code",
   "execution_count": 51,
   "metadata": {},
   "outputs": [
    {
     "ename": "AttributeError",
     "evalue": "'numpy.ndarray' object has no attribute 'rot90'",
     "output_type": "error",
     "traceback": [
      "\u001b[1;31m---------------------------------------------------------------------------\u001b[0m",
      "\u001b[1;31mAttributeError\u001b[0m                            Traceback (most recent call last)",
      "Input \u001b[1;32mIn [51]\u001b[0m, in \u001b[0;36m<module>\u001b[1;34m\u001b[0m\n\u001b[1;32m----> 1\u001b[0m \u001b[43mnp\u001b[49m\u001b[38;5;241;43m.\u001b[39;49m\u001b[43marray\u001b[49m\u001b[43m(\u001b[49m\u001b[43mtmp\u001b[49m\u001b[43m)\u001b[49m\u001b[38;5;241;43m.\u001b[39;49m\u001b[43mreshape\u001b[49m\u001b[43m(\u001b[49m\u001b[38;5;241;43m4\u001b[39;49m\u001b[43m,\u001b[49m\u001b[38;5;241;43m4\u001b[39;49m\u001b[43m)\u001b[49m\u001b[38;5;241;43m.\u001b[39;49m\u001b[43mrot90\u001b[49m\n",
      "\u001b[1;31mAttributeError\u001b[0m: 'numpy.ndarray' object has no attribute 'rot90'"
     ]
    }
   ],
   "source": [
    "np.array(tmp).reshape(4,4).rot90"
   ]
  },
  {
   "cell_type": "code",
   "execution_count": 62,
   "metadata": {},
   "outputs": [
    {
     "data": {
      "text/plain": [
       "[[-1, -1, -1, -1, -1],\n",
       " [-1, -1, -1, -1, -1],\n",
       " [-1, -1, -1, -1, -1],\n",
       " [-1, -1, -1, -1, -1],\n",
       " [-1, -1, -1, -1, -1]]"
      ]
     },
     "execution_count": 62,
     "metadata": {},
     "output_type": "execute_result"
    }
   ],
   "source": [
    "n=5\n",
    "lst = [[-1 for _ in range(n)] for _ in range(n)]\n",
    "lst"
   ]
  },
  {
   "cell_type": "code",
   "execution_count": 87,
   "metadata": {},
   "outputs": [
    {
     "data": {
      "text/plain": [
       "[[1, 2, 3, 4, 5, 1],\n",
       " [5, 6, 7, 8, 6, 2],\n",
       " [4, 8, 9, 9, 7, 3],\n",
       " [3, 7, 9, 9, 8, 4],\n",
       " [2, 6, 8, 7, 6, 5],\n",
       " [1, 5, 4, 3, 2, 1]]"
      ]
     },
     "execution_count": 87,
     "metadata": {},
     "output_type": "execute_result"
    }
   ],
   "source": [
    "n=6\n",
    "lst = [[-1 for _ in range(n)] for _ in range(n)]\n",
    "offset = 0\n",
    "for lev in range(n//2):\n",
    "    for _ in range(4):\n",
    "        for v in range(lev,n-1-lev):\n",
    "            lst[lev][v] = offset+v+1\n",
    "        lst = [list(l[::-1]) for l in zip(*lst)]\n",
    "    offset = offset+v-lev\n",
    "if n%2 == 1:\n",
    "    lst[n//2][n//2] = offset+v+1\n",
    "lst"
   ]
  },
  {
   "cell_type": "code",
   "execution_count": 91,
   "metadata": {},
   "outputs": [
    {
     "data": {
      "text/plain": [
       "[[1, 5, 4, 3, 2, 1],\n",
       " [2, 6, 8, 7, 6, 5],\n",
       " [3, 7, 9, 9, 8, 4],\n",
       " [4, 8, 9, 9, 7, 3],\n",
       " [5, 6, 7, 8, 6, 2],\n",
       " [1, 2, 3, 4, 5, 1]]"
      ]
     },
     "execution_count": 91,
     "metadata": {},
     "output_type": "execute_result"
    }
   ],
   "source": [
    "np.array(lst).transpose().tolist()"
   ]
  },
  {
   "cell_type": "code",
   "execution_count": 144,
   "metadata": {},
   "outputs": [
    {
     "data": {
      "text/plain": [
       "3225685.0"
      ]
     },
     "execution_count": 144,
     "metadata": {},
     "output_type": "execute_result"
    }
   ],
   "source": [
    "from math import factorial as f\n",
    "width = 51\n",
    "height = 37\n",
    "diagonals = [[17,19]]\n",
    "answer = 0\n",
    "while diagonals:\n",
    "    w ,h = diagonals.pop()\n",
    "    # posw-1, posh\n",
    "    case1 = ( ((f(w-1+h)/(f(w-1)*f(h)))% 10_000_019) \n",
    "            * ((f(width-w+height-(h-1))/(f(width-w)*f(height-(h-1))))% 10_000_019)\n",
    "            )\n",
    "    # posw, posh\n",
    "    case2 = (((f(w+h-1)/(f(w)*f(h-1)))% 10_000_019)\n",
    "            * ((f(width-(w-1)+height-h)/(f(width-(w-1))*f(height-h)))% 10_000_019)\n",
    "            )\n",
    "    answer += case1+case2\n",
    "answer  % 10_000_019\n",
    "    \n"
   ]
  },
  {
   "cell_type": "code",
   "execution_count": 132,
   "metadata": {},
   "outputs": [
    {
     "data": {
      "text/plain": [
       "1"
      ]
     },
     "execution_count": 132,
     "metadata": {},
     "output_type": "execute_result"
    }
   ],
   "source": [
    "from math import factorial\n",
    "factorial(1)"
   ]
  },
  {
   "cell_type": "code",
   "execution_count": 133,
   "metadata": {},
   "outputs": [
    {
     "data": {
      "text/plain": [
       "8.688030806081966e+24"
      ]
     },
     "execution_count": 133,
     "metadata": {},
     "output_type": "execute_result"
    }
   ],
   "source": [
    "factorial(width+height)/(factorial(width)*factorial(height))"
   ]
  },
  {
   "cell_type": "code",
   "execution_count": 118,
   "metadata": {},
   "outputs": [
    {
     "data": {
      "text/plain": [
       "8273209"
      ]
     },
     "execution_count": 118,
     "metadata": {},
     "output_type": "execute_result"
    }
   ],
   "source": [
    "f(250)%10_000_019"
   ]
  },
  {
   "cell_type": "code",
   "execution_count": null,
   "metadata": {},
   "outputs": [],
   "source": []
  }
 ],
 "metadata": {
  "kernelspec": {
   "display_name": "kdt4",
   "language": "python",
   "name": "kdt4"
  },
  "language_info": {
   "codemirror_mode": {
    "name": "ipython",
    "version": 3
   },
   "file_extension": ".py",
   "mimetype": "text/x-python",
   "name": "python",
   "nbconvert_exporter": "python",
   "pygments_lexer": "ipython3",
   "version": "3.10.2"
  },
  "toc": {
   "base_numbering": 1,
   "nav_menu": {},
   "number_sections": true,
   "sideBar": true,
   "skip_h1_title": false,
   "title_cell": "Table of Contents",
   "title_sidebar": "Contents",
   "toc_cell": false,
   "toc_position": {},
   "toc_section_display": true,
   "toc_window_display": false
  },
  "varInspector": {
   "cols": {
    "lenName": 16,
    "lenType": 16,
    "lenVar": 40
   },
   "kernels_config": {
    "python": {
     "delete_cmd_postfix": "",
     "delete_cmd_prefix": "del ",
     "library": "var_list.py",
     "varRefreshCmd": "print(var_dic_list())"
    },
    "r": {
     "delete_cmd_postfix": ") ",
     "delete_cmd_prefix": "rm(",
     "library": "var_list.r",
     "varRefreshCmd": "cat(var_dic_list()) "
    }
   },
   "position": {
    "height": "144.85px",
    "left": "1737.8px",
    "right": "20px",
    "top": "123px",
    "width": "350px"
   },
   "types_to_exclude": [
    "module",
    "function",
    "builtin_function_or_method",
    "instance",
    "_Feature"
   ],
   "window_display": true
  }
 },
 "nbformat": 4,
 "nbformat_minor": 4
}
