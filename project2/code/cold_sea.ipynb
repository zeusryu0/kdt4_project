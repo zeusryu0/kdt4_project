{
 "cells": [
  {
   "cell_type": "code",
   "execution_count": 1,
   "id": "1c3749f0",
   "metadata": {},
   "outputs": [],
   "source": [
    "import pandas as pd \n",
    "import numpy as np\n",
    "import seaborn as sns \n",
    "import matplotlib.pyplot as plt\n",
    "import os\n",
    "from functools import reduce\n",
    "import warnings \n",
    "warnings.filterwarnings('ignore')"
   ]
  },
  {
   "cell_type": "code",
   "execution_count": 2,
   "id": "60c698a3",
   "metadata": {},
   "outputs": [],
   "source": [
    "# 분류모델 import \n",
    "# Logistic Regression,SGD,KNN,SVM,Decision Tree, Random Forest, LGBMClassifier\n",
    "from sklearn.linear_model import LogisticRegression\n",
    "from sklearn.neighbors import KNeighborsClassifier\n",
    "from sklearn.svm import SVC\n",
    "from sklearn.tree import DecisionTreeClassifier\n",
    "from sklearn.ensemble import RandomForestClassifier\n",
    "from lightgbm import LGBMClassifier\n",
    "from sklearn.metrics import classification_report,roc_auc_score,f1_score\n",
    "\n",
    "lr = LogisticRegression()\n",
    "knn = KNeighborsClassifier()\n",
    "svm = SVC()\n",
    "dtc = DecisionTreeClassifier()\n",
    "rfc = RandomForestClassifier()\n",
    "lgbm = LGBMClassifier()"
   ]
  },
  {
   "cell_type": "code",
   "execution_count": 21,
   "id": "d45b2f39",
   "metadata": {},
   "outputs": [],
   "source": [
    "df_coldwave = pd.read_csv('./preprocessed/df_coldwave.csv',encoding='cp949',index_col=0)\n",
    "df_sea = pd.read_csv('./preprocessed/국내_바다.csv',index_col=0)"
   ]
  },
  {
   "cell_type": "code",
   "execution_count": 22,
   "id": "1e2b5434",
   "metadata": {},
   "outputs": [],
   "source": [
    "df_coldwave.drop(['연도','날짜','지점'],axis=1,inplace=True)"
   ]
  },
  {
   "cell_type": "code",
   "execution_count": 23,
   "id": "a171f4e2",
   "metadata": {},
   "outputs": [],
   "source": [
    "# 중복된 날짜 제거 \n",
    "df_coldwave = df_coldwave.drop_duplicates()"
   ]
  },
  {
   "cell_type": "code",
   "execution_count": 24,
   "id": "45f56479",
   "metadata": {},
   "outputs": [],
   "source": [
    "df_sea.rename(columns={'시간':'일시'},inplace=True)"
   ]
  },
  {
   "cell_type": "code",
   "execution_count": 25,
   "id": "6de514ff",
   "metadata": {},
   "outputs": [],
   "source": [
    "# 주변국과 바다기후를  merge\n",
    "cold_sea = pd.merge(df_coldwave,df_sea, how='right',on='일시')"
   ]
  },
  {
   "cell_type": "code",
   "execution_count": 26,
   "id": "d44ed331",
   "metadata": {},
   "outputs": [],
   "source": [
    "# 재난일어난날 컬럼을 바이너리로 만들기 \n",
    "cold_sea['재난일어난날'] = cold_sea['재난일어난날'].fillna(0)"
   ]
  },
  {
   "cell_type": "code",
   "execution_count": 27,
   "id": "54b725cb",
   "metadata": {},
   "outputs": [],
   "source": [
    "cold_sea['재난일어난날'] =cold_sea['재난일어난날'].apply(lambda x: x if str(x) == '0' else '1')"
   ]
  },
  {
   "cell_type": "code",
   "execution_count": 29,
   "id": "30154450",
   "metadata": {},
   "outputs": [],
   "source": [
    "# 전부 뉴메릭으로 만들기 \n",
    "cold_sea['재난일어난날']=cold_sea['재난일어난날'].astype(int)"
   ]
  },
  {
   "cell_type": "code",
   "execution_count": 33,
   "id": "37f541f0",
   "metadata": {},
   "outputs": [],
   "source": [
    "cold_sea.drop('일시',axis=1,inplace=True)"
   ]
  },
  {
   "cell_type": "code",
   "execution_count": 39,
   "id": "ce80e5c5",
   "metadata": {
    "collapsed": true
   },
   "outputs": [
    {
     "name": "stdout",
     "output_type": "stream",
     "text": [
      "<class 'pandas.core.frame.DataFrame'>\n",
      "Int64Index: 38494 entries, 14 to 38507\n",
      "Data columns (total 35 columns):\n",
      " #   Column       Non-Null Count  Dtype  \n",
      "---  ------       --------------  -----  \n",
      " 0   재난일어난날       38494 non-null  float64\n",
      " 1   평균 기온        38494 non-null  float64\n",
      " 2   최저 기온        38494 non-null  float64\n",
      " 3   최고 기온        38494 non-null  float64\n",
      " 4   1시간 최다강수량    38494 non-null  float64\n",
      " 5   일강수량         38494 non-null  float64\n",
      " 6   최대 순간풍속      38494 non-null  float64\n",
      " 7   최대 순간 풍속 풍향  38494 non-null  float64\n",
      " 8   최대 풍속        38494 non-null  float64\n",
      " 9   최대 풍속 풍향     38494 non-null  float64\n",
      " 10  평균 풍속        38494 non-null  float64\n",
      " 11  풍정합          38494 non-null  float64\n",
      " 12  최대 풍향        38494 non-null  float64\n",
      " 13  평균 이슬점온도     38494 non-null  float64\n",
      " 14  평균 상대습도      38494 non-null  float64\n",
      " 15  평균 증기압       38494 non-null  float64\n",
      " 16  평균 현지기압      38494 non-null  float64\n",
      " 17  최고 해면 기압     38494 non-null  float64\n",
      " 18  최저 해면기압      38494 non-null  float64\n",
      " 19  평균 해면기압      38494 non-null  float64\n",
      " 20  합계 일조 시간     38494 non-null  float64\n",
      " 21  1시간 최다 일사량   38494 non-null  float64\n",
      " 22  합계 일사        38494 non-null  float64\n",
      " 23  일 최심신적설      38494 non-null  float64\n",
      " 24  일 최심적설       38494 non-null  float64\n",
      " 25  합계 3시간 신적설   38494 non-null  float64\n",
      " 26  평균 전운량       38494 non-null  float64\n",
      " 27  평균 중하층운량     38494 non-null  float64\n",
      " 28  평균 지면온도      38494 non-null  float64\n",
      " 29  합계 대형증발량     38494 non-null  float64\n",
      " 30  합계 소형증발량     38494 non-null  float64\n",
      " 31  안개 계속 시간     38494 non-null  float64\n",
      " 32  관측지점_백령도     38494 non-null  uint8  \n",
      " 33  관측지점_울릉도     38494 non-null  uint8  \n",
      " 34  관측지점_제주      38494 non-null  uint8  \n",
      "dtypes: float64(32), uint8(3)\n",
      "memory usage: 9.8 MB\n"
     ]
    }
   ],
   "source": [
    "cold_sea.info()"
   ]
  },
  {
   "cell_type": "code",
   "execution_count": 35,
   "id": "f0acbee3",
   "metadata": {},
   "outputs": [],
   "source": [
    "# 위치를 원핫인코딩하기\n",
    "cold_sea = pd.get_dummies(cold_sea)"
   ]
  },
  {
   "cell_type": "code",
   "execution_count": 36,
   "id": "25dfc36f",
   "metadata": {},
   "outputs": [],
   "source": [
    "# 재난일어난날 2주뒤로 미뤄서 예측값 찾기 \n",
    "cold_sea['재난일어난날'] = cold_sea['재난일어난날'].shift(periods=14, axis=0)"
   ]
  },
  {
   "cell_type": "code",
   "execution_count": 37,
   "id": "b5c9ee62",
   "metadata": {},
   "outputs": [],
   "source": [
    "# 뒤로미룬만큼 생긴 nan값 제거 \n",
    "cold_sea.dropna(inplace=True)"
   ]
  },
  {
   "cell_type": "code",
   "execution_count": 40,
   "id": "6873bd65",
   "metadata": {
    "collapsed": true
   },
   "outputs": [
    {
     "data": {
      "text/html": [
       "<div>\n",
       "<style scoped>\n",
       "    .dataframe tbody tr th:only-of-type {\n",
       "        vertical-align: middle;\n",
       "    }\n",
       "\n",
       "    .dataframe tbody tr th {\n",
       "        vertical-align: top;\n",
       "    }\n",
       "\n",
       "    .dataframe thead th {\n",
       "        text-align: right;\n",
       "    }\n",
       "</style>\n",
       "<table border=\"1\" class=\"dataframe\">\n",
       "  <thead>\n",
       "    <tr style=\"text-align: right;\">\n",
       "      <th></th>\n",
       "      <th>재난일어난날</th>\n",
       "      <th>평균 기온</th>\n",
       "      <th>최저 기온</th>\n",
       "      <th>최고 기온</th>\n",
       "      <th>1시간 최다강수량</th>\n",
       "      <th>일강수량</th>\n",
       "      <th>최대 순간풍속</th>\n",
       "      <th>최대 순간 풍속 풍향</th>\n",
       "      <th>최대 풍속</th>\n",
       "      <th>최대 풍속 풍향</th>\n",
       "      <th>...</th>\n",
       "      <th>합계 3시간 신적설</th>\n",
       "      <th>평균 전운량</th>\n",
       "      <th>평균 중하층운량</th>\n",
       "      <th>평균 지면온도</th>\n",
       "      <th>합계 대형증발량</th>\n",
       "      <th>합계 소형증발량</th>\n",
       "      <th>안개 계속 시간</th>\n",
       "      <th>관측지점_백령도</th>\n",
       "      <th>관측지점_울릉도</th>\n",
       "      <th>관측지점_제주</th>\n",
       "    </tr>\n",
       "  </thead>\n",
       "  <tbody>\n",
       "    <tr>\n",
       "      <th>14</th>\n",
       "      <td>0.0</td>\n",
       "      <td>5.7</td>\n",
       "      <td>4.3</td>\n",
       "      <td>6.5</td>\n",
       "      <td>0.0</td>\n",
       "      <td>0.0</td>\n",
       "      <td>22.4</td>\n",
       "      <td>320.0</td>\n",
       "      <td>15.0</td>\n",
       "      <td>320.0</td>\n",
       "      <td>...</td>\n",
       "      <td>0.0</td>\n",
       "      <td>8.5</td>\n",
       "      <td>-999.0</td>\n",
       "      <td>3.4</td>\n",
       "      <td>2.614596</td>\n",
       "      <td>4.0</td>\n",
       "      <td>0.0</td>\n",
       "      <td>0</td>\n",
       "      <td>0</td>\n",
       "      <td>1</td>\n",
       "    </tr>\n",
       "    <tr>\n",
       "      <th>15</th>\n",
       "      <td>0.0</td>\n",
       "      <td>6.4</td>\n",
       "      <td>4.2</td>\n",
       "      <td>8.9</td>\n",
       "      <td>0.0</td>\n",
       "      <td>0.0</td>\n",
       "      <td>15.5</td>\n",
       "      <td>320.0</td>\n",
       "      <td>11.0</td>\n",
       "      <td>320.0</td>\n",
       "      <td>...</td>\n",
       "      <td>0.0</td>\n",
       "      <td>2.5</td>\n",
       "      <td>-999.0</td>\n",
       "      <td>4.9</td>\n",
       "      <td>2.614596</td>\n",
       "      <td>3.1</td>\n",
       "      <td>0.0</td>\n",
       "      <td>0</td>\n",
       "      <td>0</td>\n",
       "      <td>1</td>\n",
       "    </tr>\n",
       "    <tr>\n",
       "      <th>16</th>\n",
       "      <td>0.0</td>\n",
       "      <td>3.6</td>\n",
       "      <td>-0.4</td>\n",
       "      <td>9.6</td>\n",
       "      <td>0.0</td>\n",
       "      <td>0.0</td>\n",
       "      <td>19.0</td>\n",
       "      <td>340.0</td>\n",
       "      <td>13.0</td>\n",
       "      <td>360.0</td>\n",
       "      <td>...</td>\n",
       "      <td>0.0</td>\n",
       "      <td>9.3</td>\n",
       "      <td>-999.0</td>\n",
       "      <td>2.4</td>\n",
       "      <td>2.614596</td>\n",
       "      <td>1.4</td>\n",
       "      <td>0.0</td>\n",
       "      <td>0</td>\n",
       "      <td>0</td>\n",
       "      <td>1</td>\n",
       "    </tr>\n",
       "    <tr>\n",
       "      <th>17</th>\n",
       "      <td>0.0</td>\n",
       "      <td>1.4</td>\n",
       "      <td>0.2</td>\n",
       "      <td>2.7</td>\n",
       "      <td>0.0</td>\n",
       "      <td>0.0</td>\n",
       "      <td>14.0</td>\n",
       "      <td>360.0</td>\n",
       "      <td>9.0</td>\n",
       "      <td>360.0</td>\n",
       "      <td>...</td>\n",
       "      <td>0.0</td>\n",
       "      <td>10.0</td>\n",
       "      <td>-999.0</td>\n",
       "      <td>0.9</td>\n",
       "      <td>2.614596</td>\n",
       "      <td>0.7</td>\n",
       "      <td>0.0</td>\n",
       "      <td>0</td>\n",
       "      <td>0</td>\n",
       "      <td>1</td>\n",
       "    </tr>\n",
       "    <tr>\n",
       "      <th>18</th>\n",
       "      <td>1.0</td>\n",
       "      <td>4.4</td>\n",
       "      <td>2.2</td>\n",
       "      <td>6.5</td>\n",
       "      <td>0.0</td>\n",
       "      <td>1.2</td>\n",
       "      <td>10.6</td>\n",
       "      <td>340.0</td>\n",
       "      <td>7.5</td>\n",
       "      <td>340.0</td>\n",
       "      <td>...</td>\n",
       "      <td>0.0</td>\n",
       "      <td>9.3</td>\n",
       "      <td>-999.0</td>\n",
       "      <td>3.6</td>\n",
       "      <td>2.614596</td>\n",
       "      <td>1.1</td>\n",
       "      <td>0.0</td>\n",
       "      <td>0</td>\n",
       "      <td>0</td>\n",
       "      <td>1</td>\n",
       "    </tr>\n",
       "    <tr>\n",
       "      <th>...</th>\n",
       "      <td>...</td>\n",
       "      <td>...</td>\n",
       "      <td>...</td>\n",
       "      <td>...</td>\n",
       "      <td>...</td>\n",
       "      <td>...</td>\n",
       "      <td>...</td>\n",
       "      <td>...</td>\n",
       "      <td>...</td>\n",
       "      <td>...</td>\n",
       "      <td>...</td>\n",
       "      <td>...</td>\n",
       "      <td>...</td>\n",
       "      <td>...</td>\n",
       "      <td>...</td>\n",
       "      <td>...</td>\n",
       "      <td>...</td>\n",
       "      <td>...</td>\n",
       "      <td>...</td>\n",
       "      <td>...</td>\n",
       "      <td>...</td>\n",
       "    </tr>\n",
       "    <tr>\n",
       "      <th>38503</th>\n",
       "      <td>0.0</td>\n",
       "      <td>2.0</td>\n",
       "      <td>-1.4</td>\n",
       "      <td>5.8</td>\n",
       "      <td>0.0</td>\n",
       "      <td>0.0</td>\n",
       "      <td>9.5</td>\n",
       "      <td>140.0</td>\n",
       "      <td>7.2</td>\n",
       "      <td>140.0</td>\n",
       "      <td>...</td>\n",
       "      <td>0.0</td>\n",
       "      <td>5.3</td>\n",
       "      <td>4.5</td>\n",
       "      <td>-2.1</td>\n",
       "      <td>1.100000</td>\n",
       "      <td>1.5</td>\n",
       "      <td>0.0</td>\n",
       "      <td>1</td>\n",
       "      <td>0</td>\n",
       "      <td>0</td>\n",
       "    </tr>\n",
       "    <tr>\n",
       "      <th>38504</th>\n",
       "      <td>0.0</td>\n",
       "      <td>2.7</td>\n",
       "      <td>-1.7</td>\n",
       "      <td>6.5</td>\n",
       "      <td>0.0</td>\n",
       "      <td>0.0</td>\n",
       "      <td>19.8</td>\n",
       "      <td>340.0</td>\n",
       "      <td>13.3</td>\n",
       "      <td>340.0</td>\n",
       "      <td>...</td>\n",
       "      <td>0.0</td>\n",
       "      <td>5.3</td>\n",
       "      <td>5.3</td>\n",
       "      <td>1.3</td>\n",
       "      <td>2.000000</td>\n",
       "      <td>2.8</td>\n",
       "      <td>0.0</td>\n",
       "      <td>1</td>\n",
       "      <td>0</td>\n",
       "      <td>0</td>\n",
       "    </tr>\n",
       "    <tr>\n",
       "      <th>38505</th>\n",
       "      <td>0.0</td>\n",
       "      <td>-0.8</td>\n",
       "      <td>-2.2</td>\n",
       "      <td>1.4</td>\n",
       "      <td>0.0</td>\n",
       "      <td>0.3</td>\n",
       "      <td>21.1</td>\n",
       "      <td>340.0</td>\n",
       "      <td>14.2</td>\n",
       "      <td>340.0</td>\n",
       "      <td>...</td>\n",
       "      <td>0.0</td>\n",
       "      <td>6.1</td>\n",
       "      <td>6.1</td>\n",
       "      <td>-1.2</td>\n",
       "      <td>1.800000</td>\n",
       "      <td>2.5</td>\n",
       "      <td>0.0</td>\n",
       "      <td>1</td>\n",
       "      <td>0</td>\n",
       "      <td>0</td>\n",
       "    </tr>\n",
       "    <tr>\n",
       "      <th>38506</th>\n",
       "      <td>0.0</td>\n",
       "      <td>-3.1</td>\n",
       "      <td>-3.9</td>\n",
       "      <td>-1.5</td>\n",
       "      <td>0.0</td>\n",
       "      <td>0.0</td>\n",
       "      <td>20.6</td>\n",
       "      <td>340.0</td>\n",
       "      <td>13.4</td>\n",
       "      <td>340.0</td>\n",
       "      <td>...</td>\n",
       "      <td>0.0</td>\n",
       "      <td>4.8</td>\n",
       "      <td>4.8</td>\n",
       "      <td>-2.7</td>\n",
       "      <td>1.100000</td>\n",
       "      <td>1.6</td>\n",
       "      <td>0.0</td>\n",
       "      <td>1</td>\n",
       "      <td>0</td>\n",
       "      <td>0</td>\n",
       "    </tr>\n",
       "    <tr>\n",
       "      <th>38507</th>\n",
       "      <td>1.0</td>\n",
       "      <td>2.1</td>\n",
       "      <td>-4.2</td>\n",
       "      <td>6.7</td>\n",
       "      <td>0.0</td>\n",
       "      <td>0.7</td>\n",
       "      <td>11.5</td>\n",
       "      <td>270.0</td>\n",
       "      <td>7.6</td>\n",
       "      <td>250.0</td>\n",
       "      <td>...</td>\n",
       "      <td>0.0</td>\n",
       "      <td>8.4</td>\n",
       "      <td>6.8</td>\n",
       "      <td>-0.6</td>\n",
       "      <td>1.200000</td>\n",
       "      <td>1.7</td>\n",
       "      <td>0.0</td>\n",
       "      <td>1</td>\n",
       "      <td>0</td>\n",
       "      <td>0</td>\n",
       "    </tr>\n",
       "  </tbody>\n",
       "</table>\n",
       "<p>38494 rows × 35 columns</p>\n",
       "</div>"
      ],
      "text/plain": [
       "       재난일어난날  평균 기온  최저 기온  최고 기온  1시간 최다강수량  일강수량  최대 순간풍속  최대 순간 풍속 풍향  \\\n",
       "14        0.0    5.7    4.3    6.5        0.0   0.0     22.4        320.0   \n",
       "15        0.0    6.4    4.2    8.9        0.0   0.0     15.5        320.0   \n",
       "16        0.0    3.6   -0.4    9.6        0.0   0.0     19.0        340.0   \n",
       "17        0.0    1.4    0.2    2.7        0.0   0.0     14.0        360.0   \n",
       "18        1.0    4.4    2.2    6.5        0.0   1.2     10.6        340.0   \n",
       "...       ...    ...    ...    ...        ...   ...      ...          ...   \n",
       "38503     0.0    2.0   -1.4    5.8        0.0   0.0      9.5        140.0   \n",
       "38504     0.0    2.7   -1.7    6.5        0.0   0.0     19.8        340.0   \n",
       "38505     0.0   -0.8   -2.2    1.4        0.0   0.3     21.1        340.0   \n",
       "38506     0.0   -3.1   -3.9   -1.5        0.0   0.0     20.6        340.0   \n",
       "38507     1.0    2.1   -4.2    6.7        0.0   0.7     11.5        270.0   \n",
       "\n",
       "       최대 풍속  최대 풍속 풍향  ...  합계 3시간 신적설  평균 전운량  평균 중하층운량  평균 지면온도  합계 대형증발량  \\\n",
       "14      15.0     320.0  ...         0.0     8.5    -999.0      3.4  2.614596   \n",
       "15      11.0     320.0  ...         0.0     2.5    -999.0      4.9  2.614596   \n",
       "16      13.0     360.0  ...         0.0     9.3    -999.0      2.4  2.614596   \n",
       "17       9.0     360.0  ...         0.0    10.0    -999.0      0.9  2.614596   \n",
       "18       7.5     340.0  ...         0.0     9.3    -999.0      3.6  2.614596   \n",
       "...      ...       ...  ...         ...     ...       ...      ...       ...   \n",
       "38503    7.2     140.0  ...         0.0     5.3       4.5     -2.1  1.100000   \n",
       "38504   13.3     340.0  ...         0.0     5.3       5.3      1.3  2.000000   \n",
       "38505   14.2     340.0  ...         0.0     6.1       6.1     -1.2  1.800000   \n",
       "38506   13.4     340.0  ...         0.0     4.8       4.8     -2.7  1.100000   \n",
       "38507    7.6     250.0  ...         0.0     8.4       6.8     -0.6  1.200000   \n",
       "\n",
       "       합계 소형증발량  안개 계속 시간  관측지점_백령도  관측지점_울릉도  관측지점_제주  \n",
       "14          4.0       0.0         0         0        1  \n",
       "15          3.1       0.0         0         0        1  \n",
       "16          1.4       0.0         0         0        1  \n",
       "17          0.7       0.0         0         0        1  \n",
       "18          1.1       0.0         0         0        1  \n",
       "...         ...       ...       ...       ...      ...  \n",
       "38503       1.5       0.0         1         0        0  \n",
       "38504       2.8       0.0         1         0        0  \n",
       "38505       2.5       0.0         1         0        0  \n",
       "38506       1.6       0.0         1         0        0  \n",
       "38507       1.7       0.0         1         0        0  \n",
       "\n",
       "[38494 rows x 35 columns]"
      ]
     },
     "execution_count": 40,
     "metadata": {},
     "output_type": "execute_result"
    }
   ],
   "source": [
    "cold_sea"
   ]
  },
  {
   "cell_type": "code",
   "execution_count": null,
   "id": "58f82428",
   "metadata": {},
   "outputs": [],
   "source": [
    "# 한파주변국 데이터 전처리 끝 모델돌리기 "
   ]
  },
  {
   "cell_type": "code",
   "execution_count": 42,
   "id": "e4f6e244",
   "metadata": {},
   "outputs": [],
   "source": [
    "y = cold_sea.재난일어난날\n",
    "x = cold_sea.drop('재난일어난날',axis=1)"
   ]
  },
  {
   "cell_type": "code",
   "execution_count": 43,
   "id": "5dd5a1c4",
   "metadata": {},
   "outputs": [],
   "source": [
    "from sklearn.model_selection import train_test_split\n",
    "x_train,x_test,y_train,y_test = train_test_split(x,y,test_size=0.2,random_state=0)"
   ]
  },
  {
   "cell_type": "code",
   "execution_count": 44,
   "id": "065294eb",
   "metadata": {},
   "outputs": [
    {
     "name": "stdout",
     "output_type": "stream",
     "text": [
      "LogisticRegression\n",
      "              precision    recall  f1-score   support\n",
      "\n",
      "         0.0       0.90      0.97      0.93      6740\n",
      "         1.0       0.55      0.27      0.36       959\n",
      "\n",
      "    accuracy                           0.88      7699\n",
      "   macro avg       0.73      0.62      0.65      7699\n",
      "weighted avg       0.86      0.88      0.86      7699\n",
      "\n",
      "roc_auc_score : 0.905595591352268\n",
      "--------------------------------------------------\n",
      "DecisionTreeClassifier\n",
      "              precision    recall  f1-score   support\n",
      "\n",
      "         0.0       0.92      0.92      0.92      6740\n",
      "         1.0       0.44      0.43      0.43       959\n",
      "\n",
      "    accuracy                           0.86      7699\n",
      "   macro avg       0.68      0.67      0.68      7699\n",
      "weighted avg       0.86      0.86      0.86      7699\n",
      "\n",
      "roc_auc_score : 0.6745931097860964\n",
      "--------------------------------------------------\n",
      "RandomForestClassifier\n",
      "              precision    recall  f1-score   support\n",
      "\n",
      "         0.0       0.91      0.97      0.94      6740\n",
      "         1.0       0.62      0.33      0.43       959\n",
      "\n",
      "    accuracy                           0.89      7699\n",
      "   macro avg       0.76      0.65      0.69      7699\n",
      "weighted avg       0.87      0.89      0.88      7699\n",
      "\n",
      "roc_auc_score : 0.9233869819885329\n",
      "--------------------------------------------------\n",
      "LGBMClassifier\n",
      "              precision    recall  f1-score   support\n",
      "\n",
      "         0.0       0.91      0.96      0.94      6740\n",
      "         1.0       0.56      0.36      0.43       959\n",
      "\n",
      "    accuracy                           0.88      7699\n",
      "   macro avg       0.73      0.66      0.69      7699\n",
      "weighted avg       0.87      0.88      0.87      7699\n",
      "\n",
      "roc_auc_score : 0.9199934711912445\n",
      "--------------------------------------------------\n"
     ]
    }
   ],
   "source": [
    "models = [lr,dtc,rfc,lgbm]\n",
    "# result = []\n",
    "for i in models:\n",
    "    i.fit(x_train,y_train)\n",
    "    pred = i.predict(x_test)\n",
    "    proba = i.predict_proba(x_test)[:,1]\n",
    "    \n",
    "    print(i.__class__.__name__)\n",
    "    print(classification_report(y_test,pred))\n",
    "    print('roc_auc_score :',roc_auc_score(y_test,proba))\n",
    "    print('-'*50)"
   ]
  },
  {
   "cell_type": "code",
   "execution_count": 45,
   "id": "4eafe78f",
   "metadata": {},
   "outputs": [],
   "source": [
    "from sklearn.preprocessing import StandardScaler\n",
    "scaler = StandardScaler()"
   ]
  },
  {
   "cell_type": "code",
   "execution_count": 46,
   "id": "1fd8a47b",
   "metadata": {},
   "outputs": [
    {
     "data": {
      "text/plain": [
       "StandardScaler()"
      ]
     },
     "execution_count": 46,
     "metadata": {},
     "output_type": "execute_result"
    }
   ],
   "source": [
    "scaler.fit(x_train)"
   ]
  },
  {
   "cell_type": "code",
   "execution_count": 47,
   "id": "392331bc",
   "metadata": {},
   "outputs": [],
   "source": [
    "x_train_scaled = scaler.transform(x_train)\n",
    "x_test_scaled = scaler.transform(x_test)"
   ]
  },
  {
   "cell_type": "code",
   "execution_count": 48,
   "id": "77accda4",
   "metadata": {},
   "outputs": [
    {
     "data": {
      "text/plain": [
       "0.0    27039\n",
       "1.0     3756\n",
       "Name: 재난일어난날, dtype: int64"
      ]
     },
     "execution_count": 48,
     "metadata": {},
     "output_type": "execute_result"
    }
   ],
   "source": [
    "y_train.value_counts()"
   ]
  },
  {
   "cell_type": "code",
   "execution_count": 49,
   "id": "81bef434",
   "metadata": {},
   "outputs": [],
   "source": [
    "import imblearn\n",
    "from imblearn.over_sampling import SMOTE"
   ]
  },
  {
   "cell_type": "code",
   "execution_count": 50,
   "id": "9f6d1a23",
   "metadata": {},
   "outputs": [],
   "source": [
    "smote = SMOTE(random_state=0)\n",
    "x_train_sm,y_train_sm = smote.fit_resample(x_train_scaled,y_train)"
   ]
  },
  {
   "cell_type": "code",
   "execution_count": 51,
   "id": "af4079f6",
   "metadata": {},
   "outputs": [
    {
     "data": {
      "text/plain": [
       "0.0    27039\n",
       "1.0    27039\n",
       "Name: 재난일어난날, dtype: int64"
      ]
     },
     "execution_count": 51,
     "metadata": {},
     "output_type": "execute_result"
    }
   ],
   "source": [
    "y_train_sm.value_counts()"
   ]
  },
  {
   "cell_type": "code",
   "execution_count": 52,
   "id": "1ff6f573",
   "metadata": {},
   "outputs": [
    {
     "name": "stdout",
     "output_type": "stream",
     "text": [
      "LogisticRegression\n",
      "              precision    recall  f1-score   support\n",
      "\n",
      "         0.0       0.98      0.81      0.89      6740\n",
      "         1.0       0.41      0.90      0.56       959\n",
      "\n",
      "    accuracy                           0.82      7699\n",
      "   macro avg       0.69      0.86      0.72      7699\n",
      "weighted avg       0.91      0.82      0.85      7699\n",
      "\n",
      "roc_auc_score : 0.9192316736957079\n",
      "--------------------------------------------------\n",
      "DecisionTreeClassifier\n",
      "              precision    recall  f1-score   support\n",
      "\n",
      "         0.0       0.93      0.89      0.91      6740\n",
      "         1.0       0.42      0.55      0.48       959\n",
      "\n",
      "    accuracy                           0.85      7699\n",
      "   macro avg       0.68      0.72      0.69      7699\n",
      "weighted avg       0.87      0.85      0.86      7699\n",
      "\n",
      "roc_auc_score : 0.720761534486653\n",
      "--------------------------------------------------\n",
      "RandomForestClassifier\n",
      "              precision    recall  f1-score   support\n",
      "\n",
      "         0.0       0.96      0.89      0.92      6740\n",
      "         1.0       0.49      0.72      0.58       959\n",
      "\n",
      "    accuracy                           0.87      7699\n",
      "   macro avg       0.72      0.81      0.75      7699\n",
      "weighted avg       0.90      0.87      0.88      7699\n",
      "\n",
      "roc_auc_score : 0.9189109575689316\n",
      "--------------------------------------------------\n",
      "LGBMClassifier\n",
      "              precision    recall  f1-score   support\n",
      "\n",
      "         0.0       0.95      0.90      0.93      6740\n",
      "         1.0       0.51      0.69      0.59       959\n",
      "\n",
      "    accuracy                           0.88      7699\n",
      "   macro avg       0.73      0.80      0.76      7699\n",
      "weighted avg       0.90      0.88      0.89      7699\n",
      "\n",
      "roc_auc_score : 0.9236116998728274\n",
      "--------------------------------------------------\n"
     ]
    }
   ],
   "source": [
    "models = [lr,dtc,rfc,lgbm]\n",
    "# result = []\n",
    "for i in models:\n",
    "    i.fit(x_train_sm,y_train_sm)\n",
    "    pred = i.predict(x_test_scaled)\n",
    "    proba = i.predict_proba(x_test_scaled)[:,1]\n",
    "    \n",
    "    print(i.__class__.__name__)\n",
    "    print(classification_report(y_test,pred))\n",
    "    print('roc_auc_score :',roc_auc_score(y_test,proba))\n",
    "    print('-'*50)\n",
    "    "
   ]
  },
  {
   "cell_type": "code",
   "execution_count": null,
   "id": "a30dcecd",
   "metadata": {},
   "outputs": [],
   "source": []
  },
  {
   "cell_type": "code",
   "execution_count": null,
   "id": "fb80d311",
   "metadata": {},
   "outputs": [],
   "source": []
  },
  {
   "cell_type": "code",
   "execution_count": null,
   "id": "a03b2c97",
   "metadata": {},
   "outputs": [],
   "source": []
  },
  {
   "cell_type": "code",
   "execution_count": null,
   "id": "a539f1d9",
   "metadata": {},
   "outputs": [],
   "source": []
  },
  {
   "cell_type": "code",
   "execution_count": null,
   "id": "ae6e6a23",
   "metadata": {},
   "outputs": [],
   "source": []
  },
  {
   "cell_type": "code",
   "execution_count": null,
   "id": "34b90cbd",
   "metadata": {},
   "outputs": [],
   "source": []
  },
  {
   "cell_type": "code",
   "execution_count": null,
   "id": "c375ab44",
   "metadata": {},
   "outputs": [],
   "source": []
  },
  {
   "cell_type": "code",
   "execution_count": null,
   "id": "2e761dcd",
   "metadata": {},
   "outputs": [],
   "source": []
  },
  {
   "cell_type": "code",
   "execution_count": null,
   "id": "2e4fcf51",
   "metadata": {},
   "outputs": [],
   "source": []
  },
  {
   "cell_type": "code",
   "execution_count": null,
   "id": "9ff493be",
   "metadata": {},
   "outputs": [],
   "source": []
  },
  {
   "cell_type": "code",
   "execution_count": null,
   "id": "fd3ff29f",
   "metadata": {},
   "outputs": [],
   "source": []
  },
  {
   "cell_type": "code",
   "execution_count": null,
   "id": "a5241dc3",
   "metadata": {},
   "outputs": [],
   "source": []
  }
 ],
 "metadata": {
  "kernelspec": {
   "display_name": "Python 3 (ipykernel)",
   "language": "python",
   "name": "python3"
  },
  "language_info": {
   "codemirror_mode": {
    "name": "ipython",
    "version": 3
   },
   "file_extension": ".py",
   "mimetype": "text/x-python",
   "name": "python",
   "nbconvert_exporter": "python",
   "pygments_lexer": "ipython3",
   "version": "3.9.7"
  }
 },
 "nbformat": 4,
 "nbformat_minor": 5
}
